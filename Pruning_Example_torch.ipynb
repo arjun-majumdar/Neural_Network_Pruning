{
 "cells": [
  {
   "cell_type": "code",
   "execution_count": null,
   "id": "f6cd67e8-5562-43ac-a741-32ba147a43aa",
   "metadata": {},
   "outputs": [],
   "source": []
  },
  {
   "cell_type": "code",
   "execution_count": 1,
   "id": "51bf1ed0-20e0-4d9a-bfde-31849b4b2785",
   "metadata": {
    "tags": []
   },
   "outputs": [
    {
     "name": "stdout",
     "output_type": "stream",
     "text": [
      "env: CUDA_VISIBLE_DEVICES=0\n"
     ]
    }
   ],
   "source": [
    "# Specify GPU to be used-\n",
    "# %env CUDA_DEVICE_ORDER = PCI_BUS_ID\n",
    "%env CUDA_VISIBLE_DEVICES = 0"
   ]
  },
  {
   "cell_type": "code",
   "execution_count": 2,
   "id": "8fcdccc6-ef4d-4e7b-9995-0f3b9ac8fd1e",
   "metadata": {
    "tags": []
   },
   "outputs": [
    {
     "name": "stderr",
     "output_type": "stream",
     "text": [
      "/home/majumdar/anaconda3/envs/torch-cuda-new/lib/python3.10/site-packages/torchvision/io/image.py:13: UserWarning: Failed to load image Python extension: /home/majumdar/anaconda3/envs/torch-cuda-new/lib/python3.10/site-packages/torchvision/image.so: undefined symbol: _ZN5torch3jit17parseSchemaOrNameERKNSt7__cxx1112basic_stringIcSt11char_traitsIcESaIcEEE\n",
      "  warn(f\"Failed to load image Python extension: {e}\")\n",
      "Matplotlib is building the font cache; this may take a moment.\n"
     ]
    }
   ],
   "source": [
    "import torch\n",
    "import torch.nn as nn\n",
    "import torchvision\n",
    "import torch.nn.functional as F\n",
    "\n",
    "import numpy as np\n",
    "import torchvision.transforms as transforms\n",
    "import matplotlib.pyplot as plt\n",
    "import os, pickle\n",
    "from tqdm import tqdm\n",
    "from tqdm import trange"
   ]
  },
  {
   "cell_type": "code",
   "execution_count": null,
   "id": "f5a7eecf-6de6-4cad-b263-57c76a38feee",
   "metadata": {},
   "outputs": [],
   "source": []
  },
  {
   "cell_type": "code",
   "execution_count": null,
   "id": "142805a8-f0e0-4ec2-8ece-21806c3ec986",
   "metadata": {},
   "outputs": [],
   "source": []
  },
  {
   "cell_type": "code",
   "execution_count": 3,
   "id": "0c21b4ff-e2fb-4b88-8b30-9a402fe6027f",
   "metadata": {
    "tags": []
   },
   "outputs": [
    {
     "name": "stdout",
     "output_type": "stream",
     "text": [
      "torch version: 1.13.1\n",
      "Number of GPU(s) available = 1\n",
      "Current GPU: 0\n",
      "Current GPU name: NVIDIA GeForce GTX TITAN X\n",
      "Available device is cuda\n"
     ]
    }
   ],
   "source": [
    "print(f\"torch version: {torch.__version__}\")\n",
    "\n",
    "\n",
    "# Check if there are multiple devices (i.e., GPU cards)-\n",
    "print(f\"Number of GPU(s) available = {torch.cuda.device_count()}\")\n",
    "\n",
    "if torch.cuda.is_available():\n",
    "    print(f\"Current GPU: {torch.cuda.current_device()}\")\n",
    "    print(f\"Current GPU name: {torch.cuda.get_device_name(torch.cuda.current_device())}\")\n",
    "else:\n",
    "    print(\"PyTorch does not have access to GPU\")\n",
    "\n",
    "# Device configuration-\n",
    "device = torch.device('cuda' if torch.cuda.is_available() else 'cpu')\n",
    "print(f'Available device is {device}')"
   ]
  },
  {
   "cell_type": "code",
   "execution_count": null,
   "id": "0ca00cc2-223b-4ec9-9248-003bfd823483",
   "metadata": {},
   "outputs": [],
   "source": []
  },
  {
   "cell_type": "code",
   "execution_count": null,
   "id": "237ed4e3-c09d-419c-9769-da5032a99516",
   "metadata": {},
   "outputs": [],
   "source": []
  },
  {
   "cell_type": "code",
   "execution_count": 4,
   "id": "5666922f-2b08-469a-bd59-624bfa8eb269",
   "metadata": {
    "tags": []
   },
   "outputs": [],
   "source": [
    "# Specify hyper-parameters\n",
    "batch_size = 4096\n",
    "num_classes = 10"
   ]
  },
  {
   "cell_type": "code",
   "execution_count": null,
   "id": "61a6da4f-c6eb-4022-bcf7-4593831ef91c",
   "metadata": {},
   "outputs": [],
   "source": []
  },
  {
   "cell_type": "code",
   "execution_count": null,
   "id": "51934ecc-4caa-40d5-86dc-d8ab67088a37",
   "metadata": {},
   "outputs": [],
   "source": []
  },
  {
   "cell_type": "code",
   "execution_count": 5,
   "id": "6eb6233c-a948-4c41-bdd9-22808152499d",
   "metadata": {
    "tags": []
   },
   "outputs": [],
   "source": [
    "# MNIST dataset statistics:\n",
    "# mean = tensor([0.1307]) & std dev = tensor([0.3081])\n",
    "mean = np.array([0.1307])\n",
    "std_dev = np.array([0.3081])\n",
    "\n",
    "transforms_apply = transforms.Compose([\n",
    "    transforms.ToTensor(),\n",
    "    transforms.Normalize(mean = mean, std = std_dev)\n",
    "    ])"
   ]
  },
  {
   "cell_type": "code",
   "execution_count": 6,
   "id": "f5d30661-0949-4586-98e8-991e06152d98",
   "metadata": {
    "tags": []
   },
   "outputs": [],
   "source": [
    "# MNIST dataset-\n",
    "train_dataset = torchvision.datasets.MNIST(\n",
    "        root = '/home/majumdar/Downloads/.data/', train = True,\n",
    "        transform = transforms_apply, download = True\n",
    "        )\n",
    "\n",
    "test_dataset = torchvision.datasets.MNIST(\n",
    "        root = '/home/majumdar/Downloads/.data/', train = False,\n",
    "        transform = transforms_apply\n",
    "        )"
   ]
  },
  {
   "cell_type": "code",
   "execution_count": 7,
   "id": "8e04bb28-ca0a-4815-b4c7-661bcdf4010a",
   "metadata": {
    "tags": []
   },
   "outputs": [],
   "source": [
    "# Create dataloader-\n",
    "train_loader = torch.utils.data.DataLoader(\n",
    "        dataset = train_dataset, batch_size = batch_size,\n",
    "        shuffle = True\n",
    "        )\n",
    "\n",
    "test_loader = torch.utils.data.DataLoader(\n",
    "        dataset = test_dataset, batch_size = batch_size,\n",
    "        shuffle = False\n",
    "        )"
   ]
  },
  {
   "cell_type": "code",
   "execution_count": 8,
   "id": "f1ff56b7-6fd6-47b6-8878-e36bac0a3f7b",
   "metadata": {
    "tags": []
   },
   "outputs": [
    {
     "data": {
      "text/plain": [
       "(60000, 10000)"
      ]
     },
     "execution_count": 8,
     "metadata": {},
     "output_type": "execute_result"
    }
   ],
   "source": [
    "len(train_dataset), len(test_dataset)"
   ]
  },
  {
   "cell_type": "code",
   "execution_count": null,
   "id": "53ed23b1-7716-4afa-a6b7-be7f6792549c",
   "metadata": {},
   "outputs": [],
   "source": []
  },
  {
   "cell_type": "code",
   "execution_count": null,
   "id": "485a1844-4d9e-46ee-8c2c-0d90b7fd2b34",
   "metadata": {},
   "outputs": [],
   "source": []
  },
  {
   "cell_type": "code",
   "execution_count": 9,
   "id": "236cdab6-5490-44c5-adba-e2cfe6ec6bbc",
   "metadata": {
    "tags": []
   },
   "outputs": [],
   "source": [
    "class LeNet300(nn.Module):\n",
    "    def __init__(self):\n",
    "        super().__init__()\n",
    "        \n",
    "        # Define layers-\n",
    "        self.fc1 = nn.Linear(in_features = 28 * 28 * 1, out_features = 300)\n",
    "        self.fc2 = nn.Linear(in_features = 300, out_features = 100)\n",
    "        self.output = nn.Linear(in_features = 100, out_features = 10)\n",
    "        \n",
    "        # self.weights_initialization()\n",
    "    \n",
    "    \n",
    "    def forward(self, x):\n",
    "        out = F.leaky_relu(self.fc1(x))\n",
    "        out = F.leaky_relu(self.fc2(out))\n",
    "        return self.output(out)   \n",
    "                "
   ]
  },
  {
   "cell_type": "code",
   "execution_count": null,
   "id": "c33a3eb5-2293-40d9-8b45-1f3daf2c8c77",
   "metadata": {},
   "outputs": [],
   "source": []
  },
  {
   "cell_type": "code",
   "execution_count": 10,
   "id": "4d48298b-028c-4e05-9c85-c3641d200378",
   "metadata": {
    "tags": []
   },
   "outputs": [],
   "source": [
    "# Initialize an instance of LeNet-300-100 dense neural network-\n",
    "model = LeNet300().to(device)"
   ]
  },
  {
   "cell_type": "code",
   "execution_count": null,
   "id": "125f0126-3c52-470e-b072-78df60aaba3d",
   "metadata": {},
   "outputs": [],
   "source": []
  },
  {
   "cell_type": "code",
   "execution_count": 11,
   "id": "c09f1e33-0a96-4ac5-83d0-9f9dbdb6e123",
   "metadata": {
    "tags": []
   },
   "outputs": [],
   "source": [
    "'''\n",
    "def initialize_weights(m):\n",
    "    if isinstance(m, nn.Conv2d):\n",
    "        # nn.init.kaiming_uniform_(m.weight.data, nonlinearity = 'relu')\n",
    "        nn.init.kaiming_normal_(m.weight.data)\n",
    "        if m.bias is not None:\n",
    "            nn.init.constant_(m.bias.data, 1)\n",
    "    elif isinstance(m, nn.BatchNorm2d):\n",
    "        nn.init.constant_(m.weight.data, 1)\n",
    "        if m.bias is not None:\n",
    "            nn.init.constant_(m.bias.data, 1)\n",
    "    elif isinstance(m, nn.Linear):\n",
    "        nn.init.kaiming_normal_(m.weight.data)\n",
    "        if m.bias is not None:\n",
    "            nn.init.constant_(m.bias.data, 1)\n",
    "        \n",
    "    return None\n",
    "'''\n",
    "\n",
    "@torch.no_grad()\n",
    "def init_weights(m):\n",
    "    # print(m)\n",
    "    if type(m) == nn.Conv2d:\n",
    "        nn.init.kaiming_normal_(m.weight.data)\n",
    "        if m.bias is not None:\n",
    "            m.bias.fill_(1.0)\n",
    "    elif type(m) == nn.Linear:\n",
    "        nn.init.kaiming_normal_(m.weight.data)\n",
    "        if m.bias is not None:\n",
    "            m.bias.fill_(1.0)\n",
    "    elif isinstance(m, nn.BatchNorm2d):\n",
    "        m.weight.fill_(1.0)\n",
    "        if m.bias is not None:\n",
    "            m.bias.fill_(1.0)\n",
    "        \n",
    "    return None\n"
   ]
  },
  {
   "cell_type": "code",
   "execution_count": 12,
   "id": "c14c7458-5fde-4c00-a167-0f8481c76fa4",
   "metadata": {
    "tags": []
   },
   "outputs": [
    {
     "data": {
      "text/plain": [
       "LeNet300(\n",
       "  (fc1): Linear(in_features=784, out_features=300, bias=True)\n",
       "  (fc2): Linear(in_features=300, out_features=100, bias=True)\n",
       "  (output): Linear(in_features=100, out_features=10, bias=True)\n",
       ")"
      ]
     },
     "execution_count": 12,
     "metadata": {},
     "output_type": "execute_result"
    }
   ],
   "source": [
    "model.apply(init_weights)"
   ]
  },
  {
   "cell_type": "code",
   "execution_count": null,
   "id": "23ddcccc-64f6-44e8-9f00-4c75bcb0a65b",
   "metadata": {},
   "outputs": [],
   "source": []
  },
  {
   "cell_type": "code",
   "execution_count": 13,
   "id": "8cb8fb7d-6a7a-4527-8e4b-37ef72b025e1",
   "metadata": {
    "tags": []
   },
   "outputs": [],
   "source": [
    "torch.save(model.state_dict(), \"LeNet300_random_params.pth\")\n",
    "# torch.save(model.state_dict(), \"LeNet5_random_params.pth\")"
   ]
  },
  {
   "cell_type": "code",
   "execution_count": null,
   "id": "9cc251b7-f856-4d35-8512-63686bd8d435",
   "metadata": {},
   "outputs": [],
   "source": []
  },
  {
   "cell_type": "code",
   "execution_count": 14,
   "id": "ccaf2d3d-96a8-4ed3-9f2b-a897aab2ff76",
   "metadata": {
    "tags": []
   },
   "outputs": [],
   "source": [
    "'''\n",
    "def count_trainable_params(model):\n",
    "    # Count number of layer-wise parameters and total parameters-\n",
    "    tot_params = 0\n",
    "    for param in model.parameters():\n",
    "        # print(f\"layer.shape = {param.shape} has {param.nelement()} parameters\")\n",
    "        tot_params += param.nelement()\n",
    "\n",
    "    return tot_params\n",
    "\n",
    "def surviving_params(model):\n",
    "    tot_params = 0\n",
    "    for param in model.parameters():\n",
    "        surviving_params = torch.count_nonzero(param).item()\n",
    "        tot_params += surviving_params\n",
    "    \n",
    "    return tot_params\n",
    "'''\n",
    "\n",
    "def count_surviving_params(model):\n",
    "    tot_params = 0\n",
    "    for param in model.parameters():\n",
    "        layer_nonzero_param = torch.count_nonzero(param).item()\n",
    "        tot_params += layer_nonzero_param\n",
    "        # print(f\"{param.size()} has {layer_nonzero_param} params\")\n",
    "    \n",
    "    return tot_params\n"
   ]
  },
  {
   "cell_type": "code",
   "execution_count": 15,
   "id": "85dbd1aa-f40e-4bc3-8380-8359ea5fc14a",
   "metadata": {
    "tags": []
   },
   "outputs": [],
   "source": [
    "orig_tot_params = count_surviving_params(model = model)"
   ]
  },
  {
   "cell_type": "code",
   "execution_count": 16,
   "id": "1049e934-d3fc-46ab-892b-4b501d4049f1",
   "metadata": {
    "tags": []
   },
   "outputs": [
    {
     "name": "stdout",
     "output_type": "stream",
     "text": [
      "LeNet-300-100 has 266610 non-zero params\n"
     ]
    }
   ],
   "source": [
    "print(f\"LeNet-300-100 has {orig_tot_params} non-zero params\")"
   ]
  },
  {
   "cell_type": "code",
   "execution_count": null,
   "id": "dcd4f55c-80ea-41d4-acbf-945d05216c77",
   "metadata": {},
   "outputs": [],
   "source": []
  },
  {
   "cell_type": "code",
   "execution_count": 17,
   "id": "b095f71f-4953-41b9-9657-e880bdbe302a",
   "metadata": {
    "tags": []
   },
   "outputs": [],
   "source": [
    "# Define loss function and optimizer-\n",
    "loss = nn.CrossEntropyLoss()\n",
    "\n",
    "'''\n",
    "optimizer = torch.optim.SGD(\n",
    "    params = model.parameters(), lr = 0.001,\n",
    "    momentum = 0.9, weight_decay = 5e-4\n",
    ")\n",
    "'''\n",
    "optimizer = torch.optim.Adam(\n",
    "    params = model.parameters(), lr = 0.001\n",
    ")"
   ]
  },
  {
   "cell_type": "code",
   "execution_count": null,
   "id": "3b2a9b1b-422e-4028-b752-89849bd9fec2",
   "metadata": {},
   "outputs": [],
   "source": []
  },
  {
   "cell_type": "code",
   "execution_count": null,
   "id": "7c32234c-2bc2-48a2-a03d-bb5ddd893b9a",
   "metadata": {},
   "outputs": [],
   "source": []
  },
  {
   "cell_type": "code",
   "execution_count": 18,
   "id": "ab6a0a00-5ee9-48c6-83d8-f4a643b90798",
   "metadata": {
    "tags": []
   },
   "outputs": [],
   "source": [
    "images, labels = next(iter(train_loader))\n",
    "images = images.view(-1, 28 * 28 * 1)\n",
    "images = images.to(device)\n",
    "labels = labels.to(device)\n",
    "\n",
    "pred = model(images)\n",
    "\n",
    "# Compute loss-\n",
    "J = loss(pred, labels)\n",
    "            \n",
    "# Empty accumulated gradients-\n",
    "optimizer.zero_grad()\n",
    "            \n",
    "# Perform backprop-\n",
    "J.backward()\n",
    "\n",
    "# J.item()\n",
    "\n",
    "# Preserve sparsity while training by zeroing-out gradients before weight update-\n",
    "for param in model.parameters():\n",
    "    wts = param.clone().detach()\n",
    "    gradient_t = param.grad.clone().detach()\n",
    "    gradient_t = torch.where(wts == 0., 0., gradient_t)\n",
    "    param.grad = gradient_t\n",
    "    \n",
    "# Update trainable parameters-\n",
    "optimizer.step()"
   ]
  },
  {
   "cell_type": "code",
   "execution_count": 23,
   "id": "469af900-a3bd-442b-a6c3-c6eabfea840f",
   "metadata": {
    "tags": []
   },
   "outputs": [
    {
     "name": "stdout",
     "output_type": "stream",
     "text": [
      "wts = 235200 & grads = 235200\n",
      "wts = 30000 & grads = 30000\n",
      "wts = 1000 & grads = 1000\n"
     ]
    }
   ],
   "source": [
    "# Sanity check-\n",
    "for param in model.parameters():\n",
    "    if len(param.size()) == 2:\n",
    "        print(f\"wts = {torch.count_nonzero(param)} &\"\n",
    "              f\" grads = {torch.count_nonzero(param.grad)}\"\n",
    "             )"
   ]
  },
  {
   "cell_type": "code",
   "execution_count": null,
   "id": "e963ea26-1843-4e64-b2f1-d8e3a28d8deb",
   "metadata": {},
   "outputs": [],
   "source": []
  },
  {
   "cell_type": "code",
   "execution_count": null,
   "id": "a8043989-d001-44a8-b909-692ddbde7d66",
   "metadata": {},
   "outputs": [],
   "source": []
  },
  {
   "cell_type": "code",
   "execution_count": 24,
   "id": "f5e721d2-8ed4-448b-8965-d94164f1310c",
   "metadata": {
    "tags": []
   },
   "outputs": [],
   "source": [
    "def train_model_progress(model, train_loader, train_dataset):\n",
    "    '''\n",
    "    Function to perform one epoch of training by using 'train_loader'.\n",
    "    Returns loss and number of correct predictions for this epoch.\n",
    "    '''\n",
    "    running_loss = 0.0\n",
    "    running_corrects = 0.0\n",
    "    \n",
    "    model.train()\n",
    "    \n",
    "    with tqdm(train_loader, unit = 'batch') as tepoch:\n",
    "        for images, labels in tepoch:\n",
    "            tepoch.set_description(f\"Training: \")\n",
    "            \n",
    "            images = images.view(-1, 28 * 28 * 1)\n",
    "            \n",
    "            images = images.to(device)\n",
    "            labels = labels.to(device)\n",
    "            \n",
    "            # Get model predictions-\n",
    "            outputs = model(images)\n",
    "            \n",
    "            # Compute loss-\n",
    "            J = loss(outputs, labels)\n",
    "            \n",
    "            # Empty accumulated gradients-\n",
    "            optimizer.zero_grad()\n",
    "            \n",
    "            # Perform backprop-\n",
    "            J.backward()\n",
    "            \n",
    "            for param in model.parameters():\n",
    "                wts = param.clone().detach()\n",
    "                gradient_t = param.grad.clone().detach()\n",
    "                gradient_t = torch.where(wts == 0., 0., gradient_t)\n",
    "                param.grad = gradient_t\n",
    "            \n",
    "            # Update parameters-\n",
    "            optimizer.step()\n",
    "            \n",
    "            '''\n",
    "            global step\n",
    "            optimizer.param_groups[0]['lr'] = custom_lr_scheduler.get_lr(step)\n",
    "            step += 1\n",
    "            '''\n",
    "            \n",
    "            # Compute model's performance statistics-\n",
    "            running_loss += J.item() * images.size(0)\n",
    "            _, predicted = torch.max(outputs, 1)\n",
    "            running_corrects += torch.sum(predicted == labels.data)\n",
    "            \n",
    "            tepoch.set_postfix(\n",
    "                loss = running_loss / len(train_dataset),\n",
    "                accuracy = (running_corrects.double().cpu().numpy() / len(train_dataset)) * 100\n",
    "            )\n",
    "            \n",
    "    \n",
    "    train_loss = running_loss / len(train_dataset)\n",
    "    train_acc = (running_corrects.double() / len(train_dataset)) * 100\n",
    "\n",
    "    return train_loss, train_acc.cpu().numpy()\n"
   ]
  },
  {
   "cell_type": "code",
   "execution_count": 25,
   "id": "f5799989-93d7-4b6e-bd3a-330215bee991",
   "metadata": {
    "tags": []
   },
   "outputs": [],
   "source": [
    "def test_model_progress(model, test_loader, test_dataset):\n",
    "    total = 0.0\n",
    "    correct = 0.0\n",
    "    running_loss_val = 0.0\n",
    "    \n",
    "    # Set model to evaluation mode-\n",
    "    model.eval()\n",
    "\n",
    "    with torch.no_grad():\n",
    "        with tqdm(test_loader, unit = 'batch') as tepoch:\n",
    "            for images, labels in tepoch:\n",
    "                tepoch.set_description(f\"Validation: \")\n",
    "                \n",
    "                images = images.view(-1, 28 * 28 * 1)\n",
    "                \n",
    "                images = images.to(device)\n",
    "                labels = labels.to(device)\n",
    "            \n",
    "                # Predict using trained model-\n",
    "                outputs = model(images)\n",
    "                _, y_pred = torch.max(outputs, 1)\n",
    "                \n",
    "                # Compute validation loss-\n",
    "                J_val = loss(outputs, labels)\n",
    "                \n",
    "                running_loss_val += J_val.item() * labels.size(0)\n",
    "    \n",
    "                # Total number of labels-\n",
    "                total += labels.size(0)\n",
    "\n",
    "                # Total number of correct predictions-\n",
    "                correct += (y_pred == labels).sum()\n",
    "                \n",
    "                tepoch.set_postfix(\n",
    "                    val_loss = running_loss_val / len(test_dataset),\n",
    "                    val_acc = 100 * (correct.cpu().numpy() / total)\n",
    "                )\n",
    "            \n",
    "        \n",
    "    # return (running_loss_val, correct, total)\n",
    "    val_loss = running_loss_val / len(test_dataset)\n",
    "    val_acc = (correct / total) * 100\n",
    "\n",
    "    return val_loss, val_acc.cpu().numpy()\n",
    " "
   ]
  },
  {
   "cell_type": "code",
   "execution_count": null,
   "id": "e2c8a74e-b4e2-4987-bb8d-b178307b13a1",
   "metadata": {},
   "outputs": [],
   "source": []
  },
  {
   "cell_type": "code",
   "execution_count": 26,
   "id": "a7fffd0c-8604-4e14-abee-49a849921be3",
   "metadata": {
    "tags": []
   },
   "outputs": [],
   "source": [
    "def train_until_convergence(\n",
    "    model, train_loader,\n",
    "    test_loader, train_dataset,\n",
    "    test_dataset, num_epochs\n",
    "):\n",
    "    \n",
    "    best_test_acc = 0\n",
    "    \n",
    "    # Python3 dict to contain training metrics-\n",
    "    training_history_lr_scheduler = {}\n",
    "    \n",
    "    for epoch in range(1, num_epochs + 1):\n",
    "        loss_train, acc_train = train_model_progress(\n",
    "            model = model, train_loader = train_loader,\n",
    "            train_dataset = train_dataset\n",
    "        )\n",
    "        \n",
    "        loss_test, acc_test = test_model_progress(\n",
    "            model = model, test_loader = test_loader,\n",
    "            test_dataset = test_dataset\n",
    "        )\n",
    "        \n",
    "        curr_lr = optimizer.param_groups[0]['lr']\n",
    "        \n",
    "        print(f\"{epoch}; loss = {loss_train:.4f}, test loss = {loss_test:.4f}\"\n",
    "              f\", acc = {acc_train:.2f}%, test acc = {acc_test:.2f}%,\"\n",
    "              f\" non-0 params = {count_surviving_params(model)}\"\n",
    "              # f\" & lr = {curr_lr:.6f}\"\n",
    "             )\n",
    "        \n",
    "        # Compute sparsity-\n",
    "        sparsity = ((orig_tot_params - count_surviving_params(model)) / orig_tot_params) * 100\n",
    "                   \n",
    "        training_history_lr_scheduler[epoch + 1] = {\n",
    "            'loss': loss_train, 'acc': acc_train,\n",
    "            'test_loss': loss_test, 'test_acc': acc_test,\n",
    "            # 'lr': curr_lr\n",
    "        }\n",
    "\n",
    "        # Save best weights achieved until now-\n",
    "        if (acc_test > best_test_acc):    \n",
    "            # update 'best_val_loss' variable to lowest loss encountered so far-\n",
    "            best_test_acc = acc_test\n",
    "\n",
    "            print(f\"Saving model with highest test acc = {acc_test:.2f}%\\n\")\n",
    "\n",
    "            # Save trained model with 'best' validation accuracy-\n",
    "            torch.save(model.state_dict(), f\"LeNet300_bestmodel_{sparsity:.2f}.pth\")\n",
    "            # torch.save(model.state_dict(), f\"LeNet5_bestmodel_{sparsity:.2f}.pth\")\n",
    "        \n",
    "        \n",
    "    return training_history_lr_scheduler\n"
   ]
  },
  {
   "cell_type": "code",
   "execution_count": null,
   "id": "baf8f303-1d44-4621-abc9-3351cbb9a3ab",
   "metadata": {},
   "outputs": [],
   "source": []
  },
  {
   "cell_type": "code",
   "execution_count": 27,
   "id": "189ec956-a4c7-4bda-9b56-3aec44cb8ce7",
   "metadata": {
    "tags": []
   },
   "outputs": [],
   "source": [
    "def prune_globally(model, pruning_percentile = 20):\n",
    "    # Python 3 list to hold layer-wise weights-\n",
    "    pruned_weights = []\n",
    "    \n",
    "    for param in model.parameters():\n",
    "        wts = np.copy(param.detach().cpu().numpy())\n",
    "        pruned_weights.append(wts)\n",
    "    \n",
    "    del param, wts\n",
    "    \n",
    "    # Flatten all numpy arrays-\n",
    "    pruned_weights_flattened = [layer.flatten() for layer in pruned_weights]\n",
    "\n",
    "    threshold = np.percentile(a = abs(np.concatenate(pruned_weights_flattened)), q = pruning_percentile)\n",
    "    # print(\"\\nFor p = {0:.2f}% of weights to be pruned, threshold = {1:.4f}\\n\".format(p, threshold))\n",
    "    \n",
    "    # Prune conv and dense layers-\n",
    "    # bias and batch-norm is NOT pruned.\n",
    "    for layer in pruned_weights:\n",
    "        if len(layer.shape) == 4:\n",
    "            layer[abs(layer) < threshold] = 0\n",
    "        elif len(layer.shape) == 2:\n",
    "            layer[abs(layer) < threshold] = 0\n",
    "    \n",
    "    \n",
    "    i = 0\n",
    "    model_d = dict()\n",
    "\n",
    "    for name, params in model.named_parameters():\n",
    "        if pruned_weights[i].shape == params.shape:\n",
    "            model_d[name] = torch.from_numpy(pruned_weights[i])\n",
    "\n",
    "        i += 1\n",
    "        \n",
    "        \n",
    "    state_d = model.state_dict()\n",
    "\n",
    "    for layer_name in model_d:\n",
    "        # if pruned_model.state_dict().get(layer_name) is not None:\n",
    "        if state_d.get(layer_name) is not None:\n",
    "            # print(layer_name)\n",
    "            state_d[layer_name] = model_d.get(layer_name)\n",
    "\n",
    "    model.load_state_dict(state_d)\n",
    "        \n",
    "    return None\n",
    "\n"
   ]
  },
  {
   "cell_type": "code",
   "execution_count": null,
   "id": "c205abeb-da8f-4445-a9ba-14c814e80ef0",
   "metadata": {},
   "outputs": [],
   "source": []
  },
  {
   "cell_type": "code",
   "execution_count": 28,
   "id": "1b6a3153-6df8-48d8-891a-94a9c7765ad7",
   "metadata": {
    "tags": []
   },
   "outputs": [],
   "source": [
    "def compute_pruning_percentage_iterative_rounds(orig_tot_params):\n",
    "    \"\"\"\n",
    "    Compute percentage of parameters to prune globally in\n",
    "    each iterative pruning round.\n",
    "\n",
    "    Current hardcoded pruning percentage = 20%.\n",
    "    \"\"\"\n",
    "\n",
    "    surviving_params = orig_tot_params\n",
    "\n",
    "    sparsity_percentage = []\n",
    "    while surviving_params >= 0.005 * orig_tot_params:\n",
    "        surviving_params = 0.8 * surviving_params\n",
    "        sparsity_percentage.append((orig_tot_params - surviving_params) / orig_tot_params * 100)\n",
    "\n",
    "    sparsity_percentage = np.asarray(sparsity_percentage)\n",
    "    sparsity_percentage = np.round(a = sparsity_percentage, decimals = 3)\n",
    "\n",
    "    return sparsity_percentage\n"
   ]
  },
  {
   "cell_type": "code",
   "execution_count": 29,
   "id": "1502c23f-6f86-42d4-ba37-9d3df169c11e",
   "metadata": {
    "tags": []
   },
   "outputs": [
    {
     "name": "stdout",
     "output_type": "stream",
     "text": [
      "number of iterative pruning rounds = 24\n"
     ]
    }
   ],
   "source": [
    "sparsity_percentage = compute_pruning_percentage_iterative_rounds(orig_tot_params)\n",
    "print(f\"number of iterative pruning rounds = {sparsity_percentage.size}\")"
   ]
  },
  {
   "cell_type": "code",
   "execution_count": 30,
   "id": "d5cf71b1-ddf2-4568-beff-64f3523cd4c5",
   "metadata": {
    "tags": []
   },
   "outputs": [
    {
     "data": {
      "text/plain": [
       "array([20.   , 36.   , 48.8  , 59.04 , 67.232, 73.786, 79.028, 83.223,\n",
       "       86.578, 89.263, 91.41 , 93.128, 94.502, 95.602, 96.482, 97.185,\n",
       "       97.748, 98.199, 98.559, 98.847, 99.078, 99.262, 99.41 , 99.528])"
      ]
     },
     "execution_count": 30,
     "metadata": {},
     "output_type": "execute_result"
    }
   ],
   "source": [
    "sparsity_percentage"
   ]
  },
  {
   "cell_type": "code",
   "execution_count": null,
   "id": "6e7bc460-c001-4d9a-a03a-b3efbcd0f479",
   "metadata": {},
   "outputs": [],
   "source": []
  },
  {
   "cell_type": "code",
   "execution_count": 31,
   "id": "e739fcad-9e90-4816-8c4b-631b909c0667",
   "metadata": {
    "tags": []
   },
   "outputs": [],
   "source": [
    "# Define number of training epochs-\n",
    "num_training_epochs = 20"
   ]
  },
  {
   "cell_type": "code",
   "execution_count": null,
   "id": "2a9c2473-db6c-40aa-a831-e43a6d202d91",
   "metadata": {},
   "outputs": [],
   "source": []
  },
  {
   "cell_type": "code",
   "execution_count": 32,
   "id": "838bfc1e-cc42-4417-a4d4-c6d598ca93c3",
   "metadata": {
    "tags": []
   },
   "outputs": [
    {
     "name": "stderr",
     "output_type": "stream",
     "text": [
      "Training: : 100%|█████████████████████████████████████████████████████████████████████████████████████████| 15/15 [00:11<00:00,  1.34batch/s, accuracy=60.7, loss=1.39]\n",
      "Validation: : 100%|█████████████████████████████████████████████████████████████████████████████████████| 3/3 [00:01<00:00,  1.70batch/s, val_acc=82.1, val_loss=0.582]\n"
     ]
    },
    {
     "name": "stdout",
     "output_type": "stream",
     "text": [
      "1; loss = 1.3937, test loss = 0.5815, acc = 60.69%, test acc = 82.11%, non-0 params = 266610\n",
      "Saving model with highest test acc = 82.11%\n",
      "\n"
     ]
    },
    {
     "name": "stderr",
     "output_type": "stream",
     "text": [
      "Training: : 100%|████████████████████████████████████████████████████████████████████████████████████████| 15/15 [00:11<00:00,  1.35batch/s, accuracy=85.4, loss=0.478]\n",
      "Validation: : 100%|███████████████████████████████████████████████████████████████████████████████████████| 3/3 [00:01<00:00,  1.59batch/s, val_acc=89, val_loss=0.377]\n"
     ]
    },
    {
     "name": "stdout",
     "output_type": "stream",
     "text": [
      "2; loss = 0.4776, test loss = 0.3775, acc = 85.41%, test acc = 89.04%, non-0 params = 266610\n",
      "Saving model with highest test acc = 89.04%\n",
      "\n"
     ]
    },
    {
     "name": "stderr",
     "output_type": "stream",
     "text": [
      "Training: : 100%|████████████████████████████████████████████████████████████████████████████████████████| 15/15 [00:10<00:00,  1.38batch/s, accuracy=89.7, loss=0.346]\n",
      "Validation: : 100%|█████████████████████████████████████████████████████████████████████████████████████| 3/3 [00:01<00:00,  1.63batch/s, val_acc=91.3, val_loss=0.305]\n"
     ]
    },
    {
     "name": "stdout",
     "output_type": "stream",
     "text": [
      "3; loss = 0.3461, test loss = 0.3052, acc = 89.75%, test acc = 91.28%, non-0 params = 266610\n",
      "Saving model with highest test acc = 91.28%\n",
      "\n"
     ]
    },
    {
     "name": "stderr",
     "output_type": "stream",
     "text": [
      "Training: : 100%|████████████████████████████████████████████████████████████████████████████████████████| 15/15 [00:10<00:00,  1.38batch/s, accuracy=91.7, loss=0.286]\n",
      "Validation: : 100%|█████████████████████████████████████████████████████████████████████████████████████| 3/3 [00:01<00:00,  1.65batch/s, val_acc=92.3, val_loss=0.268]\n"
     ]
    },
    {
     "name": "stdout",
     "output_type": "stream",
     "text": [
      "4; loss = 0.2857, test loss = 0.2679, acc = 91.67%, test acc = 92.33%, non-0 params = 266610\n",
      "Saving model with highest test acc = 92.33%\n",
      "\n"
     ]
    },
    {
     "name": "stderr",
     "output_type": "stream",
     "text": [
      "Training: : 100%|████████████████████████████████████████████████████████████████████████████████████████| 15/15 [00:10<00:00,  1.37batch/s, accuracy=92.8, loss=0.249]\n",
      "Validation: : 100%|███████████████████████████████████████████████████████████████████████████████████████| 3/3 [00:01<00:00,  1.69batch/s, val_acc=93, val_loss=0.242]\n"
     ]
    },
    {
     "name": "stdout",
     "output_type": "stream",
     "text": [
      "5; loss = 0.2488, test loss = 0.2420, acc = 92.75%, test acc = 92.97%, non-0 params = 266610\n",
      "Saving model with highest test acc = 92.97%\n",
      "\n"
     ]
    },
    {
     "name": "stderr",
     "output_type": "stream",
     "text": [
      "Training: : 100%|████████████████████████████████████████████████████████████████████████████████████████| 15/15 [00:11<00:00,  1.31batch/s, accuracy=93.6, loss=0.222]\n",
      "Validation: : 100%|█████████████████████████████████████████████████████████████████████████████████████| 3/3 [00:01<00:00,  1.70batch/s, val_acc=93.7, val_loss=0.218]\n"
     ]
    },
    {
     "name": "stdout",
     "output_type": "stream",
     "text": [
      "6; loss = 0.2221, test loss = 0.2182, acc = 93.61%, test acc = 93.66%, non-0 params = 266610\n",
      "Saving model with highest test acc = 93.66%\n",
      "\n"
     ]
    },
    {
     "name": "stderr",
     "output_type": "stream",
     "text": [
      "Training: : 100%|████████████████████████████████████████████████████████████████████████████████████████| 15/15 [00:10<00:00,  1.39batch/s, accuracy=94.3, loss=0.201]\n",
      "Validation: : 100%|█████████████████████████████████████████████████████████████████████████████████████| 3/3 [00:01<00:00,  1.73batch/s, val_acc=94.1, val_loss=0.201]\n"
     ]
    },
    {
     "name": "stdout",
     "output_type": "stream",
     "text": [
      "7; loss = 0.2006, test loss = 0.2011, acc = 94.26%, test acc = 94.06%, non-0 params = 266610\n",
      "Saving model with highest test acc = 94.06%\n",
      "\n"
     ]
    },
    {
     "name": "stderr",
     "output_type": "stream",
     "text": [
      "Training: : 100%|████████████████████████████████████████████████████████████████████████████████████████| 15/15 [00:10<00:00,  1.37batch/s, accuracy=94.8, loss=0.183]\n",
      "Validation: : 100%|█████████████████████████████████████████████████████████████████████████████████████| 3/3 [00:01<00:00,  1.70batch/s, val_acc=94.5, val_loss=0.187]\n"
     ]
    },
    {
     "name": "stdout",
     "output_type": "stream",
     "text": [
      "8; loss = 0.1828, test loss = 0.1869, acc = 94.80%, test acc = 94.51%, non-0 params = 266610\n",
      "Saving model with highest test acc = 94.51%\n",
      "\n"
     ]
    },
    {
     "name": "stderr",
     "output_type": "stream",
     "text": [
      "Training: : 100%|████████████████████████████████████████████████████████████████████████████████████████| 15/15 [00:10<00:00,  1.39batch/s, accuracy=95.3, loss=0.167]\n",
      "Validation: : 100%|█████████████████████████████████████████████████████████████████████████████████████| 3/3 [00:01<00:00,  1.61batch/s, val_acc=94.8, val_loss=0.175]\n"
     ]
    },
    {
     "name": "stdout",
     "output_type": "stream",
     "text": [
      "9; loss = 0.1675, test loss = 0.1752, acc = 95.26%, test acc = 94.82%, non-0 params = 266610\n",
      "Saving model with highest test acc = 94.82%\n",
      "\n"
     ]
    },
    {
     "name": "stderr",
     "output_type": "stream",
     "text": [
      "Training: : 100%|████████████████████████████████████████████████████████████████████████████████████████| 15/15 [00:10<00:00,  1.38batch/s, accuracy=95.6, loss=0.155]\n",
      "Validation: : 100%|█████████████████████████████████████████████████████████████████████████████████████| 3/3 [00:01<00:00,  1.67batch/s, val_acc=95.1, val_loss=0.164]\n"
     ]
    },
    {
     "name": "stdout",
     "output_type": "stream",
     "text": [
      "10; loss = 0.1548, test loss = 0.1641, acc = 95.64%, test acc = 95.12%, non-0 params = 266610\n",
      "Saving model with highest test acc = 95.12%\n",
      "\n"
     ]
    },
    {
     "name": "stderr",
     "output_type": "stream",
     "text": [
      "Training: : 100%|██████████████████████████████████████████████████████████████████████████████████████████| 15/15 [00:10<00:00,  1.38batch/s, accuracy=96, loss=0.144]\n",
      "Validation: : 100%|█████████████████████████████████████████████████████████████████████████████████████| 3/3 [00:01<00:00,  1.64batch/s, val_acc=95.4, val_loss=0.155]\n"
     ]
    },
    {
     "name": "stdout",
     "output_type": "stream",
     "text": [
      "11; loss = 0.1435, test loss = 0.1546, acc = 95.96%, test acc = 95.38%, non-0 params = 266610\n",
      "Saving model with highest test acc = 95.38%\n",
      "\n"
     ]
    },
    {
     "name": "stderr",
     "output_type": "stream",
     "text": [
      "Training: : 100%|████████████████████████████████████████████████████████████████████████████████████████| 15/15 [00:10<00:00,  1.40batch/s, accuracy=96.2, loss=0.133]\n",
      "Validation: : 100%|█████████████████████████████████████████████████████████████████████████████████████| 3/3 [00:01<00:00,  1.74batch/s, val_acc=95.7, val_loss=0.146]\n"
     ]
    },
    {
     "name": "stdout",
     "output_type": "stream",
     "text": [
      "12; loss = 0.1334, test loss = 0.1458, acc = 96.20%, test acc = 95.68%, non-0 params = 266610\n",
      "Saving model with highest test acc = 95.68%\n",
      "\n"
     ]
    },
    {
     "name": "stderr",
     "output_type": "stream",
     "text": [
      "Training: : 100%|████████████████████████████████████████████████████████████████████████████████████████| 15/15 [00:10<00:00,  1.36batch/s, accuracy=96.5, loss=0.124]\n",
      "Validation: : 100%|███████████████████████████████████████████████████████████████████████████████████████| 3/3 [00:01<00:00,  1.72batch/s, val_acc=96, val_loss=0.139]\n"
     ]
    },
    {
     "name": "stdout",
     "output_type": "stream",
     "text": [
      "13; loss = 0.1241, test loss = 0.1386, acc = 96.51%, test acc = 96.00%, non-0 params = 266610\n",
      "Saving model with highest test acc = 96.00%\n",
      "\n"
     ]
    },
    {
     "name": "stderr",
     "output_type": "stream",
     "text": [
      "Training: : 100%|████████████████████████████████████████████████████████████████████████████████████████| 15/15 [00:10<00:00,  1.40batch/s, accuracy=96.8, loss=0.116]\n",
      "Validation: : 100%|█████████████████████████████████████████████████████████████████████████████████████| 3/3 [00:01<00:00,  1.73batch/s, val_acc=96.1, val_loss=0.132]\n"
     ]
    },
    {
     "name": "stdout",
     "output_type": "stream",
     "text": [
      "14; loss = 0.1159, test loss = 0.1320, acc = 96.82%, test acc = 96.11%, non-0 params = 266610\n",
      "Saving model with highest test acc = 96.11%\n",
      "\n"
     ]
    },
    {
     "name": "stderr",
     "output_type": "stream",
     "text": [
      "Training: : 100%|██████████████████████████████████████████████████████████████████████████████████████████| 15/15 [00:10<00:00,  1.38batch/s, accuracy=97, loss=0.108]\n",
      "Validation: : 100%|█████████████████████████████████████████████████████████████████████████████████████| 3/3 [00:01<00:00,  1.65batch/s, val_acc=96.3, val_loss=0.126]\n"
     ]
    },
    {
     "name": "stdout",
     "output_type": "stream",
     "text": [
      "15; loss = 0.1081, test loss = 0.1264, acc = 97.02%, test acc = 96.29%, non-0 params = 266610\n",
      "Saving model with highest test acc = 96.29%\n",
      "\n"
     ]
    },
    {
     "name": "stderr",
     "output_type": "stream",
     "text": [
      "Training: : 100%|████████████████████████████████████████████████████████████████████████████████████████| 15/15 [00:11<00:00,  1.36batch/s, accuracy=97.2, loss=0.101]\n",
      "Validation: : 100%|█████████████████████████████████████████████████████████████████████████████████████| 3/3 [00:01<00:00,  1.71batch/s, val_acc=96.5, val_loss=0.121]\n"
     ]
    },
    {
     "name": "stdout",
     "output_type": "stream",
     "text": [
      "16; loss = 0.1013, test loss = 0.1210, acc = 97.21%, test acc = 96.47%, non-0 params = 266610\n",
      "Saving model with highest test acc = 96.47%\n",
      "\n"
     ]
    },
    {
     "name": "stderr",
     "output_type": "stream",
     "text": [
      "Training: : 100%|████████████████████████████████████████████████████████████████████████████████████████| 15/15 [00:10<00:00,  1.39batch/s, accuracy=97.4, loss=0.095]\n",
      "Validation: : 100%|█████████████████████████████████████████████████████████████████████████████████████| 3/3 [00:01<00:00,  1.71batch/s, val_acc=96.5, val_loss=0.117]\n"
     ]
    },
    {
     "name": "stdout",
     "output_type": "stream",
     "text": [
      "17; loss = 0.0950, test loss = 0.1167, acc = 97.40%, test acc = 96.50%, non-0 params = 266610\n",
      "Saving model with highest test acc = 96.50%\n",
      "\n"
     ]
    },
    {
     "name": "stderr",
     "output_type": "stream",
     "text": [
      "Training: : 100%|███████████████████████████████████████████████████████████████████████████████████████| 15/15 [00:10<00:00,  1.40batch/s, accuracy=97.6, loss=0.0895]\n",
      "Validation: : 100%|█████████████████████████████████████████████████████████████████████████████████████| 3/3 [00:01<00:00,  1.70batch/s, val_acc=96.7, val_loss=0.112]\n"
     ]
    },
    {
     "name": "stdout",
     "output_type": "stream",
     "text": [
      "18; loss = 0.0895, test loss = 0.1120, acc = 97.56%, test acc = 96.70%, non-0 params = 266610\n",
      "Saving model with highest test acc = 96.70%\n",
      "\n"
     ]
    },
    {
     "name": "stderr",
     "output_type": "stream",
     "text": [
      "Training: : 100%|███████████████████████████████████████████████████████████████████████████████████████| 15/15 [00:10<00:00,  1.39batch/s, accuracy=97.7, loss=0.0843]\n",
      "Validation: : 100%|█████████████████████████████████████████████████████████████████████████████████████| 3/3 [00:01<00:00,  1.71batch/s, val_acc=96.8, val_loss=0.109]\n"
     ]
    },
    {
     "name": "stdout",
     "output_type": "stream",
     "text": [
      "19; loss = 0.0843, test loss = 0.1085, acc = 97.69%, test acc = 96.82%, non-0 params = 266610\n",
      "Saving model with highest test acc = 96.82%\n",
      "\n"
     ]
    },
    {
     "name": "stderr",
     "output_type": "stream",
     "text": [
      "Training: : 100%|███████████████████████████████████████████████████████████████████████████████████████| 15/15 [00:11<00:00,  1.35batch/s, accuracy=97.9, loss=0.0791]\n",
      "Validation: : 100%|█████████████████████████████████████████████████████████████████████████████████████| 3/3 [00:01<00:00,  1.71batch/s, val_acc=96.9, val_loss=0.107]"
     ]
    },
    {
     "name": "stdout",
     "output_type": "stream",
     "text": [
      "20; loss = 0.0791, test loss = 0.1067, acc = 97.86%, test acc = 96.94%, non-0 params = 266610\n",
      "Saving model with highest test acc = 96.94%\n",
      "\n"
     ]
    },
    {
     "name": "stderr",
     "output_type": "stream",
     "text": [
      "\n"
     ]
    }
   ],
   "source": [
    "# Train until convergence randomly initialized model-\n",
    "history_pr = train_until_convergence(\n",
    "    model = model, train_loader = train_loader,\n",
    "    test_loader = test_loader, train_dataset = train_dataset,\n",
    "    test_dataset = test_dataset, num_epochs = num_training_epochs\n",
    ")"
   ]
  },
  {
   "cell_type": "code",
   "execution_count": 33,
   "id": "4e51f53b-9e13-4a2b-b721-6c6323c07fde",
   "metadata": {
    "tags": []
   },
   "outputs": [
    {
     "data": {
      "text/plain": [
       "266610"
      ]
     },
     "execution_count": 33,
     "metadata": {},
     "output_type": "execute_result"
    }
   ],
   "source": [
    "count_surviving_params(model)"
   ]
  },
  {
   "cell_type": "code",
   "execution_count": null,
   "id": "1284e48b-8ff1-45ba-98bb-fda5173cf11a",
   "metadata": {},
   "outputs": [],
   "source": []
  },
  {
   "cell_type": "code",
   "execution_count": null,
   "id": "7745830c-a937-4ee6-9394-6d976379fe80",
   "metadata": {},
   "outputs": [],
   "source": []
  },
  {
   "cell_type": "code",
   "execution_count": 34,
   "id": "032769eb-2e0f-4c2c-888a-9928204a49c7",
   "metadata": {
    "tags": []
   },
   "outputs": [
    {
     "data": {
      "text/plain": [
       "20.0"
      ]
     },
     "execution_count": 34,
     "metadata": {},
     "output_type": "execute_result"
    }
   ],
   "source": [
    "sparsity_percentage[0]"
   ]
  },
  {
   "cell_type": "code",
   "execution_count": 35,
   "id": "3e8af1d2-45cb-4e9d-8594-49d894fff8de",
   "metadata": {
    "tags": []
   },
   "outputs": [],
   "source": [
    "prune_globally(model, pruning_percentile = sparsity_percentage[0])"
   ]
  },
  {
   "cell_type": "code",
   "execution_count": 36,
   "id": "4a87c173-88e0-4dcc-8a69-71fa01a00a7b",
   "metadata": {
    "tags": []
   },
   "outputs": [
    {
     "data": {
      "text/plain": [
       "213288"
      ]
     },
     "execution_count": 36,
     "metadata": {},
     "output_type": "execute_result"
    }
   ],
   "source": [
    "count_surviving_params(model)"
   ]
  },
  {
   "cell_type": "code",
   "execution_count": 37,
   "id": "720773ca-f589-456f-94b0-ebb407c0d036",
   "metadata": {
    "tags": []
   },
   "outputs": [
    {
     "name": "stderr",
     "output_type": "stream",
     "text": [
      "Training: : 100%|█████████████████████████████████████████████████████████████████████████████████████████| 15/15 [00:10<00:00,  1.39batch/s, accuracy=98, loss=0.0751]\n",
      "Validation: : 100%|█████████████████████████████████████████████████████████████████████████████████████| 3/3 [00:01<00:00,  1.70batch/s, val_acc=96.9, val_loss=0.103]\n"
     ]
    },
    {
     "name": "stdout",
     "output_type": "stream",
     "text": [
      "1; loss = 0.0751, test loss = 0.1033, acc = 97.96%, test acc = 96.91%, non-0 params = 266610\n",
      "Saving model with highest test acc = 96.91%\n",
      "\n"
     ]
    },
    {
     "name": "stderr",
     "output_type": "stream",
     "text": [
      "Training: : 100%|███████████████████████████████████████████████████████████████████████████████████████| 15/15 [00:10<00:00,  1.41batch/s, accuracy=98.1, loss=0.0706]\n",
      "Validation: : 100%|████████████████████████████████████████████████████████████████████████████████████| 3/3 [00:01<00:00,  1.70batch/s, val_acc=97.1, val_loss=0.0996]\n"
     ]
    },
    {
     "name": "stdout",
     "output_type": "stream",
     "text": [
      "2; loss = 0.0706, test loss = 0.0996, acc = 98.12%, test acc = 97.06%, non-0 params = 266610\n",
      "Saving model with highest test acc = 97.06%\n",
      "\n"
     ]
    },
    {
     "name": "stderr",
     "output_type": "stream",
     "text": [
      "Training: : 100%|███████████████████████████████████████████████████████████████████████████████████████| 15/15 [00:10<00:00,  1.38batch/s, accuracy=98.2, loss=0.0666]\n",
      "Validation: : 100%|████████████████████████████████████████████████████████████████████████████████████| 3/3 [00:01<00:00,  1.71batch/s, val_acc=97.1, val_loss=0.0967]\n"
     ]
    },
    {
     "name": "stdout",
     "output_type": "stream",
     "text": [
      "3; loss = 0.0666, test loss = 0.0967, acc = 98.23%, test acc = 97.14%, non-0 params = 266610\n",
      "Saving model with highest test acc = 97.14%\n",
      "\n"
     ]
    },
    {
     "name": "stderr",
     "output_type": "stream",
     "text": [
      "Training: : 100%|███████████████████████████████████████████████████████████████████████████████████████| 15/15 [00:10<00:00,  1.38batch/s, accuracy=98.4, loss=0.0618]\n",
      "Validation: : 100%|████████████████████████████████████████████████████████████████████████████████████| 3/3 [00:01<00:00,  1.69batch/s, val_acc=97.2, val_loss=0.0939]\n"
     ]
    },
    {
     "name": "stdout",
     "output_type": "stream",
     "text": [
      "4; loss = 0.0618, test loss = 0.0939, acc = 98.43%, test acc = 97.17%, non-0 params = 266610\n",
      "Saving model with highest test acc = 97.17%\n",
      "\n"
     ]
    },
    {
     "name": "stderr",
     "output_type": "stream",
     "text": [
      "Training: : 100%|████████████████████████████████████████████████████████████████████████████████████████| 15/15 [00:10<00:00,  1.41batch/s, accuracy=98.5, loss=0.058]\n",
      "Validation: : 100%|████████████████████████████████████████████████████████████████████████████████████| 3/3 [00:01<00:00,  1.73batch/s, val_acc=97.2, val_loss=0.0925]\n"
     ]
    },
    {
     "name": "stdout",
     "output_type": "stream",
     "text": [
      "5; loss = 0.0580, test loss = 0.0925, acc = 98.50%, test acc = 97.24%, non-0 params = 266610\n",
      "Saving model with highest test acc = 97.24%\n",
      "\n"
     ]
    },
    {
     "name": "stderr",
     "output_type": "stream",
     "text": [
      "Training: : 100%|███████████████████████████████████████████████████████████████████████████████████████| 15/15 [00:10<00:00,  1.39batch/s, accuracy=98.6, loss=0.0546]\n",
      "Validation: : 100%|████████████████████████████████████████████████████████████████████████████████████| 3/3 [00:01<00:00,  1.72batch/s, val_acc=97.3, val_loss=0.0904]\n"
     ]
    },
    {
     "name": "stdout",
     "output_type": "stream",
     "text": [
      "6; loss = 0.0546, test loss = 0.0904, acc = 98.61%, test acc = 97.33%, non-0 params = 266610\n",
      "Saving model with highest test acc = 97.33%\n",
      "\n"
     ]
    },
    {
     "name": "stderr",
     "output_type": "stream",
     "text": [
      "Training: : 100%|███████████████████████████████████████████████████████████████████████████████████████| 15/15 [00:10<00:00,  1.39batch/s, accuracy=98.7, loss=0.0515]\n",
      "Validation: : 100%|████████████████████████████████████████████████████████████████████████████████████| 3/3 [00:01<00:00,  1.73batch/s, val_acc=97.3, val_loss=0.0889]\n"
     ]
    },
    {
     "name": "stdout",
     "output_type": "stream",
     "text": [
      "7; loss = 0.0515, test loss = 0.0889, acc = 98.69%, test acc = 97.32%, non-0 params = 266610\n"
     ]
    },
    {
     "name": "stderr",
     "output_type": "stream",
     "text": [
      "Training: : 100%|███████████████████████████████████████████████████████████████████████████████████████| 15/15 [00:10<00:00,  1.39batch/s, accuracy=98.8, loss=0.0484]\n",
      "Validation: : 100%|████████████████████████████████████████████████████████████████████████████████████| 3/3 [00:01<00:00,  1.70batch/s, val_acc=97.3, val_loss=0.0875]\n"
     ]
    },
    {
     "name": "stdout",
     "output_type": "stream",
     "text": [
      "8; loss = 0.0484, test loss = 0.0875, acc = 98.76%, test acc = 97.32%, non-0 params = 266610\n"
     ]
    },
    {
     "name": "stderr",
     "output_type": "stream",
     "text": [
      "Training: : 100%|███████████████████████████████████████████████████████████████████████████████████████| 15/15 [00:10<00:00,  1.38batch/s, accuracy=98.8, loss=0.0461]\n",
      "Validation: : 100%|████████████████████████████████████████████████████████████████████████████████████| 3/3 [00:01<00:00,  1.72batch/s, val_acc=97.4, val_loss=0.0862]\n"
     ]
    },
    {
     "name": "stdout",
     "output_type": "stream",
     "text": [
      "9; loss = 0.0461, test loss = 0.0862, acc = 98.84%, test acc = 97.38%, non-0 params = 266610\n",
      "Saving model with highest test acc = 97.38%\n",
      "\n"
     ]
    },
    {
     "name": "stderr",
     "output_type": "stream",
     "text": [
      "Training: : 100%|███████████████████████████████████████████████████████████████████████████████████████| 15/15 [00:10<00:00,  1.40batch/s, accuracy=98.9, loss=0.0433]\n",
      "Validation: : 100%|█████████████████████████████████████████████████████████████████████████████████████| 3/3 [00:01<00:00,  1.72batch/s, val_acc=97.5, val_loss=0.085]\n"
     ]
    },
    {
     "name": "stdout",
     "output_type": "stream",
     "text": [
      "10; loss = 0.0433, test loss = 0.0850, acc = 98.91%, test acc = 97.49%, non-0 params = 266610\n",
      "Saving model with highest test acc = 97.49%\n",
      "\n"
     ]
    },
    {
     "name": "stderr",
     "output_type": "stream",
     "text": [
      "Training: : 100%|█████████████████████████████████████████████████████████████████████████████████████████| 15/15 [00:10<00:00,  1.39batch/s, accuracy=99, loss=0.0408]\n",
      "Validation: : 100%|████████████████████████████████████████████████████████████████████████████████████| 3/3 [00:01<00:00,  1.66batch/s, val_acc=97.5, val_loss=0.0834]\n"
     ]
    },
    {
     "name": "stdout",
     "output_type": "stream",
     "text": [
      "11; loss = 0.0408, test loss = 0.0834, acc = 99.01%, test acc = 97.45%, non-0 params = 266610\n"
     ]
    },
    {
     "name": "stderr",
     "output_type": "stream",
     "text": [
      "Training: : 100%|███████████████████████████████████████████████████████████████████████████████████████| 15/15 [00:11<00:00,  1.32batch/s, accuracy=99.1, loss=0.0387]\n",
      "Validation: : 100%|█████████████████████████████████████████████████████████████████████████████████████| 3/3 [00:01<00:00,  1.65batch/s, val_acc=97.5, val_loss=0.083]\n"
     ]
    },
    {
     "name": "stdout",
     "output_type": "stream",
     "text": [
      "12; loss = 0.0387, test loss = 0.0830, acc = 99.07%, test acc = 97.55%, non-0 params = 266610\n",
      "Saving model with highest test acc = 97.55%\n",
      "\n"
     ]
    },
    {
     "name": "stderr",
     "output_type": "stream",
     "text": [
      "Training: : 100%|███████████████████████████████████████████████████████████████████████████████████████| 15/15 [00:11<00:00,  1.35batch/s, accuracy=99.2, loss=0.0366]\n",
      "Validation: : 100%|████████████████████████████████████████████████████████████████████████████████████| 3/3 [00:01<00:00,  1.71batch/s, val_acc=97.5, val_loss=0.0817]\n"
     ]
    },
    {
     "name": "stdout",
     "output_type": "stream",
     "text": [
      "13; loss = 0.0366, test loss = 0.0817, acc = 99.15%, test acc = 97.49%, non-0 params = 266610\n"
     ]
    },
    {
     "name": "stderr",
     "output_type": "stream",
     "text": [
      "Training: : 100%|████████████████████████████████████████████████████████████████████████████████████████| 15/15 [00:10<00:00,  1.41batch/s, accuracy=99.2, loss=0.035]\n",
      "Validation: : 100%|████████████████████████████████████████████████████████████████████████████████████| 3/3 [00:01<00:00,  1.74batch/s, val_acc=97.5, val_loss=0.0802]\n"
     ]
    },
    {
     "name": "stdout",
     "output_type": "stream",
     "text": [
      "14; loss = 0.0350, test loss = 0.0802, acc = 99.19%, test acc = 97.53%, non-0 params = 266610\n"
     ]
    },
    {
     "name": "stderr",
     "output_type": "stream",
     "text": [
      "Training: : 100%|███████████████████████████████████████████████████████████████████████████████████████| 15/15 [00:10<00:00,  1.41batch/s, accuracy=99.3, loss=0.0325]\n",
      "Validation: : 100%|████████████████████████████████████████████████████████████████████████████████████| 3/3 [00:01<00:00,  1.73batch/s, val_acc=97.5, val_loss=0.0795]\n"
     ]
    },
    {
     "name": "stdout",
     "output_type": "stream",
     "text": [
      "15; loss = 0.0325, test loss = 0.0795, acc = 99.26%, test acc = 97.53%, non-0 params = 266610\n"
     ]
    },
    {
     "name": "stderr",
     "output_type": "stream",
     "text": [
      "Training: : 100%|███████████████████████████████████████████████████████████████████████████████████████| 15/15 [00:11<00:00,  1.36batch/s, accuracy=99.3, loss=0.0304]\n",
      "Validation: : 100%|████████████████████████████████████████████████████████████████████████████████████| 3/3 [00:01<00:00,  1.58batch/s, val_acc=97.5, val_loss=0.0789]\n"
     ]
    },
    {
     "name": "stdout",
     "output_type": "stream",
     "text": [
      "16; loss = 0.0304, test loss = 0.0789, acc = 99.34%, test acc = 97.55%, non-0 params = 266610\n"
     ]
    },
    {
     "name": "stderr",
     "output_type": "stream",
     "text": [
      "Training: : 100%|███████████████████████████████████████████████████████████████████████████████████████| 15/15 [00:10<00:00,  1.39batch/s, accuracy=99.4, loss=0.0287]\n",
      "Validation: : 100%|████████████████████████████████████████████████████████████████████████████████████| 3/3 [00:01<00:00,  1.70batch/s, val_acc=97.6, val_loss=0.0787]\n"
     ]
    },
    {
     "name": "stdout",
     "output_type": "stream",
     "text": [
      "17; loss = 0.0287, test loss = 0.0787, acc = 99.38%, test acc = 97.58%, non-0 params = 266610\n",
      "Saving model with highest test acc = 97.58%\n",
      "\n"
     ]
    },
    {
     "name": "stderr",
     "output_type": "stream",
     "text": [
      "Training: : 100%|███████████████████████████████████████████████████████████████████████████████████████| 15/15 [00:10<00:00,  1.39batch/s, accuracy=99.4, loss=0.0279]\n",
      "Validation: : 100%|████████████████████████████████████████████████████████████████████████████████████| 3/3 [00:01<00:00,  1.70batch/s, val_acc=97.6, val_loss=0.0785]\n"
     ]
    },
    {
     "name": "stdout",
     "output_type": "stream",
     "text": [
      "18; loss = 0.0279, test loss = 0.0785, acc = 99.39%, test acc = 97.58%, non-0 params = 266610\n"
     ]
    },
    {
     "name": "stderr",
     "output_type": "stream",
     "text": [
      "Training: : 100%|███████████████████████████████████████████████████████████████████████████████████████| 15/15 [00:10<00:00,  1.41batch/s, accuracy=99.4, loss=0.0258]\n",
      "Validation: : 100%|█████████████████████████████████████████████████████████████████████████████████████| 3/3 [00:01<00:00,  1.72batch/s, val_acc=97.6, val_loss=0.079]\n"
     ]
    },
    {
     "name": "stdout",
     "output_type": "stream",
     "text": [
      "19; loss = 0.0258, test loss = 0.0790, acc = 99.44%, test acc = 97.57%, non-0 params = 266610\n"
     ]
    },
    {
     "name": "stderr",
     "output_type": "stream",
     "text": [
      "Training: : 100%|███████████████████████████████████████████████████████████████████████████████████████| 15/15 [00:10<00:00,  1.41batch/s, accuracy=99.5, loss=0.0252]\n",
      "Validation: : 100%|████████████████████████████████████████████████████████████████████████████████████| 3/3 [00:01<00:00,  1.70batch/s, val_acc=97.7, val_loss=0.0785]"
     ]
    },
    {
     "name": "stdout",
     "output_type": "stream",
     "text": [
      "20; loss = 0.0252, test loss = 0.0785, acc = 99.46%, test acc = 97.68%, non-0 params = 266610\n",
      "Saving model with highest test acc = 97.68%\n",
      "\n"
     ]
    },
    {
     "name": "stderr",
     "output_type": "stream",
     "text": [
      "\n"
     ]
    }
   ],
   "source": [
    "# Train until convergence pruned initialized model-\n",
    "history_pr = train_until_convergence(\n",
    "    model = model, train_loader = train_loader,\n",
    "    test_loader = test_loader, train_dataset = train_dataset,\n",
    "    test_dataset = test_dataset, num_epochs = 20\n",
    ")"
   ]
  },
  {
   "cell_type": "code",
   "execution_count": 38,
   "id": "5dc05fd0-b468-4337-9a1c-977ae32b13d2",
   "metadata": {
    "tags": []
   },
   "outputs": [
    {
     "data": {
      "text/plain": [
       "266610"
      ]
     },
     "execution_count": 38,
     "metadata": {},
     "output_type": "execute_result"
    }
   ],
   "source": [
    "count_surviving_params(model)"
   ]
  },
  {
   "cell_type": "code",
   "execution_count": null,
   "id": "82e48d3c-fe80-47ba-a4e8-fb2d2b020ecb",
   "metadata": {},
   "outputs": [],
   "source": []
  },
  {
   "cell_type": "code",
   "execution_count": null,
   "id": "3ffdc0d2-f067-4924-9703-989ab3b98143",
   "metadata": {},
   "outputs": [],
   "source": []
  }
 ],
 "metadata": {
  "kernelspec": {
   "display_name": "Python 3 (ipykernel)",
   "language": "python",
   "name": "python3"
  },
  "language_info": {
   "codemirror_mode": {
    "name": "ipython",
    "version": 3
   },
   "file_extension": ".py",
   "mimetype": "text/x-python",
   "name": "python",
   "nbconvert_exporter": "python",
   "pygments_lexer": "ipython3",
   "version": "3.10.8"
  }
 },
 "nbformat": 4,
 "nbformat_minor": 5
}
