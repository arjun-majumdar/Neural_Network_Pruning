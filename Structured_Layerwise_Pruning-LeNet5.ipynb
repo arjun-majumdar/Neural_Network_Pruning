{
 "cells": [
  {
   "cell_type": "markdown",
   "id": "499bd97b",
   "metadata": {},
   "source": [
    "# PyTorch Pruning: _LeNet-5_ Conv Net\n",
    "\n",
    "Trained on MNIST dataset using __layer-wise structured absolute magnitude__ based pruning.\n",
    "\n",
    "[PyTorch Pruning Tutorial](https://pytorch.org/tutorials/intermediate/pruning_tutorial.html#serializing-a-pruned-model)"
   ]
  },
  {
   "cell_type": "code",
   "execution_count": 1,
   "id": "67898093",
   "metadata": {
    "id": "GLciw6z8BZbt"
   },
   "outputs": [],
   "source": [
    "import torch\n",
    "import torch.nn as nn\n",
    "import torchvision\n",
    "import torch.nn.utils.prune as prune\n",
    "import torch.nn.functional as F\n",
    "import numpy as np\n",
    "import torchvision.transforms as transforms\n",
    "\n",
    "import matplotlib.pyplot as plt\n",
    "import os"
   ]
  },
  {
   "cell_type": "code",
   "execution_count": 2,
   "id": "c787a591",
   "metadata": {},
   "outputs": [],
   "source": [
    "%matplotlib inline"
   ]
  },
  {
   "cell_type": "code",
   "execution_count": null,
   "id": "e806a043",
   "metadata": {},
   "outputs": [],
   "source": []
  },
  {
   "cell_type": "code",
   "execution_count": 3,
   "id": "bb148914",
   "metadata": {},
   "outputs": [
    {
     "name": "stdout",
     "output_type": "stream",
     "text": [
      "Available device: cpu\n"
     ]
    }
   ],
   "source": [
    "device = torch.device(\"cuda\" if torch.cuda.is_available() else \"cpu\")\n",
    "print(f\"Available device: {device}\")"
   ]
  },
  {
   "cell_type": "code",
   "execution_count": null,
   "id": "ea41c180",
   "metadata": {},
   "outputs": [],
   "source": []
  },
  {
   "cell_type": "code",
   "execution_count": null,
   "id": "ea16494b",
   "metadata": {},
   "outputs": [],
   "source": []
  },
  {
   "cell_type": "code",
   "execution_count": 4,
   "id": "ce1d32be",
   "metadata": {},
   "outputs": [],
   "source": [
    "# Hyper-parameters-\n",
    "# input_size = 784    # 28 x 28, flattened to be 1-D tensor\n",
    "# hidden_size = 100\n",
    "num_classes = 10\n",
    "num_epochs = 20\n",
    "batch_size = 32\n",
    "learning_rate = 0.0012"
   ]
  },
  {
   "cell_type": "code",
   "execution_count": 5,
   "id": "d7aa604b",
   "metadata": {},
   "outputs": [],
   "source": [
    "# MNIST dataset statistics:\n",
    "# mean = tensor([0.1307]) & std dev = tensor([0.3081])\n",
    "mean = np.array([0.1307])\n",
    "std_dev = np.array([0.3081])\n",
    "\n",
    "transforms_apply = transforms.Compose([\n",
    "    transforms.ToTensor(),\n",
    "    transforms.Normalize(mean = mean, std = std_dev)\n",
    "    ])"
   ]
  },
  {
   "cell_type": "code",
   "execution_count": 7,
   "id": "85e639a7",
   "metadata": {},
   "outputs": [],
   "source": [
    "os.chdir(\"/home/arjun/Documents/Programs/Python_Codes/PyTorch_Resources/Good_Codes/\")"
   ]
  },
  {
   "cell_type": "code",
   "execution_count": 8,
   "id": "c646b25e",
   "metadata": {},
   "outputs": [
    {
     "name": "stdout",
     "output_type": "stream",
     "text": [
      "len(train_dataset): 60000 & len(test_dataset): 10000\n"
     ]
    }
   ],
   "source": [
    "# MNIST dataset-\n",
    "train_dataset = torchvision.datasets.MNIST(\n",
    "        root = './data', train = True,\n",
    "        transform = transforms_apply, download = True\n",
    "        )\n",
    "\n",
    "test_dataset = torchvision.datasets.MNIST(\n",
    "        root = './data', train = False,\n",
    "        transform = transforms_apply\n",
    "        )\n",
    "\n",
    "\n",
    "print(f\"len(train_dataset): {len(train_dataset)} & len(test_dataset): {len(test_dataset)}\")"
   ]
  },
  {
   "cell_type": "code",
   "execution_count": 9,
   "id": "6325cf63",
   "metadata": {},
   "outputs": [
    {
     "name": "stdout",
     "output_type": "stream",
     "text": [
      "len(train_loader) = 1875 & len(test_loader) = 313\n"
     ]
    },
    {
     "data": {
      "text/plain": [
       "(1875, 313)"
      ]
     },
     "execution_count": 9,
     "metadata": {},
     "output_type": "execute_result"
    }
   ],
   "source": [
    "# Create dataloader-\n",
    "train_loader = torch.utils.data.DataLoader(\n",
    "        dataset = train_dataset, batch_size = batch_size,\n",
    "        shuffle = True\n",
    "        )\n",
    "\n",
    "test_loader = torch.utils.data.DataLoader(\n",
    "        dataset = test_dataset, batch_size = batch_size,\n",
    "        shuffle = False\n",
    "        )\n",
    "\n",
    "print(f\"len(train_loader) = {len(train_loader)} & len(test_loader) = {len(test_loader)}\")\n",
    "len(train_loader), len(test_loader)"
   ]
  },
  {
   "cell_type": "code",
   "execution_count": null,
   "id": "f62cea35",
   "metadata": {},
   "outputs": [],
   "source": []
  },
  {
   "cell_type": "code",
   "execution_count": null,
   "id": "5fed0bd0",
   "metadata": {},
   "outputs": [],
   "source": []
  },
  {
   "cell_type": "markdown",
   "id": "de9d9f98",
   "metadata": {
    "id": "yOsmjuGvBZbu"
   },
   "source": [
    "### Create a model:\n",
    "\n",
    "In this tutorial, we use the [LeNet CNN](http://yann.lecun.com/exdb/publis/pdf/lecun-98.pdf) architecture from LeCun et al., 1998."
   ]
  },
  {
   "cell_type": "code",
   "execution_count": 10,
   "id": "c398f058",
   "metadata": {},
   "outputs": [],
   "source": [
    "class LeNet5(nn.Module):\n",
    "    '''\n",
    "    Implements a variation of LeNet-5 CNN. It is LeNet-4.\n",
    "    '''\n",
    "    def __init__(self):\n",
    "        super(LeNet5, self).__init__()\n",
    "        \n",
    "        self.conv1 = nn.Conv2d(\n",
    "            in_channels = 1, out_channels = 6,\n",
    "            kernel_size = 3, padding = 1,\n",
    "            stride = 1\n",
    "        )\n",
    "        \n",
    "        self.conv2 = nn.Conv2d(\n",
    "            in_channels = 6, out_channels = 16,\n",
    "            kernel_size = 3, padding = 1,\n",
    "            stride = 1\n",
    "        )\n",
    "        \n",
    "        self.conv3 = nn.Conv2d(\n",
    "            in_channels = 16, out_channels = 120,\n",
    "            kernel_size = 3, padding = 1,\n",
    "            stride = 1\n",
    "        )\n",
    "        \n",
    "        self.pool = nn.MaxPool2d(\n",
    "            kernel_size = 2, stride = 2\n",
    "        )\n",
    "        \n",
    "        self.flatten = nn.Flatten()\n",
    "        # self.fc1 = nn.Linear(in_features = 512, out_features = 256)\n",
    "        # self.fc2 = nn.Linear(in_features = 120, out_features = 84)\n",
    "        # self.op = nn.Linear(in_features = 84, out_features = 10)\n",
    "        self.op = nn.Linear(in_features = 1080, out_features = 10)\n",
    "        \n",
    "        self.weights_initialization()\n",
    "        \n",
    "    \n",
    "    def forward(self, x):\n",
    "        x = self.pool(F.relu(self.conv1(x)))\n",
    "        x = self.pool(F.relu(self.conv2(x)))\n",
    "        x = self.pool(F.relu(self.conv3(x)))\n",
    "        x = self.flatten(x)\n",
    "        return self.op(x)\n",
    "    \n",
    "    \n",
    "    def shape_computation(self, x):\n",
    "        x = self.conv1(x)\n",
    "        print(f\"conv1.shape = {x.shape}\")\n",
    "        \n",
    "        x = self.pool(x)\n",
    "        print(f\"pool.shape = {x.shape}\")\n",
    "        \n",
    "        x = self.conv2(x)\n",
    "        print(f\"conv2.shape = {x.shape}\")\n",
    "        \n",
    "        x = self.pool(x)\n",
    "        print(f\"pool.shape = {x.shape}\")\n",
    "        \n",
    "        x = self.conv3(x)\n",
    "        print(f\"conv3.shape = {x.shape}\")\n",
    "        \n",
    "        x = self.pool(x)\n",
    "        print(f\"pool.shape = {x.shape}\")\n",
    "        \n",
    "        x = self.flatten(x)\n",
    "        print(f\"flatten.shape = {x.shape}\")\n",
    "        \n",
    "        x = self.op(x)\n",
    "        print(f\"output.shape = {x.shape}\")\n",
    "        \n",
    "    \n",
    "    def weights_initialization(self):\n",
    "        '''\n",
    "        When we define all the modules such as the layers in '__init__()'\n",
    "        method above, these are all stored in 'self.modules()'.\n",
    "        We go through each module one by one. This is the entire network,\n",
    "        basically.\n",
    "        '''\n",
    "        for m in self.modules():\n",
    "            if isinstance(m, nn.Linear):\n",
    "                nn.init.xavier_normal_(m.weight)\n",
    "                nn.init.constant_(m.bias, 0)\n",
    "\n",
    "        "
   ]
  },
  {
   "cell_type": "code",
   "execution_count": null,
   "id": "cf875a94",
   "metadata": {},
   "outputs": [],
   "source": []
  },
  {
   "cell_type": "code",
   "execution_count": 20,
   "id": "366b5c93",
   "metadata": {},
   "outputs": [],
   "source": [
    "model = LeNet5().to(device = device)"
   ]
  },
  {
   "cell_type": "code",
   "execution_count": 21,
   "id": "2e4d2af2",
   "metadata": {},
   "outputs": [],
   "source": [
    "# Define loss and optimizer-\n",
    "loss = nn.CrossEntropyLoss()    # applies softmax for us\n",
    "optimizer = torch.optim.Adam(model.parameters(), lr = learning_rate)"
   ]
  },
  {
   "cell_type": "code",
   "execution_count": null,
   "id": "70fd5c11",
   "metadata": {},
   "outputs": [],
   "source": []
  },
  {
   "cell_type": "code",
   "execution_count": 11,
   "id": "d27dff1b",
   "metadata": {},
   "outputs": [],
   "source": [
    "def count_params(model):\n",
    "    \n",
    "    tot_params = 0\n",
    "    for layer_name, param in model.named_parameters():\n",
    "        # print(f\"{layer_name}.shape = {param.shape} has {torch.count_nonzero(param.data)} non-zero params\")\n",
    "        tot_params += torch.count_nonzero(param.data)\n",
    "    \n",
    "    return tot_params\n"
   ]
  },
  {
   "cell_type": "code",
   "execution_count": null,
   "id": "8ab581e0",
   "metadata": {},
   "outputs": [],
   "source": [
    "orig_params = count_params(model)\n",
    "print(f\"Unpruned LeNet-4 model has {orig_params} trainable parameters\")"
   ]
  },
  {
   "cell_type": "code",
   "execution_count": null,
   "id": "ecc57968",
   "metadata": {},
   "outputs": [],
   "source": []
  },
  {
   "cell_type": "code",
   "execution_count": 19,
   "id": "ce8a07c7",
   "metadata": {},
   "outputs": [
    {
     "name": "stdout",
     "output_type": "stream",
     "text": [
      "layer.name: conv1.weight & param.shape = torch.Size([6, 1, 3, 3])\n",
      "layer.name: conv1.bias & param.shape = torch.Size([6])\n",
      "layer.name: conv2.weight & param.shape = torch.Size([16, 6, 3, 3])\n",
      "layer.name: conv2.bias & param.shape = torch.Size([16])\n",
      "layer.name: conv3.weight & param.shape = torch.Size([120, 16, 3, 3])\n",
      "layer.name: conv3.bias & param.shape = torch.Size([120])\n",
      "layer.name: op.weight & param.shape = torch.Size([10, 1080])\n",
      "layer.name: op.bias & param.shape = torch.Size([10])\n"
     ]
    }
   ],
   "source": [
    "for layer, param in model.named_parameters():\n",
    "    print(f\"layer.name: {layer} & param.shape = {param.shape}\")"
   ]
  },
  {
   "cell_type": "code",
   "execution_count": null,
   "id": "5a9fb513",
   "metadata": {},
   "outputs": [],
   "source": []
  },
  {
   "cell_type": "code",
   "execution_count": null,
   "id": "5af9d097",
   "metadata": {},
   "outputs": [],
   "source": []
  },
  {
   "cell_type": "markdown",
   "id": "0e23c26c",
   "metadata": {},
   "source": [
    "### Train model:"
   ]
  },
  {
   "cell_type": "code",
   "execution_count": 13,
   "id": "723fce29",
   "metadata": {},
   "outputs": [],
   "source": [
    "def train_model(model, train_loader):\n",
    "    '''\n",
    "    Function to perform one epoch of training by using 'train_loader'.\n",
    "    Returns loss and number of correct predictions for this epoch.\n",
    "    '''\n",
    "    running_loss = 0.0\n",
    "    running_corrects = 0.0\n",
    "\n",
    "    for batch, (images, labels) in enumerate(train_loader):\n",
    "        # Reshape image and place it on GPU-\n",
    "        # images = images.reshape(-1, input_size).to(device)\n",
    "        images = images.to(device)\n",
    "        labels = labels.to(device) \n",
    "        outputs = model(images)   # forward pass\n",
    "        J = loss(outputs, labels) # compute loss\n",
    "        optimizer.zero_grad()     # empty accumulated gradients\n",
    "        J.backward()              # perform backpropagation\n",
    "        optimizer.step()          # update parameters\n",
    "\n",
    "        # Compute model's performance statistics-\n",
    "        running_loss += J.item() * images.size(0)\n",
    "        _, predicted = torch.max(outputs, 1)\n",
    "        running_corrects += torch.sum(predicted == labels.data)\n",
    "\n",
    "        '''\n",
    "        # Print information every 100 steps-\n",
    "        if (batch + 1) % 100 == 0:\n",
    "            print(f\"epoch {epoch + 1}/{num_epochs}, step {batch + 1}/{num_steps}, loss = {J.item():.4f}\")\n",
    "        '''\n",
    "\n",
    "    return running_loss, running_corrects\n"
   ]
  },
  {
   "cell_type": "code",
   "execution_count": 14,
   "id": "98f3264e",
   "metadata": {},
   "outputs": [],
   "source": [
    "def test_model(model, test_loader):\n",
    "    total = 0.0\n",
    "    correct = 0.0\n",
    "    running_loss_val = 0.0\n",
    "\n",
    "    with torch.no_grad():\n",
    "        for images, labels in test_loader:\n",
    "\n",
    "            # Place features (images) and targets (labels) to GPU-\n",
    "            # images = images.reshape(-1, input_size).to(device)\n",
    "            images = images.to(device)\n",
    "            labels = labels.to(device)\n",
    "            # print(f\"images.shape = {images.shape}, labels.shape = {labels.shape}\")\n",
    "\n",
    "            # Set model to evaluation mode-\n",
    "            model.eval()\n",
    "    \n",
    "            # Make predictions using trained model-\n",
    "            outputs = model(images)\n",
    "            _, y_pred = torch.max(outputs, 1)\n",
    "\n",
    "            # Compute validation loss-\n",
    "            J_val = loss(outputs, labels)\n",
    "\n",
    "            running_loss_val += J_val.item() * labels.size(0)\n",
    "    \n",
    "            # Total number of labels-\n",
    "            total += labels.size(0)\n",
    "\n",
    "            # Total number of correct predictions-\n",
    "            correct += (y_pred == labels).sum()\n",
    "\n",
    "    return (running_loss_val, correct, total)\n"
   ]
  },
  {
   "cell_type": "code",
   "execution_count": null,
   "id": "a0876d01",
   "metadata": {},
   "outputs": [],
   "source": []
  },
  {
   "cell_type": "code",
   "execution_count": 22,
   "id": "699a653e",
   "metadata": {},
   "outputs": [],
   "source": [
    "# User input parameters for Early Stopping in manual implementation-\n",
    "minimum_delta = 0.001\n",
    "patience = 3\n",
    "\n",
    "\n",
    "# Initialize parameters for Early Stopping manual implementation-\n",
    "best_val_loss = 100\n",
    "loc_patience = 0"
   ]
  },
  {
   "cell_type": "code",
   "execution_count": 23,
   "id": "fe6854d9",
   "metadata": {},
   "outputs": [],
   "source": [
    "# Python3 lists to store model training metrics-\n",
    "training_acc = []\n",
    "validation_acc = []\n",
    "training_loss = []\n",
    "validation_loss = []"
   ]
  },
  {
   "cell_type": "code",
   "execution_count": null,
   "id": "b40ca2d6",
   "metadata": {},
   "outputs": [],
   "source": []
  },
  {
   "cell_type": "code",
   "execution_count": 24,
   "id": "a97c0392",
   "metadata": {},
   "outputs": [
    {
     "name": "stdout",
     "output_type": "stream",
     "text": [
      "\n",
      "epoch: 1 training loss = 0.1485, training accuracy = 95.45%, val_loss = 0.0536 & val_accuracy = 98.29%\n",
      "\n",
      "Saving model with lowest val_loss = 0.0536\n",
      "\n",
      "\n",
      "epoch: 2 training loss = 0.0486, training accuracy = 98.43%, val_loss = 0.0457 & val_accuracy = 98.51%\n",
      "\n",
      "Saving model with lowest val_loss = 0.0457\n",
      "\n",
      "\n",
      "epoch: 3 training loss = 0.0358, training accuracy = 98.87%, val_loss = 0.0422 & val_accuracy = 98.75%\n",
      "\n",
      "Saving model with lowest val_loss = 0.0422\n",
      "\n",
      "\n",
      "epoch: 4 training loss = 0.0278, training accuracy = 99.11%, val_loss = 0.0372 & val_accuracy = 98.86%\n",
      "\n",
      "Saving model with lowest val_loss = 0.0372\n",
      "\n",
      "\n",
      "epoch: 5 training loss = 0.0236, training accuracy = 99.23%, val_loss = 0.0304 & val_accuracy = 99.14%\n",
      "\n",
      "Saving model with lowest val_loss = 0.0304\n",
      "\n",
      "\n",
      "epoch: 6 training loss = 0.0186, training accuracy = 99.40%, val_loss = 0.0343 & val_accuracy = 99.06%\n",
      "\n",
      "\n",
      "epoch: 7 training loss = 0.0162, training accuracy = 99.47%, val_loss = 0.0393 & val_accuracy = 98.90%\n",
      "\n",
      "\n",
      "epoch: 8 training loss = 0.0137, training accuracy = 99.57%, val_loss = 0.0504 & val_accuracy = 98.67%\n",
      "\n",
      "\n",
      "'EarlyStopping' called!\n",
      "\n"
     ]
    }
   ],
   "source": [
    "# Training loop-\n",
    "for epoch in range(num_epochs):\n",
    "    running_loss = 0.0\n",
    "    running_corrects = 0.0\n",
    "    \n",
    "    if loc_patience >= patience:\n",
    "        print(\"\\n'EarlyStopping' called!\\n\")\n",
    "        break\n",
    "\n",
    "    running_loss, running_corrects = train_model(model, train_loader)\n",
    "  \n",
    "    # Compute training loss and accuracy for one epoch-\n",
    "    epoch_loss = running_loss / len(train_dataset)\n",
    "    epoch_acc = running_corrects.double() / len(train_dataset)\n",
    "    # epoch_acc = 100 * running_corrects / len(trainset)\n",
    "    # print(f\"\\nepoch: {epoch + 1} training loss = {epoch_loss:.4f}, training accuracy = {epoch_acc * 100:.2f}%\\n\")\n",
    "\n",
    "    running_loss_val, correct, total = test_model(model, test_loader)\n",
    "\n",
    "    # Compute validation loss and accuracy-\n",
    "    epoch_val_loss = running_loss_val / len(test_dataset)\n",
    "    val_acc = 100 * (correct / total)\n",
    "    # print(f\"\\nepoch: {epoch + 1} training loss = {epoch_loss:.4f}, training accuracy = {epoch_acc * 100:.2f}%, val_loss = {epoch_val_loss:.4f} & val_accuracy = {val_acc:.2f}%\\n\")\n",
    "\n",
    "    print(f\"\\nepoch: {epoch + 1} training loss = {epoch_loss:.4f}, training accuracy = {epoch_acc * 100:.2f}%, val_loss = {epoch_val_loss:.4f} & val_accuracy = {val_acc:.2f}%\\n\")\n",
    "\n",
    "    # Code for manual Early Stopping:\n",
    "    # if np.abs(epoch_val_loss < best_val_loss) >= minimum_delta:\n",
    "    if (epoch_val_loss < best_val_loss) and np.abs(epoch_val_loss - best_val_loss) >= minimum_delta:\n",
    "        # print(f\"epoch_val_loss = {epoch_val_loss:.4f}, best_val_loss = {best_val_loss:.4f}\")\n",
    "        \n",
    "        # update 'best_val_loss' variable to lowest loss encountered so far-\n",
    "        best_val_loss = epoch_val_loss\n",
    "        \n",
    "        # reset 'loc_patience' variable-\n",
    "        loc_patience = 0\n",
    "        \n",
    "        print(f\"Saving model with lowest val_loss = {epoch_val_loss:.4f}\\n\")\n",
    "        \n",
    "        # Save trained model with validation accuracy-\n",
    "        # torch.save(model.state_dict, f\"LeNet-300-100_Trained_{val_acc}.pth\")\n",
    "        torch.save(model.state_dict(), \"LeNet-4_Trained.pth\")\n",
    "        \n",
    "    else:  # there is no improvement in monitored metric 'val_loss'\n",
    "        loc_patience += 1  # number of epochs without any improvement\n",
    "\n",
    "\n",
    "    training_acc.append(epoch_acc * 100)\n",
    "    validation_acc.append(val_acc)\n",
    "    training_loss.append(epoch_loss)\n",
    "    validation_loss.append(epoch_val_loss)\n"
   ]
  },
  {
   "cell_type": "code",
   "execution_count": null,
   "id": "63d3f0dc",
   "metadata": {},
   "outputs": [],
   "source": []
  },
  {
   "cell_type": "code",
   "execution_count": 42,
   "id": "6958b40d",
   "metadata": {},
   "outputs": [
    {
     "data": {
      "text/plain": [
       "<All keys matched successfully>"
      ]
     },
     "execution_count": 42,
     "metadata": {},
     "output_type": "execute_result"
    }
   ],
   "source": [
    "# Initialize and load best weights-\n",
    "best_model = LeNet5().to(device = device)\n",
    "best_model.load_state_dict(torch.load(\"/home/arjun/Documents/Programs/Python_Codes/PyTorch_Resources/Good_Codes/Pruning_codes_and_resources/LeNet-4_Trained.pth\"))"
   ]
  },
  {
   "cell_type": "code",
   "execution_count": 43,
   "id": "31899d46",
   "metadata": {},
   "outputs": [],
   "source": [
    "# Define loss and optimizer-\n",
    "loss = nn.CrossEntropyLoss()    # applies softmax for us\n",
    "optimizer = torch.optim.Adam(best_model.parameters(), lr = learning_rate)"
   ]
  },
  {
   "cell_type": "code",
   "execution_count": 44,
   "id": "597de148",
   "metadata": {},
   "outputs": [
    {
     "name": "stdout",
     "output_type": "stream",
     "text": [
      "number of non-zero parameter in unpruned LeNet-4 CNN = 29150\n"
     ]
    }
   ],
   "source": [
    "print(f\"number of non-zero parameter in unpruned LeNet-4 CNN = {count_params(best_model)}\")"
   ]
  },
  {
   "cell_type": "code",
   "execution_count": 28,
   "id": "c00fb615",
   "metadata": {},
   "outputs": [],
   "source": []
  },
  {
   "cell_type": "code",
   "execution_count": null,
   "id": "302da160",
   "metadata": {},
   "outputs": [],
   "source": []
  },
  {
   "cell_type": "code",
   "execution_count": 45,
   "id": "78748d06",
   "metadata": {},
   "outputs": [
    {
     "name": "stdout",
     "output_type": "stream",
     "text": [
      "Best trained LeNet-4 metrics on validation dataset:\n",
      "val_loss = 0.0304 & val_acc = 99.14%\n"
     ]
    }
   ],
   "source": [
    "# Compute 'best weights' metrics on validation dataset-\n",
    "running_loss_val, correct, total = test_model(best_model, test_loader)\n",
    "\n",
    "# Compute validation loss and accuracy-\n",
    "val_loss = running_loss_val / len(test_dataset)\n",
    "val_acc = 100 * (correct / total)\n",
    "\n",
    "print(\"Best trained LeNet-4 metrics on validation dataset:\")\n",
    "print(f\"val_loss = {val_loss:.4f} & val_acc = {val_acc:.2f}%\")"
   ]
  },
  {
   "cell_type": "code",
   "execution_count": null,
   "id": "edf7e77b",
   "metadata": {},
   "outputs": [],
   "source": []
  },
  {
   "cell_type": "code",
   "execution_count": 30,
   "id": "194ad3a7",
   "metadata": {},
   "outputs": [
    {
     "name": "stdout",
     "output_type": "stream",
     "text": [
      "conv1.weight torch.Size([6, 1, 3, 3])\n",
      "conv1.bias torch.Size([6])\n",
      "conv2.weight torch.Size([16, 6, 3, 3])\n",
      "conv2.bias torch.Size([16])\n",
      "conv3.weight torch.Size([120, 16, 3, 3])\n",
      "conv3.bias torch.Size([120])\n",
      "op.weight torch.Size([10, 1080])\n",
      "op.bias torch.Size([10])\n"
     ]
    }
   ],
   "source": [
    "for layer_name in best_model.state_dict().keys():\n",
    "    print(layer_name, best_model.state_dict()[layer_name].shape)"
   ]
  },
  {
   "cell_type": "code",
   "execution_count": 31,
   "id": "9d92f116",
   "metadata": {},
   "outputs": [
    {
     "data": {
      "text/plain": [
       "odict_keys(['conv1.weight', 'conv1.bias', 'conv2.weight', 'conv2.bias', 'conv3.weight', 'conv3.bias', 'op.weight', 'op.bias'])"
      ]
     },
     "execution_count": 31,
     "metadata": {},
     "output_type": "execute_result"
    }
   ],
   "source": [
    "best_model.state_dict().keys()"
   ]
  },
  {
   "cell_type": "code",
   "execution_count": null,
   "id": "2c1ea373",
   "metadata": {},
   "outputs": [],
   "source": []
  },
  {
   "cell_type": "code",
   "execution_count": null,
   "id": "0891efce",
   "metadata": {},
   "outputs": [],
   "source": []
  },
  {
   "cell_type": "markdown",
   "id": "1e63b3e7",
   "metadata": {},
   "source": [
    "### Structured layer-wise pruning:\n",
    "\n",
    "Using _structured pruning_ along the 0th axis of the tensor based on the channels’ L2 norm. The 0th axis corresponds to the output channels of the convolutional layer and has dimensionality 6 for conv1. This can be achieved using the ```ln_structured()``` function, with ```n=2``` and ```dim=0```.\n",
    "\n",
    "```prune.ln_structured(module, name=\"weight\", amount=0.5, n=2, dim=0)```\n",
    "\n",
    "We can verify that this will zero out all the connections corresponding to 50% (3 out of 6) of the channels, while preserving the action of the\n",
    "previous mask.\n",
    "\n",
    "```print(module.weight)```\n"
   ]
  },
  {
   "cell_type": "markdown",
   "id": "ff98942c",
   "metadata": {},
   "source": [
    "### Pruning multiple parameters in a model:\n",
    "\n",
    "By specifying the desired pruning technique and parameters, we can easily prune multiple tensors in a network, perhaps according to their type-\n",
    "\n",
    "```\n",
    "new_model = LeNet()\n",
    "for name, module in new_model.named_modules():\n",
    "    # prune 20% of connections in all 2D-conv layers\n",
    "    if isinstance(module, torch.nn.Conv2d):\n",
    "        prune.l1_unstructured(module, name='weight', amount=0.2)\n",
    "    # prune 40% of connections in all linear layers\n",
    "    elif isinstance(module, torch.nn.Linear):\n",
    "        prune.l1_unstructured(module, name='weight', amount=0.4)\n",
    "\n",
    "print(dict(new_model.named_buffers()).keys())  # to verify that all masks exist\n",
    "```"
   ]
  },
  {
   "cell_type": "code",
   "execution_count": null,
   "id": "1444621d",
   "metadata": {},
   "outputs": [],
   "source": [
    "'''\n",
    "# Define the parameters/layers to be pruned-\n",
    "parameters_to_prune = (\n",
    "    (best_model.conv1, 'weight'),\n",
    "    (best_model.conv2, 'weight'),\n",
    "    (best_model.conv3, 'weight'),\n",
    "    (best_model.op, 'weight')\n",
    ")\n",
    "'''"
   ]
  },
  {
   "cell_type": "code",
   "execution_count": null,
   "id": "06659e97",
   "metadata": {},
   "outputs": [],
   "source": []
  },
  {
   "cell_type": "code",
   "execution_count": 46,
   "id": "a1ea33ef",
   "metadata": {},
   "outputs": [],
   "source": [
    "def compute_sparsity(best_model):\n",
    "    conv1_sparsity = (torch.sum(best_model.conv1.weight == 0) / best_model.conv1.weight.nelement()) * 100\n",
    "    conv2_sparsity = (torch.sum(best_model.conv2.weight == 0) / best_model.conv2.weight.nelement()) * 100\n",
    "    conv3_sparsity = (torch.sum(best_model.conv3.weight == 0) / best_model.conv3.weight.nelement()) * 100\n",
    "    op_sparsity = (torch.sum(best_model.op.weight == 0) / best_model.op.weight.nelement()) * 100\n",
    "\n",
    "    # Compute global sparsity-\n",
    "    num = torch.sum(best_model.conv1.weight == 0) + torch.sum(best_model.conv2.weight == 0) + torch.sum(best_model.conv3.weight == 0) \\\n",
    "            + torch.sum(best_model.op.weight == 0)\n",
    "\n",
    "    denom = best_model.conv1.weight.nelement() + best_model.conv2.weight.nelement() + best_model.conv3.weight.nelement() \\\n",
    "            + best_model.op.weight.nelement()\n",
    "\n",
    "    global_sparsity = num / denom * 100\n",
    "\n",
    "    '''\n",
    "    print(f\"conv1.weight has {conv1_sparsity:.2f}% sparsity\")\n",
    "    print(f\"conv2.weight has {conv2_sparsity:.2f}% sparsity\")\n",
    "    print(f\"conv3.weight has {conv3_sparsity:.2f}% sparsity\")\n",
    "    print(f\"op.weight has {op_sparsity:.2f}% sparsity\")\n",
    "    \n",
    "    print(f\"LeNet-4 Global Sparsity = {global_sparsity:.2f}%\")\n",
    "    '''\n",
    "    \n",
    "    # return None\n",
    "    return global_sparsity\n"
   ]
  },
  {
   "cell_type": "code",
   "execution_count": 47,
   "id": "b17adb30",
   "metadata": {},
   "outputs": [
    {
     "name": "stdout",
     "output_type": "stream",
     "text": [
      "LeNet-5 global sparsity = 0.00%\n"
     ]
    }
   ],
   "source": [
    "print(f\"LeNet-5 global sparsity = {compute_sparsity(best_model):.2f}%\")"
   ]
  },
  {
   "cell_type": "code",
   "execution_count": null,
   "id": "0862dafc",
   "metadata": {},
   "outputs": [],
   "source": []
  },
  {
   "cell_type": "code",
   "execution_count": null,
   "id": "94e31770",
   "metadata": {},
   "outputs": [],
   "source": []
  },
  {
   "cell_type": "markdown",
   "id": "f2eb3456",
   "metadata": {},
   "source": [
    "### Iterative layer-wise Pruning algorithm:\n",
    "\n",
    "Take an already trained model and repeat the following steps _x_ times-\n",
    "\n",
    "- prune p% of smallest magnitude weights in a __structured layer-wise manner__\n",
    "\n",
    "- fine-tune pruned model to recover performance"
   ]
  },
  {
   "cell_type": "code",
   "execution_count": 48,
   "id": "3e08896d",
   "metadata": {},
   "outputs": [],
   "source": [
    "# User input parameters for Early Stopping in manual implementation-\n",
    "minimum_delta = 0.001\n",
    "patience = 3\n",
    "\n",
    "\n",
    "# Initialize parameters for Early Stopping manual implementation-\n",
    "best_val_loss = 100\n",
    "loc_patience = 0"
   ]
  },
  {
   "cell_type": "code",
   "execution_count": 56,
   "id": "e8d544ba",
   "metadata": {},
   "outputs": [],
   "source": [
    "# Python3 dict to store model training metrics-\n",
    "history = {}"
   ]
  },
  {
   "cell_type": "code",
   "execution_count": null,
   "id": "8ba72df0",
   "metadata": {},
   "outputs": [],
   "source": []
  },
  {
   "cell_type": "code",
   "execution_count": 22,
   "id": "983a0818",
   "metadata": {},
   "outputs": [],
   "source": [
    "# Define global pruning rates-\n",
    "# prune_rates_global = [0.2, 0.3, 0.4, 0.5, 0.6]"
   ]
  },
  {
   "cell_type": "code",
   "execution_count": null,
   "id": "a3164fc5",
   "metadata": {},
   "outputs": [],
   "source": []
  },
  {
   "cell_type": "code",
   "execution_count": 57,
   "id": "2049fadf",
   "metadata": {},
   "outputs": [
    {
     "name": "stdout",
     "output_type": "stream",
     "text": [
      "\n",
      "\n",
      "Iterative Global pruning round = 1\n",
      "LeNet-5 global sparsity = 10.09%\n",
      "\n",
      "Fine-tuning pruned model to recover model's performance\n",
      "\n",
      "\n",
      "epoch: 1 training loss = 0.0263, training accuracy = 99.18%, val_loss = 0.0348 & val_accuracy = 98.99%\n",
      "\n",
      "Saving model with lowest val_loss = 0.0348 for iterative pruning round = 1\n",
      "\n",
      "\n",
      "epoch: 2 training loss = 0.0185, training accuracy = 99.39%, val_loss = 0.0437 & val_accuracy = 98.75%\n",
      "\n",
      "\n",
      "epoch: 3 training loss = 0.0157, training accuracy = 99.48%, val_loss = 0.0396 & val_accuracy = 99.01%\n",
      "\n",
      "\n",
      "epoch: 4 training loss = 0.0147, training accuracy = 99.51%, val_loss = 0.0408 & val_accuracy = 98.96%\n",
      "\n",
      "\n",
      "'EarlyStopping' called!\n",
      "\n",
      "\n",
      "\n",
      "Iterative Global pruning round = 2\n",
      "LeNet-5 global sparsity = 19.46%\n",
      "\n",
      "Fine-tuning pruned model to recover model's performance\n",
      "\n",
      "\n",
      "epoch: 1 training loss = 0.1496, training accuracy = 90.36%, val_loss = 0.1716 & val_accuracy = 89.99%\n",
      "\n",
      "Saving model with lowest val_loss = 0.1716 for iterative pruning round = 2\n",
      "\n",
      "\n",
      "epoch: 2 training loss = 0.1422, training accuracy = 90.60%, val_loss = 0.1691 & val_accuracy = 90.14%\n",
      "\n",
      "Saving model with lowest val_loss = 0.1691 for iterative pruning round = 2\n",
      "\n",
      "\n",
      "epoch: 3 training loss = 0.1404, training accuracy = 90.65%, val_loss = 0.1940 & val_accuracy = 89.71%\n",
      "\n",
      "\n",
      "epoch: 4 training loss = 0.1406, training accuracy = 90.65%, val_loss = 0.1768 & val_accuracy = 90.15%\n",
      "\n",
      "\n",
      "epoch: 5 training loss = 0.1399, training accuracy = 90.66%, val_loss = 0.1770 & val_accuracy = 90.13%\n",
      "\n",
      "\n",
      "'EarlyStopping' called!\n",
      "\n",
      "\n",
      "\n",
      "Iterative Global pruning round = 3\n",
      "LeNet-5 global sparsity = 28.34%\n",
      "\n",
      "Fine-tuning pruned model to recover model's performance\n",
      "\n",
      "\n",
      "epoch: 1 training loss = 0.3314, training accuracy = 80.71%, val_loss = 0.3665 & val_accuracy = 80.38%\n",
      "\n",
      "Saving model with lowest val_loss = 0.3665 for iterative pruning round = 3\n",
      "\n",
      "\n",
      "epoch: 2 training loss = 0.3247, training accuracy = 80.99%, val_loss = 0.3637 & val_accuracy = 80.50%\n",
      "\n",
      "Saving model with lowest val_loss = 0.3637 for iterative pruning round = 3\n",
      "\n",
      "\n",
      "epoch: 3 training loss = 0.3240, training accuracy = 80.82%, val_loss = 0.3678 & val_accuracy = 80.47%\n",
      "\n",
      "\n",
      "epoch: 4 training loss = 0.3240, training accuracy = 80.88%, val_loss = 0.3671 & val_accuracy = 80.49%\n",
      "\n",
      "\n",
      "epoch: 5 training loss = 0.3231, training accuracy = 81.08%, val_loss = 0.3668 & val_accuracy = 79.98%\n",
      "\n",
      "\n",
      "'EarlyStopping' called!\n",
      "\n",
      "\n",
      "\n",
      "Iterative Global pruning round = 4\n",
      "LeNet-5 global sparsity = 36.72%\n",
      "\n",
      "Fine-tuning pruned model to recover model's performance\n",
      "\n",
      "\n",
      "epoch: 1 training loss = 0.5666, training accuracy = 70.94%, val_loss = 0.6045 & val_accuracy = 70.35%\n",
      "\n",
      "Saving model with lowest val_loss = 0.6045 for iterative pruning round = 4\n",
      "\n",
      "\n",
      "epoch: 2 training loss = 0.5595, training accuracy = 71.13%, val_loss = 0.6063 & val_accuracy = 70.34%\n",
      "\n",
      "\n",
      "epoch: 3 training loss = 0.5609, training accuracy = 71.10%, val_loss = 0.6099 & val_accuracy = 70.22%\n",
      "\n",
      "\n",
      "epoch: 4 training loss = 0.5592, training accuracy = 71.14%, val_loss = 0.6090 & val_accuracy = 70.28%\n",
      "\n",
      "\n",
      "'EarlyStopping' called!\n",
      "\n",
      "\n",
      "\n",
      "Iterative Global pruning round = 5\n",
      "LeNet-5 global sparsity = 44.60%\n",
      "\n",
      "Fine-tuning pruned model to recover model's performance\n",
      "\n",
      "\n",
      "epoch: 1 training loss = 0.8282, training accuracy = 60.55%, val_loss = 0.8600 & val_accuracy = 60.10%\n",
      "\n",
      "Saving model with lowest val_loss = 0.8600 for iterative pruning round = 5\n",
      "\n",
      "\n",
      "epoch: 2 training loss = 0.8169, training accuracy = 60.71%, val_loss = 0.8579 & val_accuracy = 60.11%\n",
      "\n",
      "Saving model with lowest val_loss = 0.8579 for iterative pruning round = 5\n",
      "\n",
      "\n",
      "epoch: 3 training loss = 0.8171, training accuracy = 60.72%, val_loss = 0.8593 & val_accuracy = 60.14%\n",
      "\n",
      "\n",
      "epoch: 4 training loss = 0.8171, training accuracy = 60.71%, val_loss = 0.8539 & val_accuracy = 60.30%\n",
      "\n",
      "Saving model with lowest val_loss = 0.8539 for iterative pruning round = 5\n",
      "\n",
      "\n",
      "epoch: 5 training loss = 0.8169, training accuracy = 60.70%, val_loss = 0.8720 & val_accuracy = 60.24%\n",
      "\n",
      "\n",
      "epoch: 6 training loss = 0.8145, training accuracy = 60.78%, val_loss = 0.8690 & val_accuracy = 60.11%\n",
      "\n",
      "\n",
      "epoch: 7 training loss = 0.8155, training accuracy = 60.74%, val_loss = 0.8696 & val_accuracy = 60.10%\n",
      "\n",
      "\n",
      "'EarlyStopping' called!\n",
      "\n",
      "\n",
      "\n",
      "Iterative Global pruning round = 6\n",
      "LeNet-5 global sparsity = 48.26%\n",
      "\n",
      "Fine-tuning pruned model to recover model's performance\n",
      "\n",
      "\n",
      "epoch: 1 training loss = 0.8237, training accuracy = 60.57%, val_loss = 0.8598 & val_accuracy = 60.08%\n",
      "\n",
      "Saving model with lowest val_loss = 0.8598 for iterative pruning round = 6\n",
      "\n",
      "\n",
      "epoch: 2 training loss = 0.8169, training accuracy = 60.71%, val_loss = 0.8604 & val_accuracy = 60.19%\n",
      "\n",
      "\n",
      "epoch: 3 training loss = 0.8154, training accuracy = 60.75%, val_loss = 0.8689 & val_accuracy = 60.11%\n",
      "\n",
      "\n",
      "epoch: 4 training loss = 0.8154, training accuracy = 60.75%, val_loss = 0.8700 & val_accuracy = 60.19%\n",
      "\n",
      "\n",
      "'EarlyStopping' called!\n",
      "\n",
      "\n",
      "\n",
      "Iterative Global pruning round = 7\n",
      "LeNet-5 global sparsity = 51.43%\n",
      "\n",
      "Fine-tuning pruned model to recover model's performance\n",
      "\n",
      "\n",
      "epoch: 1 training loss = 0.8319, training accuracy = 60.49%, val_loss = 0.8560 & val_accuracy = 60.10%\n",
      "\n",
      "Saving model with lowest val_loss = 0.8560 for iterative pruning round = 7\n",
      "\n",
      "\n",
      "epoch: 2 training loss = 0.8197, training accuracy = 60.66%, val_loss = 0.8627 & val_accuracy = 60.08%\n",
      "\n",
      "\n",
      "epoch: 3 training loss = 0.8182, training accuracy = 60.70%, val_loss = 0.8716 & val_accuracy = 59.92%\n",
      "\n",
      "\n",
      "epoch: 4 training loss = 0.8175, training accuracy = 60.72%, val_loss = 0.8628 & val_accuracy = 60.13%\n",
      "\n",
      "\n",
      "'EarlyStopping' called!\n",
      "\n",
      "\n",
      "\n",
      "Iterative Global pruning round = 8\n",
      "LeNet-5 global sparsity = 54.59%\n",
      "\n",
      "Fine-tuning pruned model to recover model's performance\n",
      "\n",
      "\n",
      "epoch: 1 training loss = 0.8384, training accuracy = 60.33%, val_loss = 0.8634 & val_accuracy = 60.03%\n",
      "\n",
      "Saving model with lowest val_loss = 0.8634 for iterative pruning round = 8\n",
      "\n",
      "\n",
      "epoch: 2 training loss = 0.8236, training accuracy = 60.60%, val_loss = 0.8557 & val_accuracy = 60.10%\n",
      "\n",
      "Saving model with lowest val_loss = 0.8557 for iterative pruning round = 8\n",
      "\n",
      "\n",
      "epoch: 3 training loss = 0.8207, training accuracy = 60.65%, val_loss = 0.8630 & val_accuracy = 59.89%\n",
      "\n",
      "\n",
      "epoch: 4 training loss = 0.8202, training accuracy = 60.66%, val_loss = 0.8600 & val_accuracy = 60.10%\n",
      "\n",
      "\n",
      "epoch: 5 training loss = 0.8186, training accuracy = 60.71%, val_loss = 0.8635 & val_accuracy = 60.05%\n",
      "\n",
      "\n",
      "'EarlyStopping' called!\n",
      "\n",
      "\n",
      "\n",
      "Iterative Global pruning round = 9\n",
      "LeNet-5 global sparsity = 57.26%\n",
      "\n",
      "Fine-tuning pruned model to recover model's performance\n",
      "\n",
      "\n",
      "epoch: 1 training loss = 0.8311, training accuracy = 60.45%, val_loss = 0.8759 & val_accuracy = 59.75%\n",
      "\n",
      "Saving model with lowest val_loss = 0.8759 for iterative pruning round = 9\n",
      "\n",
      "\n",
      "epoch: 2 training loss = 0.8210, training accuracy = 60.64%, val_loss = 0.8698 & val_accuracy = 60.12%\n",
      "\n",
      "Saving model with lowest val_loss = 0.8698 for iterative pruning round = 9\n",
      "\n",
      "\n",
      "epoch: 3 training loss = 0.8207, training accuracy = 60.65%, val_loss = 0.8724 & val_accuracy = 60.03%\n",
      "\n",
      "\n",
      "epoch: 4 training loss = 0.8191, training accuracy = 60.67%, val_loss = 0.8734 & val_accuracy = 59.93%\n",
      "\n",
      "\n",
      "epoch: 5 training loss = 0.8189, training accuracy = 60.65%, val_loss = 0.8740 & val_accuracy = 59.92%\n",
      "\n",
      "\n",
      "'EarlyStopping' called!\n",
      "\n",
      "\n",
      "\n",
      "Iterative Global pruning round = 10\n",
      "LeNet-5 global sparsity = 59.93%\n",
      "\n",
      "Fine-tuning pruned model to recover model's performance\n",
      "\n",
      "\n",
      "epoch: 1 training loss = 0.8436, training accuracy = 60.24%, val_loss = 0.8716 & val_accuracy = 59.93%\n",
      "\n",
      "Saving model with lowest val_loss = 0.8716 for iterative pruning round = 10\n",
      "\n",
      "\n",
      "epoch: 2 training loss = 0.8296, training accuracy = 60.52%, val_loss = 0.8731 & val_accuracy = 59.85%\n",
      "\n",
      "\n",
      "epoch: 3 training loss = 0.8262, training accuracy = 60.57%, val_loss = 0.8774 & val_accuracy = 59.84%\n",
      "\n",
      "\n",
      "epoch: 4 training loss = 0.8246, training accuracy = 60.60%, val_loss = 0.8699 & val_accuracy = 59.91%\n",
      "\n",
      "Saving model with lowest val_loss = 0.8699 for iterative pruning round = 10\n",
      "\n",
      "\n",
      "epoch: 5 training loss = 0.8227, training accuracy = 60.60%, val_loss = 0.8724 & val_accuracy = 60.06%\n",
      "\n",
      "\n",
      "epoch: 6 training loss = 0.8226, training accuracy = 60.61%, val_loss = 0.8727 & val_accuracy = 59.98%\n",
      "\n",
      "\n",
      "epoch: 7 training loss = 0.8203, training accuracy = 60.65%, val_loss = 0.8747 & val_accuracy = 59.96%\n",
      "\n",
      "\n",
      "'EarlyStopping' called!\n",
      "\n"
     ]
    }
   ],
   "source": [
    "for iter_prune_round in range(10):\n",
    "    print(f\"\\n\\nIterative Global pruning round = {iter_prune_round + 1}\")\n",
    "    \n",
    "    # Prune layer-wise in a structured manner-\n",
    "    prune.ln_structured(best_model.conv1, name = \"weight\", amount = 0.1, n = 2, dim = 0)\n",
    "    prune.ln_structured(best_model.conv2, name = \"weight\", amount = 0.1, n = 2, dim = 0)\n",
    "    prune.ln_structured(best_model.conv3, name = \"weight\", amount = 0.1, n = 2, dim = 0)\n",
    "    prune.ln_structured(best_model.op, name = \"weight\", amount = 0.1, n = 2, dim = 0)\n",
    "\n",
    "    # Print current global sparsity level-\n",
    "    print(f\"LeNet-5 global sparsity = {compute_sparsity(best_model):.2f}%\")\n",
    "    \n",
    "    \n",
    "    # Fine-training loop-\n",
    "    print(\"\\nFine-tuning pruned model to recover model's performance\\n\")\n",
    "    \n",
    "    # Initialize parameters for Early Stopping manual implementation-\n",
    "    best_val_loss = 100\n",
    "    loc_patience = 0\n",
    "    \n",
    "    for epoch in range(num_epochs):\n",
    "        running_loss = 0.0\n",
    "        running_corrects = 0.0\n",
    "    \n",
    "        if loc_patience >= patience:\n",
    "            print(\"\\n'EarlyStopping' called!\\n\")\n",
    "            break\n",
    "\n",
    "        running_loss, running_corrects = train_model(best_model, train_loader)\n",
    "  \n",
    "        # Compute training loss and accuracy for one epoch-\n",
    "        epoch_loss = running_loss / len(train_dataset)\n",
    "        epoch_acc = running_corrects.double() / len(train_dataset)\n",
    "    \n",
    "        running_loss_val, correct, total = test_model(best_model, test_loader)\n",
    "\n",
    "        # Compute validation loss and accuracy-\n",
    "        epoch_val_loss = running_loss_val / len(test_dataset)\n",
    "        val_acc = 100 * (correct / total)\n",
    "    \n",
    "        print(f\"\\nepoch: {epoch + 1} training loss = {epoch_loss:.4f}, training accuracy = {epoch_acc * 100:.2f}%, val_loss = {epoch_val_loss:.4f} & val_accuracy = {val_acc:.2f}%\\n\")\n",
    "\n",
    "        # Code for manual Early Stopping:\n",
    "        if (epoch_val_loss < best_val_loss) and np.abs(epoch_val_loss - best_val_loss) >= minimum_delta:\n",
    "        \n",
    "            # update 'best_val_loss' variable to lowest loss encountered so far-\n",
    "            best_val_loss = epoch_val_loss\n",
    "        \n",
    "            # reset 'loc_patience' variable-\n",
    "            loc_patience = 0\n",
    "        \n",
    "            print(f\"Saving model with lowest val_loss = {epoch_val_loss:.4f} for iterative pruning round = {iter_prune_round + 1}\\n\")\n",
    "        \n",
    "            # Save trained model with validation accuracy-\n",
    "            torch.save(best_model.state_dict(), f\"LeNet-4_Trained_sparsity-{compute_sparsity(best_model):.2f}.pth\")\n",
    "            \n",
    "            # Save 'best' model's metrics to Python3 dict-\n",
    "            history[iter_prune_round + 1] = {'sparsity': compute_sparsity(best_model), 'best_acc': epoch_acc * 100, 'best_loss': epoch_loss,\n",
    "                                'best_val_acc': val_acc, 'best_val_loss': epoch_val_loss}\n",
    "        \n",
    "        else:  # there is no improvement in monitored metric 'val_loss'\n",
    "            loc_patience += 1  # number of epochs without any improvement\n",
    "\n",
    "        "
   ]
  },
  {
   "cell_type": "code",
   "execution_count": null,
   "id": "824c1e5d",
   "metadata": {},
   "outputs": [],
   "source": []
  },
  {
   "cell_type": "code",
   "execution_count": 58,
   "id": "1c69fe38",
   "metadata": {},
   "outputs": [],
   "source": [
    "import pickle\n",
    "\n",
    "with open(\"LeNet-4_history_structured_layerwise.pkl\", \"wb\") as file:\n",
    "    pickle.dump(history, file)"
   ]
  },
  {
   "cell_type": "code",
   "execution_count": null,
   "id": "ca6c3ad0",
   "metadata": {},
   "outputs": [],
   "source": []
  },
  {
   "cell_type": "code",
   "execution_count": null,
   "id": "81a59ed1",
   "metadata": {},
   "outputs": [],
   "source": []
  },
  {
   "cell_type": "markdown",
   "id": "b7558908",
   "metadata": {},
   "source": [
    "### Visualize training metrics:"
   ]
  },
  {
   "cell_type": "code",
   "execution_count": 85,
   "id": "6ecffe7d",
   "metadata": {},
   "outputs": [],
   "source": [
    "# Python3 dict for training accuracy-\n",
    "plot_acc = {}"
   ]
  },
  {
   "cell_type": "code",
   "execution_count": 86,
   "id": "a621fdd5",
   "metadata": {},
   "outputs": [],
   "source": [
    "for epoch in history.keys():\n",
    "    sparsity = history[epoch]['sparsity'].item()\n",
    "    plot_acc[sparsity] = history[epoch]['best_acc'].item()"
   ]
  },
  {
   "cell_type": "code",
   "execution_count": 87,
   "id": "56f72f2b",
   "metadata": {},
   "outputs": [
    {
     "data": {
      "text/plain": [
       "{10.086902618408203: 99.18,\n",
       " 19.459962844848633: 90.59833333333333,\n",
       " 28.336435317993164: 80.99166666666666,\n",
       " 36.71632385253906: 70.94166666666666,\n",
       " 44.59962844848633: 60.71333333333333,\n",
       " 48.26194763183594: 60.568333333333335,\n",
       " 51.42768478393555: 60.486666666666665,\n",
       " 54.593421936035156: 60.60333333333333,\n",
       " 57.262569427490234: 60.64166666666667,\n",
       " 59.93172073364258: 60.60166666666667}"
      ]
     },
     "execution_count": 87,
     "metadata": {},
     "output_type": "execute_result"
    }
   ],
   "source": [
    "plot_acc"
   ]
  },
  {
   "cell_type": "code",
   "execution_count": null,
   "id": "0ca569d4",
   "metadata": {},
   "outputs": [],
   "source": []
  },
  {
   "cell_type": "code",
   "execution_count": 82,
   "id": "469cdeb6",
   "metadata": {},
   "outputs": [],
   "source": [
    "# Python3 dict for validation accuracy-\n",
    "plot_val_acc = {}"
   ]
  },
  {
   "cell_type": "code",
   "execution_count": 83,
   "id": "2d959a99",
   "metadata": {},
   "outputs": [],
   "source": [
    "for epoch in history.keys():\n",
    "    sparsity = history[epoch]['sparsity'].item()\n",
    "    plot_val_acc[sparsity] = history[epoch]['best_val_acc'].item()"
   ]
  },
  {
   "cell_type": "code",
   "execution_count": 84,
   "id": "62a0aa0b",
   "metadata": {},
   "outputs": [
    {
     "data": {
      "text/plain": [
       "{10.086902618408203: 98.98999786376953,\n",
       " 19.459962844848633: 90.13999938964844,\n",
       " 28.336435317993164: 80.5,\n",
       " 36.71632385253906: 70.3499984741211,\n",
       " 44.59962844848633: 60.29999923706055,\n",
       " 48.26194763183594: 60.07999801635742,\n",
       " 51.42768478393555: 60.10000228881836,\n",
       " 54.593421936035156: 60.10000228881836,\n",
       " 57.262569427490234: 60.119998931884766,\n",
       " 59.93172073364258: 59.90999984741211}"
      ]
     },
     "execution_count": 84,
     "metadata": {},
     "output_type": "execute_result"
    }
   ],
   "source": [
    "plot_val_acc"
   ]
  },
  {
   "cell_type": "code",
   "execution_count": null,
   "id": "52ea82fe",
   "metadata": {},
   "outputs": [],
   "source": []
  },
  {
   "cell_type": "code",
   "execution_count": 88,
   "id": "2c72accb",
   "metadata": {},
   "outputs": [
    {
     "data": {
      "image/png": "[encoded data removed]",
      "text/plain": [
       "<Figure size 800x560 with 1 Axes>"
      ]
     },
     "metadata": {},
     "output_type": "display_data"
    }
   ],
   "source": [
    "# Visualization of training accuracy VS percentage of weights pruned-\n",
    "fig=plt.figure(figsize=(10, 7), dpi= 80, facecolor='w', edgecolor='k')\n",
    "\n",
    "plt.plot(list(plot_acc.keys()), list(plot_acc.values()), label = 'training accuracy')\n",
    "plt.plot(list(plot_val_acc.keys()), list(plot_val_acc.values()), label = 'validation accuracy')\n",
    "\n",
    "plt.title(\"LeNet-4 CNN - Structured layer-wise pruning: sparsity (%) vs. accuracy\")\n",
    "plt.xlabel(\"global % weights pruned\")\n",
    "plt.ylabel(\"Accuracy\")\n",
    "plt.legend(loc = 'best')\n",
    "plt.show()"
   ]
  },
  {
   "cell_type": "code",
   "execution_count": null,
   "id": "24c743b8",
   "metadata": {},
   "outputs": [],
   "source": []
  },
  {
   "cell_type": "code",
   "execution_count": 92,
   "id": "194b65ec",
   "metadata": {},
   "outputs": [],
   "source": [
    "# Python3 dict for training accuracy-\n",
    "plot_loss = {}"
   ]
  },
  {
   "cell_type": "code",
   "execution_count": 93,
   "id": "23210100",
   "metadata": {},
   "outputs": [],
   "source": [
    "for epoch in history.keys():\n",
    "    sparsity = history[epoch]['sparsity'].item()\n",
    "    plot_loss[sparsity] = history[epoch]['best_loss']"
   ]
  },
  {
   "cell_type": "code",
   "execution_count": null,
   "id": "05b21718",
   "metadata": {},
   "outputs": [],
   "source": []
  },
  {
   "cell_type": "code",
   "execution_count": 96,
   "id": "6e6bedb3",
   "metadata": {},
   "outputs": [],
   "source": [
    "# Python3 dict for training accuracy-\n",
    "plot_val_loss = {}"
   ]
  },
  {
   "cell_type": "code",
   "execution_count": 97,
   "id": "e9741f3f",
   "metadata": {},
   "outputs": [],
   "source": [
    "for epoch in history.keys():\n",
    "    sparsity = history[epoch]['sparsity'].item()\n",
    "    plot_val_loss[sparsity] = history[epoch]['best_val_loss']"
   ]
  },
  {
   "cell_type": "code",
   "execution_count": null,
   "id": "7e880935",
   "metadata": {},
   "outputs": [],
   "source": []
  },
  {
   "cell_type": "code",
   "execution_count": 99,
   "id": "3f19eb78",
   "metadata": {},
   "outputs": [
    {
     "data": {
      "image/png": "[encoded data removed]",
      "text/plain": [
       "<Figure size 800x560 with 1 Axes>"
      ]
     },
     "metadata": {},
     "output_type": "display_data"
    }
   ],
   "source": [
    "# Visualization of training accuracy VS percentage of weights pruned-\n",
    "fig=plt.figure(figsize=(10, 7), dpi= 80, facecolor='w', edgecolor='k')\n",
    "\n",
    "plt.plot(list(plot_loss.keys()), list(plot_loss.values()), label = 'training loss')\n",
    "plt.plot(list(plot_val_loss.keys()), list(plot_val_loss.values()), label = 'validation loss')\n",
    "\n",
    "plt.title(\"LeNet-4 CNN - Structured layer-wise pruning: sparsity (%) vs. loss\")\n",
    "plt.xlabel(\"global % weights pruned\")\n",
    "plt.ylabel(\"Loss\")\n",
    "plt.legend(loc = 'best')\n",
    "plt.show()"
   ]
  },
  {
   "cell_type": "code",
   "execution_count": null,
   "id": "e9452553",
   "metadata": {},
   "outputs": [],
   "source": []
  },
  {
   "cell_type": "code",
   "execution_count": null,
   "id": "e7537e18",
   "metadata": {},
   "outputs": [],
   "source": []
  },
  {
   "cell_type": "code",
   "execution_count": 105,
   "id": "80140409",
   "metadata": {},
   "outputs": [
    {
     "name": "stdout",
     "output_type": "stream",
     "text": [
      "sparsity = 10.09%, best acc = 99.18% & best val acc = 98.99%\n",
      "sparsity = 19.46%, best acc = 90.60% & best val acc = 90.14%\n",
      "sparsity = 28.34%, best acc = 80.99% & best val acc = 80.50%\n",
      "sparsity = 36.72%, best acc = 70.94% & best val acc = 70.35%\n",
      "sparsity = 44.60%, best acc = 60.71% & best val acc = 60.30%\n",
      "sparsity = 48.26%, best acc = 60.57% & best val acc = 60.08%\n",
      "sparsity = 51.43%, best acc = 60.49% & best val acc = 60.10%\n",
      "sparsity = 54.59%, best acc = 60.60% & best val acc = 60.10%\n",
      "sparsity = 57.26%, best acc = 60.64% & best val acc = 60.12%\n",
      "sparsity = 59.93%, best acc = 60.60% & best val acc = 59.91%\n"
     ]
    }
   ],
   "source": [
    "# Print training details for sparsity vs. accuracies-\n",
    "for epoch in history.keys():\n",
    "    print(f\"sparsity = {history[epoch]['sparsity'].item():.2f}%, best acc = {history[epoch]['best_acc']:.2f}% & best val acc = {history[epoch]['best_val_acc'].item():.2f}%\")"
   ]
  },
  {
   "cell_type": "code",
   "execution_count": null,
   "id": "9c7e4f09",
   "metadata": {},
   "outputs": [],
   "source": []
  },
  {
   "cell_type": "code",
   "execution_count": null,
   "id": "b470a1ab",
   "metadata": {},
   "outputs": [],
   "source": []
  },
  {
   "cell_type": "code",
   "execution_count": null,
   "id": "7e4cab88",
   "metadata": {},
   "outputs": [],
   "source": []
  },
  {
   "cell_type": "code",
   "execution_count": null,
   "id": "b89b9003",
   "metadata": {},
   "outputs": [],
   "source": []
  },
  {
   "cell_type": "markdown",
   "id": "1e2ceef3",
   "metadata": {},
   "source": [
    "### Load pruned model for _Neural Architecture Search_:\n",
    "\n",
    "https://discuss.pytorch.org/t/proper-way-to-load-a-pruned-network/77694/3\n"
   ]
  },
  {
   "cell_type": "code",
   "execution_count": 106,
   "id": "f58b9f5f",
   "metadata": {},
   "outputs": [
    {
     "ename": "RuntimeError",
     "evalue": "Error(s) in loading state_dict for LeNet5:\n\tMissing key(s) in state_dict: \"conv1.weight\", \"conv2.weight\", \"conv3.weight\", \"op.weight\". \n\tUnexpected key(s) in state_dict: \"conv1.weight_orig\", \"conv1.weight_mask\", \"conv2.weight_orig\", \"conv2.weight_mask\", \"conv3.weight_orig\", \"conv3.weight_mask\", \"op.weight_orig\", \"op.weight_mask\". ",
     "output_type": "error",
     "traceback": [
      "\u001b[0;31m---------------------------------------------------------------------------\u001b[0m",
      "\u001b[0;31mRuntimeError\u001b[0m                              Traceback (most recent call last)",
      "\u001b[0;32m<ipython-input-106-1730c6acfd73>\u001b[0m in \u001b[0;36m<module>\u001b[0;34m\u001b[0m\n\u001b[1;32m      1\u001b[0m \u001b[0;31m# Initialize and load 'best' pruned weights-\u001b[0m\u001b[0;34m\u001b[0m\u001b[0;34m\u001b[0m\u001b[0;34m\u001b[0m\u001b[0m\n\u001b[1;32m      2\u001b[0m \u001b[0mpruned_model\u001b[0m \u001b[0;34m=\u001b[0m \u001b[0mLeNet5\u001b[0m\u001b[0;34m(\u001b[0m\u001b[0;34m)\u001b[0m\u001b[0;34m.\u001b[0m\u001b[0mto\u001b[0m\u001b[0;34m(\u001b[0m\u001b[0mdevice\u001b[0m \u001b[0;34m=\u001b[0m \u001b[0mdevice\u001b[0m\u001b[0;34m)\u001b[0m\u001b[0;34m\u001b[0m\u001b[0;34m\u001b[0m\u001b[0m\n\u001b[0;32m----> 3\u001b[0;31m \u001b[0mpruned_model\u001b[0m\u001b[0;34m.\u001b[0m\u001b[0mload_state_dict\u001b[0m\u001b[0;34m(\u001b[0m\u001b[0mtorch\u001b[0m\u001b[0;34m.\u001b[0m\u001b[0mload\u001b[0m\u001b[0;34m(\u001b[0m\u001b[0;34m\"/home/arjun/Documents/Programs/Python_Codes/PyTorch_Resources/Good_Codes/Pruning_codes_and_resources/LeNet-4_files/LeNet-4_Trained_sparsity-10.09.pth\"\u001b[0m\u001b[0;34m)\u001b[0m\u001b[0;34m)\u001b[0m\u001b[0;34m\u001b[0m\u001b[0;34m\u001b[0m\u001b[0m\n\u001b[0m",
      "\u001b[0;32m~/anaconda3/lib/python3.8/site-packages/torch/nn/modules/module.py\u001b[0m in \u001b[0;36mload_state_dict\u001b[0;34m(self, state_dict, strict)\u001b[0m\n\u001b[1;32m   1049\u001b[0m \u001b[0;34m\u001b[0m\u001b[0m\n\u001b[1;32m   1050\u001b[0m         \u001b[0;32mif\u001b[0m \u001b[0mlen\u001b[0m\u001b[0;34m(\u001b[0m\u001b[0merror_msgs\u001b[0m\u001b[0;34m)\u001b[0m \u001b[0;34m>\u001b[0m \u001b[0;36m0\u001b[0m\u001b[0;34m:\u001b[0m\u001b[0;34m\u001b[0m\u001b[0;34m\u001b[0m\u001b[0m\n\u001b[0;32m-> 1051\u001b[0;31m             raise RuntimeError('Error(s) in loading state_dict for {}:\\n\\t{}'.format(\n\u001b[0m\u001b[1;32m   1052\u001b[0m                                self.__class__.__name__, \"\\n\\t\".join(error_msgs)))\n\u001b[1;32m   1053\u001b[0m         \u001b[0;32mreturn\u001b[0m \u001b[0m_IncompatibleKeys\u001b[0m\u001b[0;34m(\u001b[0m\u001b[0mmissing_keys\u001b[0m\u001b[0;34m,\u001b[0m \u001b[0munexpected_keys\u001b[0m\u001b[0;34m)\u001b[0m\u001b[0;34m\u001b[0m\u001b[0;34m\u001b[0m\u001b[0m\n",
      "\u001b[0;31mRuntimeError\u001b[0m: Error(s) in loading state_dict for LeNet5:\n\tMissing key(s) in state_dict: \"conv1.weight\", \"conv2.weight\", \"conv3.weight\", \"op.weight\". \n\tUnexpected key(s) in state_dict: \"conv1.weight_orig\", \"conv1.weight_mask\", \"conv2.weight_orig\", \"conv2.weight_mask\", \"conv3.weight_orig\", \"conv3.weight_mask\", \"op.weight_orig\", \"op.weight_mask\". "
     ]
    }
   ],
   "source": [
    "# Initialize and load 'best' pruned weights-\n",
    "pruned_model = LeNet5().to(device = device)\n",
    "pruned_model.load_state_dict(torch.load(\"/home/arjun/Documents/Programs/Python_Codes/PyTorch_Resources/Good_Codes/Pruning_codes_and_resources/LeNet-4_files/LeNet-4_Trained_sparsity-10.09.pth\"))"
   ]
  },
  {
   "cell_type": "code",
   "execution_count": 43,
   "id": "e8ed45a7",
   "metadata": {},
   "outputs": [],
   "source": [
    "# Define loss and optimizer-\n",
    "loss = nn.CrossEntropyLoss()    # applies softmax for us\n",
    "optimizer = torch.optim.Adam(best_model.parameters(), lr = learning_rate)"
   ]
  },
  {
   "cell_type": "code",
   "execution_count": 44,
   "id": "a426664a",
   "metadata": {},
   "outputs": [
    {
     "name": "stdout",
     "output_type": "stream",
     "text": [
      "number of non-zero parameter in unpruned LeNet-4 CNN = 29150\n"
     ]
    }
   ],
   "source": [
    "print(f\"number of non-zero parameter in unpruned LeNet-4 CNN = {count_params(best_model)}\")"
   ]
  },
  {
   "cell_type": "code",
   "execution_count": 28,
   "id": "0fe48230",
   "metadata": {},
   "outputs": [],
   "source": []
  },
  {
   "cell_type": "code",
   "execution_count": null,
   "id": "53cf2cdc",
   "metadata": {},
   "outputs": [],
   "source": []
  },
  {
   "cell_type": "code",
   "execution_count": 45,
   "id": "a0bc83b4",
   "metadata": {},
   "outputs": [
    {
     "name": "stdout",
     "output_type": "stream",
     "text": [
      "Best trained LeNet-4 metrics on validation dataset:\n",
      "val_loss = 0.0304 & val_acc = 99.14%\n"
     ]
    }
   ],
   "source": [
    "# Compute 'best weights' metrics on validation dataset-\n",
    "running_loss_val, correct, total = test_model(best_model, test_loader)\n",
    "\n",
    "# Compute validation loss and accuracy-\n",
    "val_loss = running_loss_val / len(test_dataset)\n",
    "val_acc = 100 * (correct / total)\n",
    "\n",
    "print(\"Best trained LeNet-4 metrics on validation dataset:\")\n",
    "print(f\"val_loss = {val_loss:.4f} & val_acc = {val_acc:.2f}%\")"
   ]
  },
  {
   "cell_type": "code",
   "execution_count": null,
   "id": "c8aac544",
   "metadata": {},
   "outputs": [],
   "source": []
  },
  {
   "cell_type": "markdown",
   "id": "fc4d692d",
   "metadata": {},
   "source": [
    "### Remove pruning re-parametrization:\n",
    "\n",
    "Remove the pruning before saving the model by using ```prune.remove(layername, \"weight\")```. This makes pruning permanent."
   ]
  },
  {
   "cell_type": "code",
   "execution_count": 33,
   "id": "96705ac2",
   "metadata": {},
   "outputs": [
    {
     "data": {
      "text/plain": [
       "Linear(in_features=1080, out_features=10, bias=True)"
      ]
     },
     "execution_count": 33,
     "metadata": {},
     "output_type": "execute_result"
    }
   ],
   "source": [
    "prune.remove(best_model.conv1, 'weight')\n",
    "prune.remove(best_model.conv2, 'weight')\n",
    "prune.remove(best_model.conv3, 'weight')\n",
    "prune.remove(best_model.op, 'weight')"
   ]
  },
  {
   "cell_type": "code",
   "execution_count": null,
   "id": "a7ee00c2",
   "metadata": {},
   "outputs": [],
   "source": []
  },
  {
   "cell_type": "code",
   "execution_count": 36,
   "id": "b5bbde5f",
   "metadata": {},
   "outputs": [],
   "source": [
    "# list(best_model.conv1.named_parameters())"
   ]
  },
  {
   "cell_type": "code",
   "execution_count": 47,
   "id": "710bbe75",
   "metadata": {},
   "outputs": [
    {
     "name": "stdout",
     "output_type": "stream",
     "text": [
      "layer = conv1.weight has 75.93% sparsity\n",
      "layer = conv2.weight has 90.39% sparsity\n",
      "layer = conv3.weight has 94.13% sparsity\n",
      "layer = op.weight has 92.25% sparsity\n"
     ]
    }
   ],
   "source": [
    "for layer_name in best_model.state_dict().keys():\n",
    "    if 'bias' in layer_name:\n",
    "        continue\n",
    "    else:\n",
    "        loc_sparsity = (torch.sum(best_model.state_dict()[layer_name] == 0) / best_model.state_dict()[layer_name].nelement()) * 100\n",
    "        # print(f\"layer = {layer_name} has {best_model.state_dict()[layer_name].shape}\")\n",
    "        print(f\"layer = {layer_name} has {loc_sparsity:.2f}% sparsity\")"
   ]
  },
  {
   "cell_type": "code",
   "execution_count": null,
   "id": "c5ce7dcc",
   "metadata": {},
   "outputs": [],
   "source": []
  },
  {
   "cell_type": "code",
   "execution_count": 49,
   "id": "08db320a",
   "metadata": {},
   "outputs": [
    {
     "name": "stdout",
     "output_type": "stream",
     "text": [
      "layer: conv1.bias has shape: torch.Size([6])\n",
      "layer: conv1.weight has shape: torch.Size([6, 1, 3, 3])\n",
      "layer: conv2.bias has shape: torch.Size([16])\n",
      "layer: conv2.weight has shape: torch.Size([16, 6, 3, 3])\n",
      "layer: conv3.bias has shape: torch.Size([120])\n",
      "layer: conv3.weight has shape: torch.Size([120, 16, 3, 3])\n",
      "layer: op.bias has shape: torch.Size([10])\n",
      "layer: op.weight has shape: torch.Size([10, 1080])\n"
     ]
    }
   ],
   "source": [
    "for layer_name, param in best_model.named_parameters():\n",
    "    print(f\"layer: {layer_name} has shape: {param.shape}\")"
   ]
  },
  {
   "cell_type": "code",
   "execution_count": null,
   "id": "9928c537",
   "metadata": {},
   "outputs": [],
   "source": []
  },
  {
   "cell_type": "code",
   "execution_count": null,
   "id": "3e0e36e4",
   "metadata": {},
   "outputs": [],
   "source": []
  },
  {
   "cell_type": "code",
   "execution_count": null,
   "id": "57776505",
   "metadata": {},
   "outputs": [],
   "source": []
  }
 ],
 "metadata": {
  "kernelspec": {
   "display_name": "Python 3",
   "language": "python",
   "name": "python3"
  },
  "language_info": {
   "codemirror_mode": {
    "name": "ipython",
    "version": 3
   },
   "file_extension": ".py",
   "mimetype": "text/x-python",
   "name": "python",
   "nbconvert_exporter": "python",
   "pygments_lexer": "ipython3",
   "version": "3.8.8"
  }
 },
 "nbformat": 4,
 "nbformat_minor": 5
}
