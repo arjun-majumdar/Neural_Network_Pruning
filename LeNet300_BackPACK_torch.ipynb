{
 "cells": [
  {
   "cell_type": "markdown",
   "id": "37f0e83a-2196-4935-b90f-ce4cb5730a2b",
   "metadata": {},
   "source": [
    "# GSNR Computation: _LeNet-300_, BackPACK, MNIST & PyTorch\n",
    "\n",
    "- [BackPACK](https://docs.backpack.pt/en/master/main-api.html)\n",
    "- [reference](https://gist.github.com/andres-fr/db9d0ba31d1502df62a09d382e504d1e)"
   ]
  },
  {
   "cell_type": "code",
   "execution_count": 1,
   "id": "0d080f10-0032-4549-9182-3efb810d964d",
   "metadata": {},
   "outputs": [
    {
     "name": "stderr",
     "output_type": "stream",
     "text": [
      "/home/arjunm/anaconda3/envs/torch-cpu/lib/python3.10/site-packages/tqdm/auto.py:22: TqdmWarning: IProgress not found. Please update jupyter and ipywidgets. See https://ipywidgets.readthedocs.io/en/stable/user_install.html\n",
      "  from .autonotebook import tqdm as notebook_tqdm\n"
     ]
    }
   ],
   "source": [
    "import torch\n",
    "import torch.nn as nn\n",
    "import torchvision\n",
    "import torch.nn.functional as F\n",
    "import torchvision.transforms as transforms\n",
    "from backpack import extend, backpack\n",
    "from backpack.extensions import BatchGrad, SumGradSquared, Variance\n",
    "\n",
    "from tqdm import tqdm\n",
    "from tqdm import trange\n",
    "import numpy as np\n",
    "import matplotlib.pyplot as plt\n",
    "import seaborn as sns\n",
    "import os, pickle"
   ]
  },
  {
   "cell_type": "code",
   "execution_count": null,
   "id": "b7b2015c-f263-4377-b122-23f6ed162d25",
   "metadata": {},
   "outputs": [],
   "source": []
  },
  {
   "cell_type": "code",
   "execution_count": null,
   "id": "b8f802a0-da11-4284-b554-258a1a5bb0fc",
   "metadata": {},
   "outputs": [],
   "source": []
  },
  {
   "cell_type": "code",
   "execution_count": 2,
   "id": "1cd06b40-77a9-474b-b643-4f294564bdba",
   "metadata": {},
   "outputs": [
    {
     "name": "stdout",
     "output_type": "stream",
     "text": [
      "torch version: 1.12.1+cu102\n",
      "Number of GPU(s) available = 0\n",
      "PyTorch does not have access to GPU\n",
      "Available device is cpu\n"
     ]
    }
   ],
   "source": [
    "print(f\"torch version: {torch.__version__}\")\n",
    "\n",
    "# Check if there are multiple devices (i.e., GPU cards)-\n",
    "print(f\"Number of GPU(s) available = {torch.cuda.device_count()}\")\n",
    "\n",
    "if torch.cuda.is_available():\n",
    "    print(f\"Current GPU: {torch.cuda.current_device()}\")\n",
    "    print(f\"Current GPU name: {torch.cuda.get_device_name(torch.cuda.current_device())}\")\n",
    "else:\n",
    "    print(\"PyTorch does not have access to GPU\")\n",
    "\n",
    "# Device configuration-\n",
    "device = torch.device('cuda' if torch.cuda.is_available() else 'cpu')\n",
    "print(f'Available device is {device}')"
   ]
  },
  {
   "cell_type": "code",
   "execution_count": null,
   "id": "b4d2214e-dcfb-48b7-a6df-1829f3539a8f",
   "metadata": {},
   "outputs": [],
   "source": []
  },
  {
   "cell_type": "code",
   "execution_count": null,
   "id": "30c3c887-e918-41d8-992a-c1176e4860db",
   "metadata": {},
   "outputs": [],
   "source": []
  },
  {
   "cell_type": "code",
   "execution_count": 3,
   "id": "1ac663ab-ecf7-4c22-86c1-f993c46cd473",
   "metadata": {},
   "outputs": [],
   "source": [
    "# Define neural network hyper-parameters-\n",
    "num_epochs = 70\n",
    "batch_size = 256\n",
    "learning_rate = 0.0012"
   ]
  },
  {
   "cell_type": "code",
   "execution_count": null,
   "id": "80044b6d-05e3-4191-a2e0-918bfe4a9c95",
   "metadata": {},
   "outputs": [],
   "source": []
  },
  {
   "cell_type": "code",
   "execution_count": 4,
   "id": "140ca079-dab2-4902-828d-0146a12b13cd",
   "metadata": {},
   "outputs": [],
   "source": [
    "# MNIST dataset statistics-\n",
    "mean = np.array([0.1307])\n",
    "std_dev = np.array([0.3081])\n",
    "\n",
    "# Define transforms-\n",
    "transforms_apply = transforms.Compose([\n",
    "    transforms.ToTensor(),\n",
    "    transforms.Normalize(mean = mean, std = std_dev)\n",
    "    ])"
   ]
  },
  {
   "cell_type": "code",
   "execution_count": 5,
   "id": "cd29818e-07a2-44e0-a33b-d8a09f36d14b",
   "metadata": {},
   "outputs": [],
   "source": [
    "# MNIST dataset-\n",
    "train_dataset = torchvision.datasets.MNIST(\n",
    "        root = '/home/arjunm/Downloads/.data', train = True,\n",
    "        transform = transforms_apply, download = True\n",
    "        )\n",
    "\n",
    "test_dataset = torchvision.datasets.MNIST(\n",
    "        root = '/home/arjunm/Downloads/.data', train = False,\n",
    "        transform = transforms_apply\n",
    "        )"
   ]
  },
  {
   "cell_type": "code",
   "execution_count": 6,
   "id": "b0358ee5-6aa8-4740-8c7f-f9870d0b876a",
   "metadata": {},
   "outputs": [
    {
     "name": "stdout",
     "output_type": "stream",
     "text": [
      "len(train_dataset): 60000 & len(test_dataset): 10000\n"
     ]
    }
   ],
   "source": [
    "print(f\"len(train_dataset): {len(train_dataset)} & len(test_dataset): {len(test_dataset)}\")"
   ]
  },
  {
   "cell_type": "code",
   "execution_count": 7,
   "id": "8a83bb8e-d9de-4194-93ae-f1c97b8225b5",
   "metadata": {},
   "outputs": [],
   "source": [
    "# Create dataloader-\n",
    "train_loader = torch.utils.data.DataLoader(\n",
    "        dataset = train_dataset, batch_size = batch_size,\n",
    "        shuffle = True\n",
    "        )\n",
    "\n",
    "test_loader = torch.utils.data.DataLoader(\n",
    "        dataset = test_dataset, batch_size = batch_size,\n",
    "        shuffle = True\n",
    "        )"
   ]
  },
  {
   "cell_type": "code",
   "execution_count": 8,
   "id": "25e3f3d0-502c-41d0-9085-42fc142c126d",
   "metadata": {},
   "outputs": [
    {
     "name": "stdout",
     "output_type": "stream",
     "text": [
      "len(train_loader) = 235 & len(test_loader) = 40\n"
     ]
    }
   ],
   "source": [
    "print(f\"len(train_loader) = {len(train_loader)} & len(test_loader) = {len(test_loader)}\")"
   ]
  },
  {
   "cell_type": "code",
   "execution_count": null,
   "id": "3a0a358a-80e0-4c25-9c9a-259a0c2c62a9",
   "metadata": {},
   "outputs": [],
   "source": []
  },
  {
   "cell_type": "code",
   "execution_count": null,
   "id": "eaf2f346-28a5-470b-830d-814c044d2663",
   "metadata": {},
   "outputs": [],
   "source": []
  },
  {
   "cell_type": "code",
   "execution_count": 16,
   "id": "4535f68f-6051-4fa3-86a3-12789c7c0e45",
   "metadata": {},
   "outputs": [
    {
     "name": "stdout",
     "output_type": "stream",
     "text": [
      "images.shape: torch.Size([256, 1, 28, 28])\n"
     ]
    }
   ],
   "source": [
    "# Get some random batch of training images & labels-\n",
    "images, labels = next(iter(train_loader))\n",
    "print(f\"images.shape: {images.shape}\")\n",
    "\n",
    "# De-normalize the batch of images-\n",
    "images *= 255.0"
   ]
  },
  {
   "cell_type": "code",
   "execution_count": 17,
   "id": "61bfb746-054d-4923-9799-0032362f3709",
   "metadata": {},
   "outputs": [
    {
     "data": {
      "image/png": "[encoded data removed]",
      "text/plain": [
       "<Figure size 700x600 with 20 Axes>"
      ]
     },
     "metadata": {},
     "output_type": "display_data"
    }
   ],
   "source": [
    "# Visualize 20 images from training set-\n",
    "plt.figure(figsize = (7, 6))\n",
    "for i in range(20):\n",
    "    # 4 rows & 5 columns-\n",
    "    plt.subplot(4, 5, i + 1)\n",
    "    # plt.imshow(images[i], cmap = 'gray')\n",
    "    # 0 to access first channel-\n",
    "    plt.imshow(images[i][0], cmap = 'gray')\n",
    "    \n",
    "plt.suptitle(\"Sample MNIST training images\")\n",
    "plt.show()"
   ]
  },
  {
   "cell_type": "code",
   "execution_count": 18,
   "id": "93023ef7-7572-40b8-baa7-57a0e85c1a79",
   "metadata": {},
   "outputs": [],
   "source": [
    "del images, labels"
   ]
  },
  {
   "cell_type": "code",
   "execution_count": null,
   "id": "e4b53fc9-8fb1-461d-8f43-d814911a19fe",
   "metadata": {},
   "outputs": [],
   "source": []
  },
  {
   "cell_type": "code",
   "execution_count": null,
   "id": "8bcde904-b390-4b8f-983d-76e77c839fd1",
   "metadata": {},
   "outputs": [],
   "source": []
  },
  {
   "cell_type": "code",
   "execution_count": 9,
   "id": "3508587c-424f-4cae-9cef-0a0e935fef08",
   "metadata": {},
   "outputs": [],
   "source": [
    "class LeNet300(nn.Module):\n",
    "    def __init__(self):\n",
    "        super(LeNet300, self).__init__()\n",
    "    \n",
    "        self.fc1 = nn.Linear(\n",
    "            in_features = 784, out_features = 300,\n",
    "            bias = True\n",
    "        )\n",
    "        self.fc2 = nn.Linear(\n",
    "            in_features = 300, out_features = 100,\n",
    "            bias = True\n",
    "        )\n",
    "        self.op_layer = nn.Linear(\n",
    "            in_features = 100, out_features = 10,\n",
    "            bias = True\n",
    "        )\n",
    "        self.initialize_weights()\n",
    "        \n",
    "    \n",
    "    def initialize_weights(self):\n",
    "        for m in self.modules():\n",
    "            # print(m)\n",
    "            if isinstance(m, nn.Conv2d):\n",
    "                nn.init.kaiming_normal_(m.weight)\n",
    "                \n",
    "                # Do not initialize bias (due to batchnorm)-\n",
    "                if m.bias is not None:\n",
    "                    nn.init.constant_(m.bias, 0)\n",
    "                \n",
    "            elif isinstance(m, nn.BatchNorm2d):\n",
    "                # Standard initialization for batch normalization-\n",
    "                nn.init.constant_(m.weight, 1)\n",
    "                nn.init.constant_(m.bias, 0)\n",
    "\n",
    "            elif isinstance(m, nn.Linear):\n",
    "                nn.init.kaiming_normal_(m.weight)\n",
    "                nn.init.constant_(m.bias, 0)\n",
    "    \n",
    "    \n",
    "    def forward(self, x):\n",
    "        x = F.relu(self.fc1(x))\n",
    "        x = F.relu(self.fc2(x))\n",
    "        return self.op_layer(x)\n",
    "        \n",
    "    "
   ]
  },
  {
   "cell_type": "code",
   "execution_count": null,
   "id": "88375e0c-2021-4bf0-94fb-9b2bbb3685f5",
   "metadata": {},
   "outputs": [],
   "source": []
  },
  {
   "cell_type": "code",
   "execution_count": null,
   "id": "b70044b9-b2ff-43e4-9e57-14173ae6a114",
   "metadata": {},
   "outputs": [],
   "source": []
  },
  {
   "cell_type": "code",
   "execution_count": 10,
   "id": "5d9b13d8-df14-4203-bee3-bcb46d61be08",
   "metadata": {},
   "outputs": [],
   "source": [
    "# Initialize LeNet-300 architecture-\n",
    "model = LeNet300().to(device)"
   ]
  },
  {
   "cell_type": "code",
   "execution_count": 11,
   "id": "d56eb841-ad82-490f-8d85-c708ef99f01e",
   "metadata": {},
   "outputs": [],
   "source": [
    "# Save randomly initialized parameters-\n",
    "torch.save(model.state_dict(), \"LeNet300_random_parameters.pth\")"
   ]
  },
  {
   "cell_type": "code",
   "execution_count": null,
   "id": "84ae8f9b-6b6e-447b-843b-92daecdc22c1",
   "metadata": {},
   "outputs": [],
   "source": []
  },
  {
   "cell_type": "code",
   "execution_count": 12,
   "id": "3e99c3d8-4088-422e-94ef-0c72beccd976",
   "metadata": {},
   "outputs": [
    {
     "name": "stdout",
     "output_type": "stream",
     "text": [
      "layer: torch.Size([300, 784]) has 235200 params\n",
      "layer: torch.Size([300]) has 300 params\n",
      "layer: torch.Size([100, 300]) has 30000 params\n",
      "layer: torch.Size([100]) has 100 params\n",
      "layer: torch.Size([10, 100]) has 1000 params\n",
      "layer: torch.Size([10]) has 10 params\n"
     ]
    }
   ],
   "source": [
    "tot_params = 0\n",
    "for param in model.parameters():\n",
    "    print(f\"layer: {param.shape} has {param.nelement()} params\")\n",
    "    tot_params += param.nelement()\n",
    "\n",
    "del param"
   ]
  },
  {
   "cell_type": "code",
   "execution_count": 13,
   "id": "d237b003-e253-44e9-83b9-18b83926b06c",
   "metadata": {},
   "outputs": [
    {
     "name": "stdout",
     "output_type": "stream",
     "text": [
      "LeNet-300 CNN has 266610 total parameters\n"
     ]
    }
   ],
   "source": [
    "print(f\"LeNet-300 CNN has {tot_params} total parameters\")"
   ]
  },
  {
   "cell_type": "code",
   "execution_count": null,
   "id": "000b6d91-8fd4-41d9-9e41-b09135f371ed",
   "metadata": {},
   "outputs": [],
   "source": []
  },
  {
   "cell_type": "code",
   "execution_count": 14,
   "id": "a144f6cf-f570-45ba-861d-1c8880b7fa2c",
   "metadata": {},
   "outputs": [],
   "source": [
    "# Define loss function and optimizer-\n",
    "loss_fn = nn.CrossEntropyLoss()\n",
    "\n",
    "optimizer = torch.optim.SGD(\n",
    "    params = model.parameters(), lr = 0.01,\n",
    "    momentum = 0.0, weight_decay = 0\n",
    ")"
   ]
  },
  {
   "cell_type": "code",
   "execution_count": null,
   "id": "f9685789-6dda-4d0d-a8e4-123bb4b64e5e",
   "metadata": {},
   "outputs": [],
   "source": []
  },
  {
   "cell_type": "code",
   "execution_count": 15,
   "id": "cbbb25db-a143-4e1f-babc-06c0dd274e7e",
   "metadata": {},
   "outputs": [],
   "source": [
    "def initialize_gsnr(model):\n",
    "    gsnr_d = {}\n",
    "    i = 0\n",
    "    \n",
    "    for params in model.parameters():\n",
    "        # gsnr_d[i] = torch.zeros_like(params)\n",
    "        gsnr_d[i] = np.zeros_like(params.detach().cpu().numpy())\n",
    "        i += 1\n",
    "    \n",
    "    del params\n",
    "    \n",
    "    return gsnr_d\n"
   ]
  },
  {
   "cell_type": "code",
   "execution_count": null,
   "id": "8fda9bea-281e-49c6-89b4-c2cfbee3deb9",
   "metadata": {},
   "outputs": [],
   "source": []
  },
  {
   "cell_type": "code",
   "execution_count": 16,
   "id": "961c727f-2c14-466b-bcff-97e53f25488b",
   "metadata": {},
   "outputs": [],
   "source": [
    "# backpack wrapper for model and loss function-\n",
    "model = extend(model)\n",
    "loss_fn = extend(loss_fn)"
   ]
  },
  {
   "cell_type": "code",
   "execution_count": 17,
   "id": "8e1b2706-0818-48e7-90ff-30f729a924db",
   "metadata": {},
   "outputs": [],
   "source": [
    "# Required for GSNR computation-\n",
    "EPSILON = 1e-5"
   ]
  },
  {
   "cell_type": "code",
   "execution_count": null,
   "id": "323cd766-36f5-477a-bf5a-7ae68730ef9e",
   "metadata": {},
   "outputs": [],
   "source": []
  },
  {
   "cell_type": "code",
   "execution_count": 18,
   "id": "debfe4f6-b0b4-4404-b2b9-efd44ca38aa0",
   "metadata": {},
   "outputs": [],
   "source": [
    "gsnr_d = initialize_gsnr(model = model)"
   ]
  },
  {
   "cell_type": "code",
   "execution_count": null,
   "id": "b77e065d-a517-4760-85d0-68d621abe384",
   "metadata": {},
   "outputs": [],
   "source": []
  },
  {
   "cell_type": "code",
   "execution_count": null,
   "id": "7ef26d02-9d24-48c2-af63-f63696e3476d",
   "metadata": {},
   "outputs": [],
   "source": []
  },
  {
   "cell_type": "code",
   "execution_count": 19,
   "id": "b664f778-32bd-4578-9b37-9a830063a91a",
   "metadata": {},
   "outputs": [],
   "source": [
    "def train_model_progress(model, train_loader, train_dataset):\n",
    "    '''\n",
    "    Function to perform one epoch of training by using 'train_loader'.\n",
    "    Returns loss and number of correct predictions for this epoch.\n",
    "    '''\n",
    "    running_loss = 0.0\n",
    "    running_corrects = 0.0\n",
    "    \n",
    "    model.train()\n",
    "    \n",
    "    with tqdm(train_loader, unit = 'batch') as tepoch:\n",
    "        for images, labels in tepoch:\n",
    "            tepoch.set_description(f\"Training: \")\n",
    "            \n",
    "            images = images.to(device)\n",
    "            labels = labels.to(device)\n",
    "            images = images.view(-1, 784)\n",
    "            \n",
    "            # Empty accumulated gradients-\n",
    "            optimizer.zero_grad()\n",
    "            \n",
    "            # Get model predictions-\n",
    "            outputs = model(images)\n",
    "            \n",
    "            # Compute loss-\n",
    "            J = loss_fn(outputs, labels)\n",
    "            \n",
    "            # Call 'backward()' with backpack extensions-\n",
    "            with backpack(\n",
    "                # element-wise gradients, needed only for 'efficient' way-\n",
    "                BatchGrad(),\n",
    "                # (grad ^ 2) / var(grad) - memory efficient and easy-\n",
    "                Variance(),\n",
    "                # probably faster version with Var(X) = E[X^2] - (E[X]) ^ 2\n",
    "                SumGradSquared()\n",
    "            ):\n",
    "                # Perform backprop-\n",
    "                J.backward()\n",
    "            \n",
    "            # After having the required quantities, computer layer-wise GSNR-\n",
    "            params = [param for param in model.parameters()]\n",
    "            grads_sqrd = [(param.grad ** 2) for param in params]\n",
    "            \n",
    "            # Using built-in extensions (element-wise gradients not needed)-\n",
    "            gsnr = [g_sqrd / (param.variance + EPSILON) for g_sqrd, param in zip(grads_sqrd, params)]\n",
    "            \n",
    "            # Update parameters-\n",
    "            optimizer.step()\n",
    "            \n",
    "            # global step\n",
    "            # optimizer.param_groups[0]['lr'] = custom_lr_scheduler.get_lr(step)\n",
    "            # step += 1\n",
    "            \n",
    "            # Compute model's performance statistics-\n",
    "            running_loss += J.item() * images.size(0)\n",
    "            _, predicted = torch.max(outputs, 1)\n",
    "            running_corrects += torch.sum(predicted == labels.data)\n",
    "            \n",
    "            tepoch.set_postfix(\n",
    "                loss = running_loss / len(train_dataset),\n",
    "                accuracy = (running_corrects.double().cpu().numpy() / len(train_dataset)) * 100\n",
    "            )\n",
    "            \n",
    "            global gsnr_d\n",
    "            for i in range(len(gsnr)):\n",
    "                layer_grads_np = gsnr[i].detach().cpu().clone().numpy()\n",
    "                gsnr_d[i] = gsnr_d[i] + layer_grads_np\n",
    "            \n",
    "            del layer_grads_np\n",
    "    \n",
    "    train_loss = running_loss / len(train_dataset)\n",
    "    train_acc = (running_corrects.double() / len(train_dataset)) * 100\n",
    "    \n",
    "\n",
    "    # return running_loss, running_corrects\n",
    "    return train_loss, train_acc.cpu().numpy()\n"
   ]
  },
  {
   "cell_type": "code",
   "execution_count": 20,
   "id": "bda57609-541a-4534-a1db-c24a952a9cd6",
   "metadata": {},
   "outputs": [],
   "source": [
    "def test_model_progress(model, test_loader, test_dataset):\n",
    "    total = 0.0\n",
    "    correct = 0.0\n",
    "    running_loss_val = 0.0\n",
    "\n",
    "    with torch.no_grad():\n",
    "        with tqdm(test_loader, unit = 'batch') as tepoch:\n",
    "            for images, labels in tepoch:\n",
    "                tepoch.set_description(f\"Validation: \")\n",
    "                \n",
    "                images = images.to(device)\n",
    "                labels = labels.to(device)\n",
    "                images = images.view(-1, 784)\n",
    "                \n",
    "                # Set model to evaluation mode-\n",
    "                model.eval()\n",
    "            \n",
    "                # Predict using trained model-\n",
    "                outputs = model(images)\n",
    "                _, y_pred = torch.max(outputs, 1)\n",
    "                \n",
    "                # Compute validation loss-\n",
    "                J_val = loss_fn(outputs, labels)\n",
    "                \n",
    "                running_loss_val += J_val.item() * labels.size(0)\n",
    "    \n",
    "                # Total number of labels-\n",
    "                total += labels.size(0)\n",
    "\n",
    "                # Total number of correct predictions-\n",
    "                correct += (y_pred == labels).sum()\n",
    "                \n",
    "                tepoch.set_postfix(\n",
    "                    val_loss = running_loss_val / len(test_dataset),\n",
    "                    val_acc = 100 * (correct.cpu().numpy() / total)\n",
    "                )\n",
    "            \n",
    "        \n",
    "    # return (running_loss_val, correct, total)\n",
    "    val_loss = running_loss_val / len(test_dataset)\n",
    "    val_acc = (correct / total) * 100\n",
    "\n",
    "    return val_loss, val_acc.cpu().numpy()\n"
   ]
  },
  {
   "cell_type": "code",
   "execution_count": null,
   "id": "385f03bb-28cb-480b-90a9-4c4d809a71e4",
   "metadata": {},
   "outputs": [],
   "source": []
  },
  {
   "cell_type": "code",
   "execution_count": null,
   "id": "258ed089-a0de-48af-91dd-5932eb8a4641",
   "metadata": {},
   "outputs": [],
   "source": []
  },
  {
   "cell_type": "code",
   "execution_count": 21,
   "id": "0d969532-342d-472e-9acc-b1745ea05264",
   "metadata": {},
   "outputs": [],
   "source": [
    "# Python3 dict to contain training metrics-\n",
    "training_history = {}\n",
    "\n",
    "# Initialize parameters saving 'best' models-\n",
    "best_val_acc = 0\n",
    "# loc_patience = 0"
   ]
  },
  {
   "cell_type": "code",
   "execution_count": 22,
   "id": "5210e506-c679-4e8a-8b1c-c7dcd1797ad1",
   "metadata": {},
   "outputs": [
    {
     "name": "stderr",
     "output_type": "stream",
     "text": [
      "Training: :   0%|                                    | 0/235 [00:00<?, ?batch/s]/home/arjunm/anaconda3/envs/torch-cpu/lib/python3.10/site-packages/backpack/extensions/backprop_extension.py:106: UserWarning: Extension saving to grad_batch does not have an extension for Module <class '__main__.LeNet300'> although the module has parameters\n",
      "  warnings.warn(\n",
      "/home/arjunm/anaconda3/envs/torch-cpu/lib/python3.10/site-packages/backpack/extensions/backprop_extension.py:106: UserWarning: Extension saving to variance does not have an extension for Module <class '__main__.LeNet300'> although the module has parameters\n",
      "  warnings.warn(\n",
      "/home/arjunm/anaconda3/envs/torch-cpu/lib/python3.10/site-packages/backpack/extensions/backprop_extension.py:106: UserWarning: Extension saving to sum_grad_squared does not have an extension for Module <class '__main__.LeNet300'> although the module has parameters\n",
      "  warnings.warn(\n",
      "Training: : 100%|█| 235/235 [00:15<00:00, 14.70batch/s, accuracy=78.7, loss=0.73\n",
      "Validation: : 100%|█| 40/40 [00:01<00:00, 38.82batch/s, val_acc=88.9, val_loss=0\n"
     ]
    },
    {
     "name": "stdout",
     "output_type": "stream",
     "text": [
      "\n",
      "epoch: 1 training loss = 0.7307, training accuracy = 78.70%, val_loss = 0.3827, val_accuracy = 88.93%\n",
      "\n",
      "Saving model with highest val_acc = 88.9300%\n",
      "\n"
     ]
    },
    {
     "name": "stderr",
     "output_type": "stream",
     "text": [
      "Training: : 100%|█| 235/235 [00:16<00:00, 14.58batch/s, accuracy=90, loss=0.348]\n",
      "Validation: : 100%|█| 40/40 [00:01<00:00, 38.75batch/s, val_acc=91.3, val_loss=0\n"
     ]
    },
    {
     "name": "stdout",
     "output_type": "stream",
     "text": [
      "\n",
      "epoch: 2 training loss = 0.3475, training accuracy = 89.97%, val_loss = 0.2962, val_accuracy = 91.27%\n",
      "\n",
      "Saving model with highest val_acc = 91.2700%\n",
      "\n"
     ]
    },
    {
     "name": "stderr",
     "output_type": "stream",
     "text": [
      "Training: : 100%|█| 235/235 [00:16<00:00, 13.94batch/s, accuracy=91.6, loss=0.28\n",
      "Validation: : 100%|█| 40/40 [00:01<00:00, 39.70batch/s, val_acc=92.6, val_loss=0\n"
     ]
    },
    {
     "name": "stdout",
     "output_type": "stream",
     "text": [
      "\n",
      "epoch: 3 training loss = 0.2852, training accuracy = 91.61%, val_loss = 0.2574, val_accuracy = 92.56%\n",
      "\n",
      "Saving model with highest val_acc = 92.5600%\n",
      "\n"
     ]
    },
    {
     "name": "stderr",
     "output_type": "stream",
     "text": [
      "Training: : 100%|█| 235/235 [00:16<00:00, 13.90batch/s, accuracy=92.7, loss=0.25\n",
      "Validation: : 100%|█| 40/40 [00:01<00:00, 38.36batch/s, val_acc=93.3, val_loss=0\n"
     ]
    },
    {
     "name": "stdout",
     "output_type": "stream",
     "text": [
      "\n",
      "epoch: 4 training loss = 0.2507, training accuracy = 92.73%, val_loss = 0.2319, val_accuracy = 93.28%\n",
      "\n",
      "Saving model with highest val_acc = 93.2800%\n",
      "\n"
     ]
    },
    {
     "name": "stderr",
     "output_type": "stream",
     "text": [
      "Training: : 100%|█| 235/235 [00:16<00:00, 14.16batch/s, accuracy=93.4, loss=0.22\n",
      "Validation: : 100%|█| 40/40 [00:01<00:00, 38.77batch/s, val_acc=93.7, val_loss=0\n"
     ]
    },
    {
     "name": "stdout",
     "output_type": "stream",
     "text": [
      "\n",
      "epoch: 5 training loss = 0.2269, training accuracy = 93.45%, val_loss = 0.2149, val_accuracy = 93.74%\n",
      "\n",
      "Saving model with highest val_acc = 93.7400%\n",
      "\n"
     ]
    },
    {
     "name": "stderr",
     "output_type": "stream",
     "text": [
      "Training: : 100%|█| 235/235 [00:16<00:00, 14.27batch/s, accuracy=94, loss=0.208]\n",
      "Validation: : 100%|█| 40/40 [00:00<00:00, 40.10batch/s, val_acc=94.1, val_loss=0\n"
     ]
    },
    {
     "name": "stdout",
     "output_type": "stream",
     "text": [
      "\n",
      "epoch: 6 training loss = 0.2084, training accuracy = 94.01%, val_loss = 0.2007, val_accuracy = 94.10%\n",
      "\n",
      "Saving model with highest val_acc = 94.1000%\n",
      "\n"
     ]
    },
    {
     "name": "stderr",
     "output_type": "stream",
     "text": [
      "Training: : 100%|█| 235/235 [00:16<00:00, 13.97batch/s, accuracy=94.4, loss=0.19\n",
      "Validation: : 100%|█| 40/40 [00:01<00:00, 38.27batch/s, val_acc=94.6, val_loss=0\n"
     ]
    },
    {
     "name": "stdout",
     "output_type": "stream",
     "text": [
      "\n",
      "epoch: 7 training loss = 0.1936, training accuracy = 94.42%, val_loss = 0.1884, val_accuracy = 94.56%\n",
      "\n",
      "Saving model with highest val_acc = 94.5600%\n",
      "\n"
     ]
    },
    {
     "name": "stderr",
     "output_type": "stream",
     "text": [
      "Training: : 100%|█| 235/235 [00:16<00:00, 14.40batch/s, accuracy=94.8, loss=0.18\n",
      "Validation: : 100%|█| 40/40 [00:01<00:00, 38.43batch/s, val_acc=94.6, val_loss=0\n"
     ]
    },
    {
     "name": "stdout",
     "output_type": "stream",
     "text": [
      "\n",
      "epoch: 8 training loss = 0.1812, training accuracy = 94.78%, val_loss = 0.1839, val_accuracy = 94.59%\n",
      "\n",
      "Saving model with highest val_acc = 94.5900%\n",
      "\n"
     ]
    },
    {
     "name": "stderr",
     "output_type": "stream",
     "text": [
      "Training: : 100%|█| 235/235 [00:16<00:00, 14.07batch/s, accuracy=95.1, loss=0.17\n",
      "Validation: : 100%|█| 40/40 [00:00<00:00, 40.27batch/s, val_acc=95, val_loss=0.1\n"
     ]
    },
    {
     "name": "stdout",
     "output_type": "stream",
     "text": [
      "\n",
      "epoch: 9 training loss = 0.1706, training accuracy = 95.09%, val_loss = 0.1716, val_accuracy = 94.98%\n",
      "\n",
      "Saving model with highest val_acc = 94.9800%\n",
      "\n"
     ]
    },
    {
     "name": "stderr",
     "output_type": "stream",
     "text": [
      "Training: : 100%|█| 235/235 [00:17<00:00, 13.52batch/s, accuracy=95.3, loss=0.16\n",
      "Validation: : 100%|█| 40/40 [00:01<00:00, 34.27batch/s, val_acc=95.2, val_loss=0\n"
     ]
    },
    {
     "name": "stdout",
     "output_type": "stream",
     "text": [
      "\n",
      "epoch: 10 training loss = 0.1613, training accuracy = 95.32%, val_loss = 0.1630, val_accuracy = 95.19%\n",
      "\n",
      "Saving model with highest val_acc = 95.1900%\n",
      "\n"
     ]
    },
    {
     "name": "stderr",
     "output_type": "stream",
     "text": [
      "Training: : 100%|█| 235/235 [00:17<00:00, 13.52batch/s, accuracy=95.6, loss=0.15\n",
      "Validation: : 100%|█| 40/40 [00:01<00:00, 36.81batch/s, val_acc=95.4, val_loss=0\n"
     ]
    },
    {
     "name": "stdout",
     "output_type": "stream",
     "text": [
      "\n",
      "epoch: 11 training loss = 0.1530, training accuracy = 95.60%, val_loss = 0.1556, val_accuracy = 95.38%\n",
      "\n",
      "Saving model with highest val_acc = 95.3800%\n",
      "\n"
     ]
    },
    {
     "name": "stderr",
     "output_type": "stream",
     "text": [
      "Training: : 100%|█| 235/235 [00:17<00:00, 13.57batch/s, accuracy=95.8, loss=0.14\n",
      "Validation: : 100%|█| 40/40 [00:01<00:00, 36.98batch/s, val_acc=95.4, val_loss=0\n"
     ]
    },
    {
     "name": "stdout",
     "output_type": "stream",
     "text": [
      "\n",
      "epoch: 12 training loss = 0.1456, training accuracy = 95.82%, val_loss = 0.1518, val_accuracy = 95.41%\n",
      "\n",
      "Saving model with highest val_acc = 95.4100%\n",
      "\n"
     ]
    },
    {
     "name": "stderr",
     "output_type": "stream",
     "text": [
      "Training: : 100%|█| 235/235 [00:17<00:00, 13.80batch/s, accuracy=96.1, loss=0.13\n",
      "Validation: : 100%|█| 40/40 [00:01<00:00, 37.27batch/s, val_acc=95.6, val_loss=0\n"
     ]
    },
    {
     "name": "stdout",
     "output_type": "stream",
     "text": [
      "\n",
      "epoch: 13 training loss = 0.1390, training accuracy = 96.06%, val_loss = 0.1460, val_accuracy = 95.60%\n",
      "\n",
      "Saving model with highest val_acc = 95.6000%\n",
      "\n"
     ]
    },
    {
     "name": "stderr",
     "output_type": "stream",
     "text": [
      "Training: : 100%|█| 235/235 [00:16<00:00, 13.99batch/s, accuracy=96.2, loss=0.13\n",
      "Validation: : 100%|█| 40/40 [00:01<00:00, 36.90batch/s, val_acc=95.6, val_loss=0\n"
     ]
    },
    {
     "name": "stdout",
     "output_type": "stream",
     "text": [
      "\n",
      "epoch: 14 training loss = 0.1330, training accuracy = 96.25%, val_loss = 0.1420, val_accuracy = 95.62%\n",
      "\n",
      "Saving model with highest val_acc = 95.6200%\n",
      "\n"
     ]
    },
    {
     "name": "stderr",
     "output_type": "stream",
     "text": [
      "Training: : 100%|█| 235/235 [00:16<00:00, 13.83batch/s, accuracy=96.4, loss=0.12\n",
      "Validation: : 100%|█| 40/40 [00:01<00:00, 34.87batch/s, val_acc=95.8, val_loss=0\n"
     ]
    },
    {
     "name": "stdout",
     "output_type": "stream",
     "text": [
      "\n",
      "epoch: 15 training loss = 0.1276, training accuracy = 96.41%, val_loss = 0.1383, val_accuracy = 95.77%\n",
      "\n",
      "Saving model with highest val_acc = 95.7700%\n",
      "\n"
     ]
    },
    {
     "name": "stderr",
     "output_type": "stream",
     "text": [
      "Training: : 100%|█| 235/235 [00:17<00:00, 13.79batch/s, accuracy=96.6, loss=0.12\n",
      "Validation: : 100%|█| 40/40 [00:01<00:00, 39.26batch/s, val_acc=95.9, val_loss=0\n"
     ]
    },
    {
     "name": "stdout",
     "output_type": "stream",
     "text": [
      "\n",
      "epoch: 16 training loss = 0.1225, training accuracy = 96.57%, val_loss = 0.1342, val_accuracy = 95.89%\n",
      "\n",
      "Saving model with highest val_acc = 95.8900%\n",
      "\n"
     ]
    },
    {
     "name": "stderr",
     "output_type": "stream",
     "text": [
      "Training: : 100%|█| 235/235 [00:17<00:00, 13.79batch/s, accuracy=96.7, loss=0.11\n",
      "Validation: : 100%|█| 40/40 [00:01<00:00, 39.83batch/s, val_acc=96, val_loss=0.1\n"
     ]
    },
    {
     "name": "stdout",
     "output_type": "stream",
     "text": [
      "\n",
      "epoch: 17 training loss = 0.1180, training accuracy = 96.67%, val_loss = 0.1301, val_accuracy = 95.95%\n",
      "\n",
      "Saving model with highest val_acc = 95.9500%\n",
      "\n"
     ]
    },
    {
     "name": "stderr",
     "output_type": "stream",
     "text": [
      "Training: : 100%|█| 235/235 [00:17<00:00, 13.82batch/s, accuracy=96.8, loss=0.11\n",
      "Validation: : 100%|█| 40/40 [00:01<00:00, 37.97batch/s, val_acc=96, val_loss=0.1\n"
     ]
    },
    {
     "name": "stdout",
     "output_type": "stream",
     "text": [
      "\n",
      "epoch: 18 training loss = 0.1136, training accuracy = 96.83%, val_loss = 0.1286, val_accuracy = 96.00%\n",
      "\n",
      "Saving model with highest val_acc = 96.0000%\n",
      "\n"
     ]
    },
    {
     "name": "stderr",
     "output_type": "stream",
     "text": [
      "Training: : 100%|██| 235/235 [00:17<00:00, 13.40batch/s, accuracy=97, loss=0.11]\n",
      "Validation: : 100%|█| 40/40 [00:01<00:00, 34.46batch/s, val_acc=96.1, val_loss=0\n"
     ]
    },
    {
     "name": "stdout",
     "output_type": "stream",
     "text": [
      "\n",
      "epoch: 19 training loss = 0.1096, training accuracy = 96.95%, val_loss = 0.1246, val_accuracy = 96.10%\n",
      "\n",
      "Saving model with highest val_acc = 96.1000%\n",
      "\n"
     ]
    },
    {
     "name": "stderr",
     "output_type": "stream",
     "text": [
      "Training: : 100%|█| 235/235 [00:16<00:00, 14.22batch/s, accuracy=97, loss=0.106]\n",
      "Validation: : 100%|█| 40/40 [00:01<00:00, 38.87batch/s, val_acc=96.3, val_loss=0\n"
     ]
    },
    {
     "name": "stdout",
     "output_type": "stream",
     "text": [
      "\n",
      "epoch: 20 training loss = 0.1057, training accuracy = 97.04%, val_loss = 0.1220, val_accuracy = 96.27%\n",
      "\n",
      "Saving model with highest val_acc = 96.2700%\n",
      "\n"
     ]
    },
    {
     "name": "stderr",
     "output_type": "stream",
     "text": [
      "Training: : 100%|█| 235/235 [00:17<00:00, 13.07batch/s, accuracy=97.1, loss=0.10\n",
      "Validation: : 100%|█| 40/40 [00:01<00:00, 36.09batch/s, val_acc=96.2, val_loss=0\n"
     ]
    },
    {
     "name": "stdout",
     "output_type": "stream",
     "text": [
      "\n",
      "epoch: 21 training loss = 0.1023, training accuracy = 97.11%, val_loss = 0.1185, val_accuracy = 96.22%\n",
      "\n"
     ]
    },
    {
     "name": "stderr",
     "output_type": "stream",
     "text": [
      "Training: : 100%|█| 235/235 [00:16<00:00, 14.14batch/s, accuracy=97.2, loss=0.09\n",
      "Validation: : 100%|█| 40/40 [00:01<00:00, 38.78batch/s, val_acc=96.3, val_loss=0\n"
     ]
    },
    {
     "name": "stdout",
     "output_type": "stream",
     "text": [
      "\n",
      "epoch: 22 training loss = 0.0991, training accuracy = 97.22%, val_loss = 0.1163, val_accuracy = 96.32%\n",
      "\n",
      "Saving model with highest val_acc = 96.3200%\n",
      "\n"
     ]
    },
    {
     "name": "stderr",
     "output_type": "stream",
     "text": [
      "Training: : 100%|█| 235/235 [00:16<00:00, 14.25batch/s, accuracy=97.3, loss=0.09\n",
      "Validation: : 100%|█| 40/40 [00:01<00:00, 37.38batch/s, val_acc=96.4, val_loss=0\n"
     ]
    },
    {
     "name": "stdout",
     "output_type": "stream",
     "text": [
      "\n",
      "epoch: 23 training loss = 0.0960, training accuracy = 97.31%, val_loss = 0.1148, val_accuracy = 96.37%\n",
      "\n",
      "Saving model with highest val_acc = 96.3700%\n",
      "\n"
     ]
    },
    {
     "name": "stderr",
     "output_type": "stream",
     "text": [
      "Training: : 100%|█| 235/235 [00:16<00:00, 14.27batch/s, accuracy=97.4, loss=0.09\n",
      "Validation: : 100%|█| 40/40 [00:01<00:00, 39.16batch/s, val_acc=96.5, val_loss=0\n"
     ]
    },
    {
     "name": "stdout",
     "output_type": "stream",
     "text": [
      "\n",
      "epoch: 24 training loss = 0.0929, training accuracy = 97.40%, val_loss = 0.1123, val_accuracy = 96.55%\n",
      "\n",
      "Saving model with highest val_acc = 96.5500%\n",
      "\n"
     ]
    },
    {
     "name": "stderr",
     "output_type": "stream",
     "text": [
      "Training: : 100%|█| 235/235 [00:16<00:00, 14.22batch/s, accuracy=97.5, loss=0.09\n",
      "Validation: : 100%|█| 40/40 [00:01<00:00, 38.89batch/s, val_acc=96.5, val_loss=0\n"
     ]
    },
    {
     "name": "stdout",
     "output_type": "stream",
     "text": [
      "\n",
      "epoch: 25 training loss = 0.0903, training accuracy = 97.50%, val_loss = 0.1120, val_accuracy = 96.53%\n",
      "\n"
     ]
    },
    {
     "name": "stderr",
     "output_type": "stream",
     "text": [
      "Training: : 100%|█| 235/235 [00:16<00:00, 14.29batch/s, accuracy=97.5, loss=0.08\n",
      "Validation: : 100%|█| 40/40 [00:01<00:00, 38.45batch/s, val_acc=96.6, val_loss=0\n"
     ]
    },
    {
     "name": "stdout",
     "output_type": "stream",
     "text": [
      "\n",
      "epoch: 26 training loss = 0.0876, training accuracy = 97.55%, val_loss = 0.1100, val_accuracy = 96.56%\n",
      "\n",
      "Saving model with highest val_acc = 96.5600%\n",
      "\n"
     ]
    },
    {
     "name": "stderr",
     "output_type": "stream",
     "text": [
      "Training: : 100%|█| 235/235 [00:16<00:00, 14.25batch/s, accuracy=97.7, loss=0.08\n",
      "Validation: : 100%|█| 40/40 [00:01<00:00, 38.35batch/s, val_acc=96.7, val_loss=0\n"
     ]
    },
    {
     "name": "stdout",
     "output_type": "stream",
     "text": [
      "\n",
      "epoch: 27 training loss = 0.0850, training accuracy = 97.66%, val_loss = 0.1067, val_accuracy = 96.66%\n",
      "\n",
      "Saving model with highest val_acc = 96.6600%\n",
      "\n"
     ]
    },
    {
     "name": "stderr",
     "output_type": "stream",
     "text": [
      "Training: : 100%|█| 235/235 [00:16<00:00, 14.28batch/s, accuracy=97.7, loss=0.08\n",
      "Validation: : 100%|█| 40/40 [00:01<00:00, 39.29batch/s, val_acc=96.6, val_loss=0\n"
     ]
    },
    {
     "name": "stdout",
     "output_type": "stream",
     "text": [
      "\n",
      "epoch: 28 training loss = 0.0828, training accuracy = 97.70%, val_loss = 0.1085, val_accuracy = 96.64%\n",
      "\n"
     ]
    },
    {
     "name": "stderr",
     "output_type": "stream",
     "text": [
      "Training: : 100%|█| 235/235 [00:16<00:00, 14.34batch/s, accuracy=97.8, loss=0.08\n",
      "Validation: : 100%|█| 40/40 [00:01<00:00, 37.53batch/s, val_acc=96.8, val_loss=0\n"
     ]
    },
    {
     "name": "stdout",
     "output_type": "stream",
     "text": [
      "\n",
      "epoch: 29 training loss = 0.0804, training accuracy = 97.79%, val_loss = 0.1043, val_accuracy = 96.75%\n",
      "\n",
      "Saving model with highest val_acc = 96.7500%\n",
      "\n"
     ]
    },
    {
     "name": "stderr",
     "output_type": "stream",
     "text": [
      "Training: : 100%|█| 235/235 [00:16<00:00, 14.23batch/s, accuracy=97.9, loss=0.07\n",
      "Validation: : 100%|█| 40/40 [00:01<00:00, 38.79batch/s, val_acc=96.8, val_loss=0\n"
     ]
    },
    {
     "name": "stdout",
     "output_type": "stream",
     "text": [
      "\n",
      "epoch: 30 training loss = 0.0782, training accuracy = 97.88%, val_loss = 0.1043, val_accuracy = 96.78%\n",
      "\n",
      "Saving model with highest val_acc = 96.7800%\n",
      "\n"
     ]
    },
    {
     "name": "stderr",
     "output_type": "stream",
     "text": [
      "Training: : 100%|█| 235/235 [00:16<00:00, 14.25batch/s, accuracy=97.9, loss=0.07\n",
      "Validation: : 100%|█| 40/40 [00:01<00:00, 39.13batch/s, val_acc=96.7, val_loss=0\n"
     ]
    },
    {
     "name": "stdout",
     "output_type": "stream",
     "text": [
      "\n",
      "epoch: 31 training loss = 0.0761, training accuracy = 97.91%, val_loss = 0.1022, val_accuracy = 96.74%\n",
      "\n"
     ]
    },
    {
     "name": "stderr",
     "output_type": "stream",
     "text": [
      "Training: : 100%|█| 235/235 [00:16<00:00, 13.93batch/s, accuracy=98, loss=0.0741\n",
      "Validation: : 100%|█| 40/40 [00:01<00:00, 38.81batch/s, val_acc=96.8, val_loss=0\n"
     ]
    },
    {
     "name": "stdout",
     "output_type": "stream",
     "text": [
      "\n",
      "epoch: 32 training loss = 0.0741, training accuracy = 98.00%, val_loss = 0.1007, val_accuracy = 96.79%\n",
      "\n",
      "Saving model with highest val_acc = 96.7900%\n",
      "\n"
     ]
    },
    {
     "name": "stderr",
     "output_type": "stream",
     "text": [
      "Training: : 100%|█| 235/235 [00:17<00:00, 13.72batch/s, accuracy=98.1, loss=0.07\n",
      "Validation: : 100%|█| 40/40 [00:01<00:00, 37.16batch/s, val_acc=96.9, val_loss=0\n"
     ]
    },
    {
     "name": "stdout",
     "output_type": "stream",
     "text": [
      "\n",
      "epoch: 33 training loss = 0.0722, training accuracy = 98.06%, val_loss = 0.0991, val_accuracy = 96.87%\n",
      "\n",
      "Saving model with highest val_acc = 96.8700%\n",
      "\n"
     ]
    },
    {
     "name": "stderr",
     "output_type": "stream",
     "text": [
      "Training: : 100%|█| 235/235 [00:17<00:00, 13.42batch/s, accuracy=98.1, loss=0.07\n",
      "Validation: : 100%|█| 40/40 [00:01<00:00, 39.96batch/s, val_acc=96.9, val_loss=0\n"
     ]
    },
    {
     "name": "stdout",
     "output_type": "stream",
     "text": [
      "\n",
      "epoch: 34 training loss = 0.0705, training accuracy = 98.08%, val_loss = 0.0989, val_accuracy = 96.86%\n",
      "\n"
     ]
    },
    {
     "name": "stderr",
     "output_type": "stream",
     "text": [
      "Training: : 100%|█| 235/235 [00:17<00:00, 13.22batch/s, accuracy=98.1, loss=0.06\n",
      "Validation: : 100%|█| 40/40 [00:01<00:00, 38.25batch/s, val_acc=96.8, val_loss=0\n"
     ]
    },
    {
     "name": "stdout",
     "output_type": "stream",
     "text": [
      "\n",
      "epoch: 35 training loss = 0.0685, training accuracy = 98.14%, val_loss = 0.0981, val_accuracy = 96.82%\n",
      "\n"
     ]
    },
    {
     "name": "stderr",
     "output_type": "stream",
     "text": [
      "Training: : 100%|█| 235/235 [00:16<00:00, 14.08batch/s, accuracy=98.2, loss=0.06\n",
      "Validation: : 100%|█| 40/40 [00:01<00:00, 34.08batch/s, val_acc=96.9, val_loss=0\n"
     ]
    },
    {
     "name": "stdout",
     "output_type": "stream",
     "text": [
      "\n",
      "epoch: 36 training loss = 0.0669, training accuracy = 98.20%, val_loss = 0.0969, val_accuracy = 96.92%\n",
      "\n",
      "Saving model with highest val_acc = 96.9200%\n",
      "\n"
     ]
    },
    {
     "name": "stderr",
     "output_type": "stream",
     "text": [
      "Training: : 100%|█| 235/235 [00:16<00:00, 13.98batch/s, accuracy=98.3, loss=0.06\n",
      "Validation: : 100%|█| 40/40 [00:01<00:00, 37.25batch/s, val_acc=97, val_loss=0.0\n"
     ]
    },
    {
     "name": "stdout",
     "output_type": "stream",
     "text": [
      "\n",
      "epoch: 37 training loss = 0.0653, training accuracy = 98.26%, val_loss = 0.0956, val_accuracy = 96.97%\n",
      "\n",
      "Saving model with highest val_acc = 96.9700%\n",
      "\n"
     ]
    },
    {
     "name": "stderr",
     "output_type": "stream",
     "text": [
      "Training: : 100%|█| 235/235 [00:16<00:00, 13.96batch/s, accuracy=98.3, loss=0.06\n",
      "Validation: : 100%|█| 40/40 [00:01<00:00, 39.77batch/s, val_acc=97.1, val_loss=0\n"
     ]
    },
    {
     "name": "stdout",
     "output_type": "stream",
     "text": [
      "\n",
      "epoch: 38 training loss = 0.0636, training accuracy = 98.28%, val_loss = 0.0938, val_accuracy = 97.09%\n",
      "\n",
      "Saving model with highest val_acc = 97.0900%\n",
      "\n"
     ]
    },
    {
     "name": "stderr",
     "output_type": "stream",
     "text": [
      "Training: : 100%|█| 235/235 [00:16<00:00, 13.98batch/s, accuracy=98.4, loss=0.06\n",
      "Validation: : 100%|█| 40/40 [00:00<00:00, 40.87batch/s, val_acc=97, val_loss=0.0\n"
     ]
    },
    {
     "name": "stdout",
     "output_type": "stream",
     "text": [
      "\n",
      "epoch: 39 training loss = 0.0621, training accuracy = 98.35%, val_loss = 0.0942, val_accuracy = 96.99%\n",
      "\n"
     ]
    },
    {
     "name": "stderr",
     "output_type": "stream",
     "text": [
      "Training: : 100%|█| 235/235 [00:16<00:00, 13.96batch/s, accuracy=98.4, loss=0.06\n",
      "Validation: : 100%|█| 40/40 [00:01<00:00, 39.75batch/s, val_acc=97, val_loss=0.0\n"
     ]
    },
    {
     "name": "stdout",
     "output_type": "stream",
     "text": [
      "\n",
      "epoch: 40 training loss = 0.0606, training accuracy = 98.39%, val_loss = 0.0939, val_accuracy = 97.05%\n",
      "\n"
     ]
    },
    {
     "name": "stderr",
     "output_type": "stream",
     "text": [
      "Training: : 100%|█| 235/235 [00:16<00:00, 14.00batch/s, accuracy=98.4, loss=0.05\n",
      "Validation: : 100%|█| 40/40 [00:00<00:00, 40.32batch/s, val_acc=97.1, val_loss=0\n"
     ]
    },
    {
     "name": "stdout",
     "output_type": "stream",
     "text": [
      "\n",
      "epoch: 41 training loss = 0.0592, training accuracy = 98.43%, val_loss = 0.0918, val_accuracy = 97.10%\n",
      "\n",
      "Saving model with highest val_acc = 97.1000%\n",
      "\n"
     ]
    },
    {
     "name": "stderr",
     "output_type": "stream",
     "text": [
      "Training: : 100%|█| 235/235 [00:16<00:00, 13.91batch/s, accuracy=98.5, loss=0.05\n",
      "Validation: : 100%|█| 40/40 [00:01<00:00, 38.87batch/s, val_acc=97, val_loss=0.0\n"
     ]
    },
    {
     "name": "stdout",
     "output_type": "stream",
     "text": [
      "\n",
      "epoch: 42 training loss = 0.0578, training accuracy = 98.46%, val_loss = 0.0927, val_accuracy = 97.00%\n",
      "\n"
     ]
    },
    {
     "name": "stderr",
     "output_type": "stream",
     "text": [
      "Training: : 100%|█| 235/235 [00:16<00:00, 13.90batch/s, accuracy=98.5, loss=0.05\n",
      "Validation: : 100%|█| 40/40 [00:01<00:00, 37.21batch/s, val_acc=97.1, val_loss=0\n"
     ]
    },
    {
     "name": "stdout",
     "output_type": "stream",
     "text": [
      "\n",
      "epoch: 43 training loss = 0.0564, training accuracy = 98.50%, val_loss = 0.0907, val_accuracy = 97.11%\n",
      "\n",
      "Saving model with highest val_acc = 97.1100%\n",
      "\n"
     ]
    },
    {
     "name": "stderr",
     "output_type": "stream",
     "text": [
      "Training: : 100%|█| 235/235 [00:16<00:00, 13.93batch/s, accuracy=98.5, loss=0.05\n",
      "Validation: : 100%|█| 40/40 [00:00<00:00, 40.06batch/s, val_acc=97.1, val_loss=0\n"
     ]
    },
    {
     "name": "stdout",
     "output_type": "stream",
     "text": [
      "\n",
      "epoch: 44 training loss = 0.0550, training accuracy = 98.54%, val_loss = 0.0899, val_accuracy = 97.13%\n",
      "\n",
      "Saving model with highest val_acc = 97.1300%\n",
      "\n"
     ]
    },
    {
     "name": "stderr",
     "output_type": "stream",
     "text": [
      "Training: : 100%|█| 235/235 [00:16<00:00, 13.90batch/s, accuracy=98.6, loss=0.05\n",
      "Validation: : 100%|█| 40/40 [00:00<00:00, 40.74batch/s, val_acc=97.2, val_loss=0\n"
     ]
    },
    {
     "name": "stdout",
     "output_type": "stream",
     "text": [
      "\n",
      "epoch: 45 training loss = 0.0539, training accuracy = 98.57%, val_loss = 0.0883, val_accuracy = 97.17%\n",
      "\n",
      "Saving model with highest val_acc = 97.1700%\n",
      "\n"
     ]
    },
    {
     "name": "stderr",
     "output_type": "stream",
     "text": [
      "Training: : 100%|█| 235/235 [00:16<00:00, 13.96batch/s, accuracy=98.6, loss=0.05\n",
      "Validation: : 100%|█| 40/40 [00:00<00:00, 41.19batch/s, val_acc=97.1, val_loss=0\n"
     ]
    },
    {
     "name": "stdout",
     "output_type": "stream",
     "text": [
      "\n",
      "epoch: 46 training loss = 0.0526, training accuracy = 98.61%, val_loss = 0.0890, val_accuracy = 97.14%\n",
      "\n"
     ]
    },
    {
     "name": "stderr",
     "output_type": "stream",
     "text": [
      "Training: : 100%|█| 235/235 [00:16<00:00, 13.89batch/s, accuracy=98.7, loss=0.05\n",
      "Validation: : 100%|█| 40/40 [00:01<00:00, 37.76batch/s, val_acc=97.2, val_loss=0\n"
     ]
    },
    {
     "name": "stdout",
     "output_type": "stream",
     "text": [
      "\n",
      "epoch: 47 training loss = 0.0513, training accuracy = 98.66%, val_loss = 0.0880, val_accuracy = 97.19%\n",
      "\n",
      "Saving model with highest val_acc = 97.1900%\n",
      "\n"
     ]
    },
    {
     "name": "stderr",
     "output_type": "stream",
     "text": [
      "Training: : 100%|█| 235/235 [00:16<00:00, 13.88batch/s, accuracy=98.7, loss=0.05\n",
      "Validation: : 100%|█| 40/40 [00:00<00:00, 40.77batch/s, val_acc=97.3, val_loss=0\n"
     ]
    },
    {
     "name": "stdout",
     "output_type": "stream",
     "text": [
      "\n",
      "epoch: 48 training loss = 0.0502, training accuracy = 98.72%, val_loss = 0.0870, val_accuracy = 97.28%\n",
      "\n",
      "Saving model with highest val_acc = 97.2800%\n",
      "\n"
     ]
    },
    {
     "name": "stderr",
     "output_type": "stream",
     "text": [
      "Training: : 100%|█| 235/235 [00:16<00:00, 13.96batch/s, accuracy=98.7, loss=0.04\n",
      "Validation: : 100%|█| 40/40 [00:00<00:00, 41.29batch/s, val_acc=97.2, val_loss=0\n"
     ]
    },
    {
     "name": "stdout",
     "output_type": "stream",
     "text": [
      "\n",
      "epoch: 49 training loss = 0.0492, training accuracy = 98.74%, val_loss = 0.0867, val_accuracy = 97.22%\n",
      "\n"
     ]
    },
    {
     "name": "stderr",
     "output_type": "stream",
     "text": [
      "Training: : 100%|█| 235/235 [00:16<00:00, 14.00batch/s, accuracy=98.8, loss=0.04\n",
      "Validation: : 100%|█| 40/40 [00:01<00:00, 38.54batch/s, val_acc=97.4, val_loss=0\n"
     ]
    },
    {
     "name": "stdout",
     "output_type": "stream",
     "text": [
      "\n",
      "epoch: 50 training loss = 0.0481, training accuracy = 98.75%, val_loss = 0.0859, val_accuracy = 97.35%\n",
      "\n",
      "Saving model with highest val_acc = 97.3500%\n",
      "\n"
     ]
    },
    {
     "name": "stderr",
     "output_type": "stream",
     "text": [
      "Training: : 100%|█| 235/235 [00:16<00:00, 13.93batch/s, accuracy=98.8, loss=0.04\n",
      "Validation: : 100%|█| 40/40 [00:00<00:00, 40.08batch/s, val_acc=97.2, val_loss=0\n"
     ]
    },
    {
     "name": "stdout",
     "output_type": "stream",
     "text": [
      "\n",
      "epoch: 51 training loss = 0.0469, training accuracy = 98.79%, val_loss = 0.0869, val_accuracy = 97.25%\n",
      "\n"
     ]
    },
    {
     "name": "stderr",
     "output_type": "stream",
     "text": [
      "Training: : 100%|█| 235/235 [00:16<00:00, 13.97batch/s, accuracy=98.8, loss=0.04\n",
      "Validation: : 100%|█| 40/40 [00:01<00:00, 37.73batch/s, val_acc=97.3, val_loss=0\n"
     ]
    },
    {
     "name": "stdout",
     "output_type": "stream",
     "text": [
      "\n",
      "epoch: 52 training loss = 0.0459, training accuracy = 98.85%, val_loss = 0.0860, val_accuracy = 97.28%\n",
      "\n"
     ]
    },
    {
     "name": "stderr",
     "output_type": "stream",
     "text": [
      "Training: : 100%|█| 235/235 [00:16<00:00, 14.06batch/s, accuracy=98.9, loss=0.04\n",
      "Validation: : 100%|█| 40/40 [00:01<00:00, 38.59batch/s, val_acc=97.2, val_loss=0\n"
     ]
    },
    {
     "name": "stdout",
     "output_type": "stream",
     "text": [
      "\n",
      "epoch: 53 training loss = 0.0449, training accuracy = 98.87%, val_loss = 0.0857, val_accuracy = 97.20%\n",
      "\n"
     ]
    },
    {
     "name": "stderr",
     "output_type": "stream",
     "text": [
      "Training: : 100%|█| 235/235 [00:16<00:00, 13.94batch/s, accuracy=98.9, loss=0.04\n",
      "Validation: : 100%|█| 40/40 [00:01<00:00, 38.90batch/s, val_acc=97.4, val_loss=0\n"
     ]
    },
    {
     "name": "stdout",
     "output_type": "stream",
     "text": [
      "\n",
      "epoch: 54 training loss = 0.0440, training accuracy = 98.88%, val_loss = 0.0839, val_accuracy = 97.37%\n",
      "\n",
      "Saving model with highest val_acc = 97.3700%\n",
      "\n"
     ]
    },
    {
     "name": "stderr",
     "output_type": "stream",
     "text": [
      "Training: : 100%|█| 235/235 [00:16<00:00, 13.87batch/s, accuracy=98.9, loss=0.04\n",
      "Validation: : 100%|█| 40/40 [00:01<00:00, 39.57batch/s, val_acc=97.4, val_loss=0\n"
     ]
    },
    {
     "name": "stdout",
     "output_type": "stream",
     "text": [
      "\n",
      "epoch: 55 training loss = 0.0431, training accuracy = 98.92%, val_loss = 0.0844, val_accuracy = 97.42%\n",
      "\n",
      "Saving model with highest val_acc = 97.4200%\n",
      "\n"
     ]
    },
    {
     "name": "stderr",
     "output_type": "stream",
     "text": [
      "Training: : 100%|█| 235/235 [00:16<00:00, 14.08batch/s, accuracy=99, loss=0.0421\n",
      "Validation: : 100%|█| 40/40 [00:00<00:00, 41.01batch/s, val_acc=97.3, val_loss=0\n"
     ]
    },
    {
     "name": "stdout",
     "output_type": "stream",
     "text": [
      "\n",
      "epoch: 56 training loss = 0.0421, training accuracy = 98.97%, val_loss = 0.0839, val_accuracy = 97.30%\n",
      "\n"
     ]
    },
    {
     "name": "stderr",
     "output_type": "stream",
     "text": [
      "Training: : 100%|█| 235/235 [00:16<00:00, 13.91batch/s, accuracy=99, loss=0.0413\n",
      "Validation: : 100%|█| 40/40 [00:01<00:00, 37.74batch/s, val_acc=97.4, val_loss=0\n"
     ]
    },
    {
     "name": "stdout",
     "output_type": "stream",
     "text": [
      "\n",
      "epoch: 57 training loss = 0.0413, training accuracy = 98.98%, val_loss = 0.0832, val_accuracy = 97.39%\n",
      "\n"
     ]
    },
    {
     "name": "stderr",
     "output_type": "stream",
     "text": [
      "Training: : 100%|█| 235/235 [00:16<00:00, 14.17batch/s, accuracy=99, loss=0.0403\n",
      "Validation: : 100%|█| 40/40 [00:01<00:00, 38.56batch/s, val_acc=97.4, val_loss=0\n"
     ]
    },
    {
     "name": "stdout",
     "output_type": "stream",
     "text": [
      "\n",
      "epoch: 58 training loss = 0.0403, training accuracy = 99.02%, val_loss = 0.0831, val_accuracy = 97.40%\n",
      "\n"
     ]
    },
    {
     "name": "stderr",
     "output_type": "stream",
     "text": [
      "Training: : 100%|█| 235/235 [00:16<00:00, 13.92batch/s, accuracy=99, loss=0.0395\n",
      "Validation: : 100%|█| 40/40 [00:00<00:00, 40.74batch/s, val_acc=97.4, val_loss=0\n"
     ]
    },
    {
     "name": "stdout",
     "output_type": "stream",
     "text": [
      "\n",
      "epoch: 59 training loss = 0.0395, training accuracy = 99.05%, val_loss = 0.0828, val_accuracy = 97.41%\n",
      "\n"
     ]
    },
    {
     "name": "stderr",
     "output_type": "stream",
     "text": [
      "Training: : 100%|█| 235/235 [00:16<00:00, 14.14batch/s, accuracy=99.1, loss=0.03\n",
      "Validation: : 100%|█| 40/40 [00:01<00:00, 37.50batch/s, val_acc=97.4, val_loss=0\n"
     ]
    },
    {
     "name": "stdout",
     "output_type": "stream",
     "text": [
      "\n",
      "epoch: 60 training loss = 0.0387, training accuracy = 99.07%, val_loss = 0.0823, val_accuracy = 97.44%\n",
      "\n",
      "Saving model with highest val_acc = 97.4400%\n",
      "\n"
     ]
    },
    {
     "name": "stderr",
     "output_type": "stream",
     "text": [
      "Training: : 100%|█| 235/235 [00:16<00:00, 13.84batch/s, accuracy=99.1, loss=0.03\n",
      "Validation: : 100%|█| 40/40 [00:01<00:00, 39.10batch/s, val_acc=97.5, val_loss=0\n"
     ]
    },
    {
     "name": "stdout",
     "output_type": "stream",
     "text": [
      "\n",
      "epoch: 61 training loss = 0.0379, training accuracy = 99.12%, val_loss = 0.0824, val_accuracy = 97.45%\n",
      "\n",
      "Saving model with highest val_acc = 97.4500%\n",
      "\n"
     ]
    },
    {
     "name": "stderr",
     "output_type": "stream",
     "text": [
      "Training: : 100%|█| 235/235 [00:16<00:00, 14.17batch/s, accuracy=99.1, loss=0.03\n",
      "Validation: : 100%|█| 40/40 [00:01<00:00, 39.88batch/s, val_acc=97.4, val_loss=0\n"
     ]
    },
    {
     "name": "stdout",
     "output_type": "stream",
     "text": [
      "\n",
      "epoch: 62 training loss = 0.0371, training accuracy = 99.12%, val_loss = 0.0818, val_accuracy = 97.42%\n",
      "\n"
     ]
    },
    {
     "name": "stderr",
     "output_type": "stream",
     "text": [
      "Training: : 100%|█| 235/235 [00:16<00:00, 14.09batch/s, accuracy=99.1, loss=0.03\n",
      "Validation: : 100%|█| 40/40 [00:00<00:00, 40.91batch/s, val_acc=97.5, val_loss=0\n"
     ]
    },
    {
     "name": "stdout",
     "output_type": "stream",
     "text": [
      "\n",
      "epoch: 63 training loss = 0.0363, training accuracy = 99.13%, val_loss = 0.0810, val_accuracy = 97.47%\n",
      "\n",
      "Saving model with highest val_acc = 97.4700%\n",
      "\n"
     ]
    },
    {
     "name": "stderr",
     "output_type": "stream",
     "text": [
      "Training: : 100%|█| 235/235 [00:16<00:00, 14.06batch/s, accuracy=99.2, loss=0.03\n",
      "Validation: : 100%|█| 40/40 [00:01<00:00, 37.86batch/s, val_acc=97.4, val_loss=0\n"
     ]
    },
    {
     "name": "stdout",
     "output_type": "stream",
     "text": [
      "\n",
      "epoch: 64 training loss = 0.0355, training accuracy = 99.17%, val_loss = 0.0815, val_accuracy = 97.42%\n",
      "\n"
     ]
    },
    {
     "name": "stderr",
     "output_type": "stream",
     "text": [
      "Training: : 100%|█| 235/235 [00:16<00:00, 14.19batch/s, accuracy=99.2, loss=0.03\n",
      "Validation: : 100%|█| 40/40 [00:01<00:00, 36.67batch/s, val_acc=97.5, val_loss=0\n"
     ]
    },
    {
     "name": "stdout",
     "output_type": "stream",
     "text": [
      "\n",
      "epoch: 65 training loss = 0.0348, training accuracy = 99.23%, val_loss = 0.0810, val_accuracy = 97.46%\n",
      "\n"
     ]
    },
    {
     "name": "stderr",
     "output_type": "stream",
     "text": [
      "Training: : 100%|█| 235/235 [00:16<00:00, 13.84batch/s, accuracy=99.2, loss=0.03\n",
      "Validation: : 100%|█| 40/40 [00:01<00:00, 39.84batch/s, val_acc=97.4, val_loss=0\n"
     ]
    },
    {
     "name": "stdout",
     "output_type": "stream",
     "text": [
      "\n",
      "epoch: 66 training loss = 0.0340, training accuracy = 99.21%, val_loss = 0.0811, val_accuracy = 97.37%\n",
      "\n"
     ]
    },
    {
     "name": "stderr",
     "output_type": "stream",
     "text": [
      "Training: : 100%|█| 235/235 [00:17<00:00, 13.75batch/s, accuracy=99.3, loss=0.03\n",
      "Validation: : 100%|█| 40/40 [00:00<00:00, 40.07batch/s, val_acc=97.5, val_loss=0\n"
     ]
    },
    {
     "name": "stdout",
     "output_type": "stream",
     "text": [
      "\n",
      "epoch: 67 training loss = 0.0334, training accuracy = 99.26%, val_loss = 0.0804, val_accuracy = 97.52%\n",
      "\n",
      "Saving model with highest val_acc = 97.5200%\n",
      "\n"
     ]
    },
    {
     "name": "stderr",
     "output_type": "stream",
     "text": [
      "Training: : 100%|█| 235/235 [00:16<00:00, 14.18batch/s, accuracy=99.3, loss=0.03\n",
      "Validation: : 100%|█| 40/40 [00:00<00:00, 40.89batch/s, val_acc=97.5, val_loss=0\n"
     ]
    },
    {
     "name": "stdout",
     "output_type": "stream",
     "text": [
      "\n",
      "epoch: 68 training loss = 0.0328, training accuracy = 99.27%, val_loss = 0.0803, val_accuracy = 97.46%\n",
      "\n"
     ]
    },
    {
     "name": "stderr",
     "output_type": "stream",
     "text": [
      "Training: : 100%|█| 235/235 [00:16<00:00, 14.16batch/s, accuracy=99.3, loss=0.03\n",
      "Validation: : 100%|█| 40/40 [00:01<00:00, 39.78batch/s, val_acc=97.5, val_loss=0\n"
     ]
    },
    {
     "name": "stdout",
     "output_type": "stream",
     "text": [
      "\n",
      "epoch: 69 training loss = 0.0321, training accuracy = 99.28%, val_loss = 0.0798, val_accuracy = 97.51%\n",
      "\n"
     ]
    },
    {
     "name": "stderr",
     "output_type": "stream",
     "text": [
      "Training: : 100%|█| 235/235 [00:16<00:00, 14.09batch/s, accuracy=99.3, loss=0.03\n",
      "Validation: : 100%|█| 40/40 [00:00<00:00, 40.76batch/s, val_acc=97.5, val_loss=0"
     ]
    },
    {
     "name": "stdout",
     "output_type": "stream",
     "text": [
      "\n",
      "epoch: 70 training loss = 0.0314, training accuracy = 99.30%, val_loss = 0.0798, val_accuracy = 97.55%\n",
      "\n",
      "Saving model with highest val_acc = 97.5500%\n",
      "\n"
     ]
    },
    {
     "name": "stderr",
     "output_type": "stream",
     "text": [
      "\n"
     ]
    }
   ],
   "source": [
    "for epoch in range(num_epochs):\n",
    "\n",
    "    # Train and validate model for 1 epoch-\n",
    "    train_loss, train_acc = train_model_progress(\n",
    "        model = model, train_loader = train_loader,\n",
    "        train_dataset = train_dataset\n",
    "    )\n",
    "    \n",
    "    val_loss, val_acc = test_model_progress(\n",
    "        model = model, test_loader = test_loader,\n",
    "        test_dataset = test_dataset\n",
    "    )\n",
    "    \n",
    "    print(f\"\\nepoch: {epoch + 1} training loss = {train_loss:.4f}, \"\n",
    "          f\"training accuracy = {train_acc:.2f}%, val_loss = {val_loss:.4f}\"\n",
    "          f\", val_accuracy = {val_acc:.2f}%\"\n",
    "          # f\" & LR = {optimizer.param_groups[0]['lr']:.4f}\n",
    "          f\"\\n\")\n",
    "    \n",
    "    training_history[epoch + 1] = {\n",
    "        'loss': train_loss, 'acc': train_acc,\n",
    "        'val_loss': val_loss, 'val_acc': val_acc,\n",
    "        # 'lr': optimizer.param_groups[0]['lr']\n",
    "    }\n",
    "\n",
    "    \n",
    "    # Save best weights achieved until now-\n",
    "    if (val_acc > best_val_acc):\n",
    "        # update 'best_val_loss' variable to lowest loss encountered so far-\n",
    "        best_val_acc = val_acc\n",
    "\n",
    "        print(f\"Saving model with highest val_acc = {val_acc:.4f}%\\n\")\n",
    "        \n",
    "        # Save trained model with 'best' validation accuracy-\n",
    "        torch.save(model.state_dict(), \"LeNet300_best_model.pth\")\n",
    "        \n",
    "        # Save Python3 dict containing GSNRs-\n",
    "        with open(\"LeNet300_best_GSNRs.pkl\", \"wb\") as file:\n",
    "            pickle.dump(gsnr_d, file)\n",
    "        \n",
    "        "
   ]
  },
  {
   "cell_type": "code",
   "execution_count": null,
   "id": "8639aea8-94f0-44d8-898e-522fddf86181",
   "metadata": {},
   "outputs": [],
   "source": []
  },
  {
   "cell_type": "code",
   "execution_count": 23,
   "id": "6ea881a0-069d-430c-9ddb-c8b47bd256b5",
   "metadata": {},
   "outputs": [],
   "source": [
    "# Save training metrics as Python3 history for later analysis-\n",
    "with open(\"LeNet300_training_history.pkl\", \"wb\") as file:\n",
    "    pickle.dump(training_history, file)"
   ]
  },
  {
   "cell_type": "code",
   "execution_count": null,
   "id": "838f2293-2dd4-403c-9756-63f5973d1c31",
   "metadata": {},
   "outputs": [],
   "source": []
  },
  {
   "cell_type": "code",
   "execution_count": null,
   "id": "5db6045d-2fdc-4faa-8058-1a8a0e122a5c",
   "metadata": {},
   "outputs": [],
   "source": []
  },
  {
   "cell_type": "code",
   "execution_count": 24,
   "id": "9b07d5ee-9fd7-403d-bd56-fae4cab95988",
   "metadata": {},
   "outputs": [
    {
     "data": {
      "image/png": "[encoded data removed]",
      "text/plain": [
       "<Figure size 900x700 with 1 Axes>"
      ]
     },
     "metadata": {},
     "output_type": "display_data"
    }
   ],
   "source": [
    "plt.figure(figsize = (9, 7))\n",
    "plt.plot(list(training_history.keys()), [training_history[k]['acc'] for k in training_history.keys()], label = 'training acc')\n",
    "plt.plot(list(training_history.keys()), [training_history[k]['val_acc'] for k in training_history.keys()], label = 'val acc')\n",
    "plt.title(\"LeNet-300: Accuracy\")\n",
    "plt.xlabel(\"epochs\")\n",
    "plt.ylabel(\"accuracy (%)\")\n",
    "plt.legend(loc = 'best')\n",
    "plt.show()"
   ]
  },
  {
   "cell_type": "code",
   "execution_count": 25,
   "id": "3b2850f2-af3b-4267-9e37-d24e5784551e",
   "metadata": {},
   "outputs": [
    {
     "data": {
      "image/png": "[encoded data removed]",
      "text/plain": [
       "<Figure size 900x700 with 1 Axes>"
      ]
     },
     "metadata": {},
     "output_type": "display_data"
    }
   ],
   "source": [
    "plt.figure(figsize = (9, 7))\n",
    "plt.plot(list(training_history.keys()), [training_history[k]['loss'] for k in training_history.keys()], label = 'training loss')\n",
    "plt.plot(list(training_history.keys()), [training_history[k]['val_loss'] for k in training_history.keys()], label = 'val loss')\n",
    "plt.xlabel(\"epochs\")\n",
    "plt.ylabel(\"loss\")\n",
    "plt.legend(loc = 'best')\n",
    "plt.title(\"LeNet-300: Loss\")\n",
    "plt.show()"
   ]
  },
  {
   "cell_type": "code",
   "execution_count": null,
   "id": "84f1e85e-18a3-4a04-b19c-6764a99d441f",
   "metadata": {},
   "outputs": [],
   "source": [
    "\"\"\"\n",
    "plt.figure(figsize = (9, 7))\n",
    "plt.plot(list(training_history.keys()), [training_history[k]['lr'] for k in training_history.keys()])\n",
    "plt.xlabel(\"epochs\")\n",
    "plt.ylabel(\"lr\")\n",
    "plt.title(\"LeNet-5: Learning-Rate\")\n",
    "plt.show()\n",
    "\"\"\""
   ]
  },
  {
   "cell_type": "code",
   "execution_count": null,
   "id": "6c74471d-5f89-456f-a0bd-5ecfc5372e30",
   "metadata": {},
   "outputs": [],
   "source": []
  },
  {
   "cell_type": "code",
   "execution_count": null,
   "id": "77dd88e8-222d-4555-8780-fdc324165fec",
   "metadata": {},
   "outputs": [],
   "source": []
  }
 ],
 "metadata": {
  "kernelspec": {
   "display_name": "Python 3 (ipykernel)",
   "language": "python",
   "name": "python3"
  },
  "language_info": {
   "codemirror_mode": {
    "name": "ipython",
    "version": 3
   },
   "file_extension": ".py",
   "mimetype": "text/x-python",
   "name": "python",
   "nbconvert_exporter": "python",
   "pygments_lexer": "ipython3",
   "version": "3.10.8"
  }
 },
 "nbformat": 4,
 "nbformat_minor": 5
}
